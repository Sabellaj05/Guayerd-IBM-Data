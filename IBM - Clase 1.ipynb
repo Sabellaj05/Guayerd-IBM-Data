{
 "cells": [
  {
   "cell_type": "markdown",
   "id": "aa9e650c-30a4-4a42-acb1-065e13744149",
   "metadata": {},
   "source": [
    "# Guayerd - IBM Data Analyst"
   ]
  },
  {
   "cell_type": "markdown",
   "id": "c099a947-12de-409a-a34d-5f15e0567f51",
   "metadata": {},
   "source": [
    "## Clase 1 - 2024/08/06"
   ]
  },
  {
   "cell_type": "code",
   "execution_count": null,
   "id": "443b3a7e-e396-4996-a421-8e442902ad5e",
   "metadata": {},
   "outputs": [],
   "source": []
  }
 ],
 "metadata": {
  "kernelspec": {
   "display_name": "Python 3 (ipykernel)",
   "language": "python",
   "name": "python3"
  },
  "language_info": {
   "codemirror_mode": {
    "name": "ipython",
    "version": 3
   },
   "file_extension": ".py",
   "mimetype": "text/x-python",
   "name": "python",
   "nbconvert_exporter": "python",
   "pygments_lexer": "ipython3",
   "version": "3.11.5"
  }
 },
 "nbformat": 4,
 "nbformat_minor": 5
}
