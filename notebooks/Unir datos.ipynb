{
 "cells": [
  {
   "cell_type": "markdown",
   "id": "d60296b8-37a8-40bb-9c82-352586b92370",
   "metadata": {
    "editable": true,
    "slideshow": {
     "slide_type": ""
    },
    "tags": []
   },
   "source": [
    "# Agregar y limpiar datos"
   ]
  },
  {
   "cell_type": "code",
   "execution_count": 189,
   "id": "3554af0f-2608-4bf4-8ce2-04ed5637257f",
   "metadata": {},
   "outputs": [],
   "source": [
    "import os\n",
    "import re\n",
    "import numpy as np\n",
    "import pandas as pd\n",
    "import matplotlib.pyplot as plt\n",
    "\n",
    "pd.set_option('display.max_rows', 500)\n",
    "%matplotlib inline"
   ]
  },
  {
   "cell_type": "code",
   "execution_count": 190,
   "id": "c5f0000a-fee7-4dd2-a5a9-2d31a69a112e",
   "metadata": {},
   "outputs": [
    {
     "name": "stdout",
     "output_type": "stream",
     "text": [
      "10-9 Nuevos_registros_proveedores-copy - Proveedores nuevos.csv\n",
      "10-9 donantes_nuevos_registros-copy.xlsx - donantes_nuevos_registros.csv\n",
      "Donantes - viejos.csv\n",
      "Donantes.xlsx\n",
      "Proveedores - Proveedores.csv\n"
     ]
    }
   ],
   "source": [
    "!ls ./Datos/10-9-extras/"
   ]
  },
  {
   "cell_type": "code",
   "execution_count": 191,
   "id": "7d178623-82a6-4d37-9a2a-b1eb5b37a3b6",
   "metadata": {},
   "outputs": [],
   "source": [
    "# Dataframes\n",
    "data_prov_old = \"./Datos/10-9-extras/Proveedores - Proveedores.csv\"\n",
    "data_donan_old = \"./Datos/10-9-extras/Donantes.xlsx\"\n",
    "data_prov = \"./Datos/10-9-extras/10-9 Nuevos_registros_proveedores-copy - Proveedores nuevos.csv\"\n",
    "data_donan = \"./Datos/10-9-extras/10-9 donantes_nuevos_registros-copy.xlsx - donantes_nuevos_registros.csv\"\n",
    "\n",
    "# old\n",
    "dfpo = pd.read_csv(data_prov_old)\n",
    "dfdo = pd.read_excel(data_donan_old, sheet_name=\"Donantes\")\n",
    "# new\n",
    "dfpn = pd.read_csv(data_prov)\n",
    "dfdn = pd.read_csv(data_donan)"
   ]
  },
  {
   "cell_type": "markdown",
   "id": "5be840ff-2230-48a0-88c7-db19016f180c",
   "metadata": {},
   "source": [
    "#### ***NOTA***\n",
    "***fecha de alta como fecha de donacion, codigo area como argentina/buenos aires***\n",
    "\n",
    "---"
   ]
  },
  {
   "cell_type": "markdown",
   "id": "81b3d109-6add-4433-ae4f-3653e4bfe360",
   "metadata": {},
   "source": [
    "## Viejo vs nuevo"
   ]
  },
  {
   "cell_type": "markdown",
   "id": "e4c7623d-3c1b-484e-b51a-02faf2d999ef",
   "metadata": {},
   "source": [
    "### Proveedores"
   ]
  },
  {
   "cell_type": "code",
   "execution_count": 192,
   "id": "5bb19b18-ce0a-4d77-94bb-ee75b4a3ec60",
   "metadata": {},
   "outputs": [
    {
     "name": "stdout",
     "output_type": "stream",
     "text": [
      "prov_old shape: (150, 12), prov_new shape: (373, 16)\n",
      "\n"
     ]
    },
    {
     "data": {
      "text/html": [
       "<div>\n",
       "<style scoped>\n",
       "    .dataframe tbody tr th:only-of-type {\n",
       "        vertical-align: middle;\n",
       "    }\n",
       "\n",
       "    .dataframe tbody tr th {\n",
       "        vertical-align: top;\n",
       "    }\n",
       "\n",
       "    .dataframe thead th {\n",
       "        text-align: right;\n",
       "    }\n",
       "</style>\n",
       "<table border=\"1\" class=\"dataframe\">\n",
       "  <thead>\n",
       "    <tr style=\"text-align: right;\">\n",
       "      <th></th>\n",
       "      <th>Viejos</th>\n",
       "      <th>Nuevos</th>\n",
       "    </tr>\n",
       "  </thead>\n",
       "  <tbody>\n",
       "    <tr>\n",
       "      <th>0</th>\n",
       "      <td>Número Proveedor</td>\n",
       "      <td>Número Proveedor</td>\n",
       "    </tr>\n",
       "    <tr>\n",
       "      <th>1</th>\n",
       "      <td>Nombre Proveedor</td>\n",
       "      <td>Nombre Proveedor</td>\n",
       "    </tr>\n",
       "    <tr>\n",
       "      <th>2</th>\n",
       "      <td>CUIT</td>\n",
       "      <td>CUIT</td>\n",
       "    </tr>\n",
       "    <tr>\n",
       "      <th>3</th>\n",
       "      <td>Categoria Proveedor</td>\n",
       "      <td>Categor/a Proveedor</td>\n",
       "    </tr>\n",
       "    <tr>\n",
       "      <th>4</th>\n",
       "      <td>Tipo de Contribuyente</td>\n",
       "      <td>Tipo de Contribuyente</td>\n",
       "    </tr>\n",
       "    <tr>\n",
       "      <th>5</th>\n",
       "      <td>Contacto</td>\n",
       "      <td>Observaciones</td>\n",
       "    </tr>\n",
       "    <tr>\n",
       "      <th>6</th>\n",
       "      <td>Correo Electrónico</td>\n",
       "      <td>Contacto</td>\n",
       "    </tr>\n",
       "    <tr>\n",
       "      <th>7</th>\n",
       "      <td>Teléfono</td>\n",
       "      <td>Correo Electrónico</td>\n",
       "    </tr>\n",
       "    <tr>\n",
       "      <th>8</th>\n",
       "      <td>Razón Social</td>\n",
       "      <td>Teléfono</td>\n",
       "    </tr>\n",
       "    <tr>\n",
       "      <th>9</th>\n",
       "      <td>Importe</td>\n",
       "      <td>Razón Social</td>\n",
       "    </tr>\n",
       "    <tr>\n",
       "      <th>10</th>\n",
       "      <td>Fecha</td>\n",
       "      <td>Importe</td>\n",
       "    </tr>\n",
       "    <tr>\n",
       "      <th>11</th>\n",
       "      <td>Nro_Cuenta</td>\n",
       "      <td>Fecha</td>\n",
       "    </tr>\n",
       "    <tr>\n",
       "      <th>12</th>\n",
       "      <td>NaN</td>\n",
       "      <td>Nro_Cuenta</td>\n",
       "    </tr>\n",
       "    <tr>\n",
       "      <th>13</th>\n",
       "      <td>NaN</td>\n",
       "      <td>Ciudad</td>\n",
       "    </tr>\n",
       "    <tr>\n",
       "      <th>14</th>\n",
       "      <td>NaN</td>\n",
       "      <td>Pais</td>\n",
       "    </tr>\n",
       "    <tr>\n",
       "      <th>15</th>\n",
       "      <td>NaN</td>\n",
       "      <td>Maps</td>\n",
       "    </tr>\n",
       "  </tbody>\n",
       "</table>\n",
       "</div>"
      ],
      "text/plain": [
       "                   Viejos                 Nuevos\n",
       "0        Número Proveedor       Número Proveedor\n",
       "1        Nombre Proveedor       Nombre Proveedor\n",
       "2                    CUIT                   CUIT\n",
       "3     Categoria Proveedor    Categor/a Proveedor\n",
       "4   Tipo de Contribuyente  Tipo de Contribuyente\n",
       "5                Contacto          Observaciones\n",
       "6      Correo Electrónico               Contacto\n",
       "7                Teléfono     Correo Electrónico\n",
       "8            Razón Social               Teléfono\n",
       "9                 Importe           Razón Social\n",
       "10                  Fecha                Importe\n",
       "11             Nro_Cuenta                  Fecha\n",
       "12                    NaN             Nro_Cuenta\n",
       "13                    NaN                 Ciudad\n",
       "14                    NaN                   Pais\n",
       "15                    NaN                   Maps"
      ]
     },
     "execution_count": 192,
     "metadata": {},
     "output_type": "execute_result"
    }
   ],
   "source": [
    "sp_old = pd.Series(dfpo.columns.to_list())\n",
    "sp_new = pd.Series(dfpn.columns.to_list())\n",
    "\n",
    "display_prov = pd.concat([sp_old, sp_new], axis=1)\n",
    "print(f\"prov_old shape: {dfpo.shape}, prov_new shape: {dfpn.shape}\\n\")\n",
    "display_prov.columns = [\"Viejos\", \"Nuevos\"]\n",
    "display_prov"
   ]
  },
  {
   "cell_type": "markdown",
   "id": "9ac3754c-9fc4-4909-a1e3-f77a18d1d91e",
   "metadata": {},
   "source": [
    "### Donantes"
   ]
  },
  {
   "cell_type": "code",
   "execution_count": 193,
   "id": "8bc037b7-108b-48cf-8011-1fb4b6e31c47",
   "metadata": {},
   "outputs": [
    {
     "name": "stdout",
     "output_type": "stream",
     "text": [
      "prov_old shape: (109, 18), prov_new shape: (499, 19)\n",
      "\n"
     ]
    },
    {
     "data": {
      "text/html": [
       "<div>\n",
       "<style scoped>\n",
       "    .dataframe tbody tr th:only-of-type {\n",
       "        vertical-align: middle;\n",
       "    }\n",
       "\n",
       "    .dataframe tbody tr th {\n",
       "        vertical-align: top;\n",
       "    }\n",
       "\n",
       "    .dataframe thead th {\n",
       "        text-align: right;\n",
       "    }\n",
       "</style>\n",
       "<table border=\"1\" class=\"dataframe\">\n",
       "  <thead>\n",
       "    <tr style=\"text-align: right;\">\n",
       "      <th></th>\n",
       "      <th>Viejos</th>\n",
       "      <th>Nuevos</th>\n",
       "    </tr>\n",
       "  </thead>\n",
       "  <tbody>\n",
       "    <tr>\n",
       "      <th>0</th>\n",
       "      <td>Número</td>\n",
       "      <td>Numero</td>\n",
       "    </tr>\n",
       "    <tr>\n",
       "      <th>1</th>\n",
       "      <td>Nombre</td>\n",
       "      <td>Nombre</td>\n",
       "    </tr>\n",
       "    <tr>\n",
       "      <th>2</th>\n",
       "      <td>Tipo</td>\n",
       "      <td>Tipo</td>\n",
       "    </tr>\n",
       "    <tr>\n",
       "      <th>3</th>\n",
       "      <td>Contacto</td>\n",
       "      <td>Contacto</td>\n",
       "    </tr>\n",
       "    <tr>\n",
       "      <th>4</th>\n",
       "      <td>Cargo</td>\n",
       "      <td>Cargo</td>\n",
       "    </tr>\n",
       "    <tr>\n",
       "      <th>5</th>\n",
       "      <td>Correo Electrónico</td>\n",
       "      <td>Correo Electrónico</td>\n",
       "    </tr>\n",
       "    <tr>\n",
       "      <th>6</th>\n",
       "      <td>Teléfono</td>\n",
       "      <td>Telefono</td>\n",
       "    </tr>\n",
       "    <tr>\n",
       "      <th>7</th>\n",
       "      <td>Observaciones</td>\n",
       "      <td>Observaciones</td>\n",
       "    </tr>\n",
       "    <tr>\n",
       "      <th>8</th>\n",
       "      <td>Razon Social</td>\n",
       "      <td>Razon Social</td>\n",
       "    </tr>\n",
       "    <tr>\n",
       "      <th>9</th>\n",
       "      <td>Tipo de Contribuyente</td>\n",
       "      <td>Tipo de Contribuyente</td>\n",
       "    </tr>\n",
       "    <tr>\n",
       "      <th>10</th>\n",
       "      <td>CUIT</td>\n",
       "      <td>CUIT</td>\n",
       "    </tr>\n",
       "    <tr>\n",
       "      <th>11</th>\n",
       "      <td>Alta</td>\n",
       "      <td>Alta</td>\n",
       "    </tr>\n",
       "    <tr>\n",
       "      <th>12</th>\n",
       "      <td>Baja</td>\n",
       "      <td>Baja</td>\n",
       "    </tr>\n",
       "    <tr>\n",
       "      <th>13</th>\n",
       "      <td>Activo</td>\n",
       "      <td>Activo</td>\n",
       "    </tr>\n",
       "    <tr>\n",
       "      <th>14</th>\n",
       "      <td>Frecuencia</td>\n",
       "      <td>Frecuencia</td>\n",
       "    </tr>\n",
       "    <tr>\n",
       "      <th>15</th>\n",
       "      <td>Importe</td>\n",
       "      <td>Importe</td>\n",
       "    </tr>\n",
       "    <tr>\n",
       "      <th>16</th>\n",
       "      <td>Nro de Cuenta</td>\n",
       "      <td>Nro de Cuenta</td>\n",
       "    </tr>\n",
       "    <tr>\n",
       "      <th>17</th>\n",
       "      <td>Mes</td>\n",
       "      <td>Fecha_Donación</td>\n",
       "    </tr>\n",
       "    <tr>\n",
       "      <th>18</th>\n",
       "      <td>NaN</td>\n",
       "      <td>País</td>\n",
       "    </tr>\n",
       "  </tbody>\n",
       "</table>\n",
       "</div>"
      ],
      "text/plain": [
       "                   Viejos                 Nuevos\n",
       "0                  Número                 Numero\n",
       "1                  Nombre                 Nombre\n",
       "2                    Tipo                   Tipo\n",
       "3                Contacto               Contacto\n",
       "4                   Cargo                  Cargo\n",
       "5      Correo Electrónico     Correo Electrónico\n",
       "6                Teléfono               Telefono\n",
       "7           Observaciones          Observaciones\n",
       "8            Razon Social           Razon Social\n",
       "9   Tipo de Contribuyente  Tipo de Contribuyente\n",
       "10                   CUIT                   CUIT\n",
       "11                   Alta                   Alta\n",
       "12                   Baja                   Baja\n",
       "13                 Activo                 Activo\n",
       "14             Frecuencia             Frecuencia\n",
       "15                Importe                Importe\n",
       "16          Nro de Cuenta          Nro de Cuenta\n",
       "17                    Mes         Fecha_Donación\n",
       "18                    NaN                   País"
      ]
     },
     "execution_count": 193,
     "metadata": {},
     "output_type": "execute_result"
    }
   ],
   "source": [
    "sd_old = pd.Series(dfdo.columns.to_list())\n",
    "sd_new = pd.Series(dfdn.columns.to_list())\n",
    "\n",
    "display_don = pd.concat([sd_old, sd_new] ,axis=1)\n",
    "print(f\"prov_old shape: {dfdo.shape}, prov_new shape: {dfdn.shape}\\n\")\n",
    "display_don.columns = [\"Viejos\", \"Nuevos\"]\n",
    "display_don"
   ]
  },
  {
   "cell_type": "code",
   "execution_count": 194,
   "id": "853c37c1",
   "metadata": {},
   "outputs": [
    {
     "data": {
      "text/html": [
       "<div>\n",
       "<style scoped>\n",
       "    .dataframe tbody tr th:only-of-type {\n",
       "        vertical-align: middle;\n",
       "    }\n",
       "\n",
       "    .dataframe tbody tr th {\n",
       "        vertical-align: top;\n",
       "    }\n",
       "\n",
       "    .dataframe thead th {\n",
       "        text-align: right;\n",
       "    }\n",
       "</style>\n",
       "<table border=\"1\" class=\"dataframe\">\n",
       "  <thead>\n",
       "    <tr style=\"text-align: right;\">\n",
       "      <th></th>\n",
       "      <th>Viejos</th>\n",
       "      <th>Nuevos</th>\n",
       "    </tr>\n",
       "  </thead>\n",
       "  <tbody>\n",
       "    <tr>\n",
       "      <th>17</th>\n",
       "      <td>Mes</td>\n",
       "      <td>Fecha_Donación</td>\n",
       "    </tr>\n",
       "    <tr>\n",
       "      <th>18</th>\n",
       "      <td>NaN</td>\n",
       "      <td>País</td>\n",
       "    </tr>\n",
       "  </tbody>\n",
       "</table>\n",
       "</div>"
      ],
      "text/plain": [
       "   Viejos          Nuevos\n",
       "17    Mes  Fecha_Donación\n",
       "18    NaN            País"
      ]
     },
     "execution_count": 194,
     "metadata": {},
     "output_type": "execute_result"
    }
   ],
   "source": [
    "display_don.tail(2)"
   ]
  },
  {
   "cell_type": "markdown",
   "id": "173b83d0",
   "metadata": {},
   "source": [
    "La diferencia es en la columna de `Mes` que cree anteriormente y 2 nuevas columnas `Fecha_Donación` y `País`\n",
    "\n",
    "---"
   ]
  },
  {
   "cell_type": "markdown",
   "id": "5788d752",
   "metadata": {},
   "source": [
    "## Un poco de limpieza de los nuevos datos antes de empezar a unir"
   ]
  },
  {
   "cell_type": "markdown",
   "id": "8156939b",
   "metadata": {},
   "source": [
    "**Proveedores**"
   ]
  },
  {
   "cell_type": "code",
   "execution_count": 195,
   "id": "53c1ae38",
   "metadata": {},
   "outputs": [
    {
     "name": "stdout",
     "output_type": "stream",
     "text": [
      "<class 'pandas.core.frame.DataFrame'>\n",
      "RangeIndex: 373 entries, 0 to 372\n",
      "Data columns (total 16 columns):\n",
      " #   Column                 Non-Null Count  Dtype  \n",
      "---  ------                 --------------  -----  \n",
      " 0   Número Proveedor       373 non-null    object \n",
      " 1   Nombre Proveedor       373 non-null    object \n",
      " 2   CUIT                   373 non-null    object \n",
      " 3   Categor/a Proveedor    373 non-null    object \n",
      " 4   Tipo de Contribuyente  373 non-null    object \n",
      " 5   Observaciones          373 non-null    object \n",
      " 6   Contacto               373 non-null    object \n",
      " 7   Correo Electrónico     373 non-null    object \n",
      " 8   Teléfono               373 non-null    object \n",
      " 9   Razón Social           373 non-null    object \n",
      " 10  Importe                373 non-null    object \n",
      " 11  Fecha                  373 non-null    object \n",
      " 12  Nro_Cuenta             373 non-null    int64  \n",
      " 13  Ciudad                 373 non-null    object \n",
      " 14  Pais                   373 non-null    object \n",
      " 15  Maps                   0 non-null      float64\n",
      "dtypes: float64(1), int64(1), object(14)\n",
      "memory usage: 46.8+ KB\n"
     ]
    }
   ],
   "source": [
    "dfpn.info()"
   ]
  },
  {
   "cell_type": "markdown",
   "id": "71f67a58",
   "metadata": {},
   "source": [
    "#### **NOTA**  \n",
    "***Samplear distribucion de ciudades, y imputarlas en las columnas que faltan para despues unir los datos, despues generar verdaderos numeros de telefonos en base a la ciudad `+54[area][numero-random-con-sentido]`***\n",
    "\n",
    "---"
   ]
  },
  {
   "cell_type": "markdown",
   "id": "6ee8217f",
   "metadata": {},
   "source": [
    "Solo la columna Maps esta vacia pero eso lo arreglamos al final"
   ]
  },
  {
   "cell_type": "markdown",
   "id": "7947385d",
   "metadata": {},
   "source": [
    "Un vistazo rapido con [_Data Wrangler_](https://code.visualstudio.com/docs/datascience/data-wrangler) podemos ver que solo hay que limpiar 3 columnas  \n",
    "Algunos `'/'` extras en **Categoria proveedor** y **Tipo de contribuyente**, y algunos `'AR'` extras en los numeros de telefono. Tambien dropeamos la columna **Observaciones** ya que no aporta nada"
   ]
  },
  {
   "cell_type": "code",
   "execution_count": 196,
   "id": "8c8fbc3f",
   "metadata": {},
   "outputs": [],
   "source": [
    "dfpn_bk = dfpn.copy()\n",
    "\n",
    "def clean_prov_new(df: pd.DataFrame) -> pd.DataFrame:\n",
    "  df = df.drop([\"Observaciones\"], axis=1)\n",
    "  df.rename(columns={\"Categor/a Proveedor\": \"Categoria Proveedor\"}, inplace=True)\n",
    "\n",
    "  cols_lower = [\"Categoria Proveedor\", \"Tipo de Contribuyente\"]\n",
    "  # aplicamos .lower a nivel de fila en ambas columnas (funciona porque ambas son str)\n",
    "  df[cols_lower] = df[cols_lower].apply(lambda x: x.str.capitalize())\n",
    "\n",
    "  ## Piola usando apply pero muy largo, buena oportunidad para mejorar en regex\n",
    "  # def clean_slash(value):\n",
    "  #   if \"/\" in value:\n",
    "  #     slash = value.index(\"/\")\n",
    "  #     if value[slash - 1] == \"i\" or value[slash + 1] == \"i\":\n",
    "  #       return value.replace(\"/\", \"\")\n",
    "  #     else:\n",
    "  #       return value.replace(\"/\", \"i\")\n",
    "  #   else:\n",
    "  #     return value\n",
    "  # df[\"Categoria Proveedor\"] = df[\"Categoria Proveedor\"].apply(clean_slash)\n",
    "  #\n",
    "  cl = \"Categoria Proveedor\"\n",
    "  df[cl] = df[cl].str.replace(\"/\", \"i\").str.replace(\"Materiiales\", \"Materiales\")\n",
    "\n",
    "  df[\"Tipo de Contribuyente\"] = df[\"Tipo de Contribuyente\"].str.replace(\"/\", \"i\")\n",
    "  df[\"Teléfono\"] = df[\"Teléfono\"].str.replace(\"AR\", \"\")\n",
    "  return df"
   ]
  },
  {
   "cell_type": "code",
   "execution_count": 197,
   "id": "b7c4cc67",
   "metadata": {},
   "outputs": [
    {
     "data": {
      "text/html": [
       "<div>\n",
       "<style scoped>\n",
       "    .dataframe tbody tr th:only-of-type {\n",
       "        vertical-align: middle;\n",
       "    }\n",
       "\n",
       "    .dataframe tbody tr th {\n",
       "        vertical-align: top;\n",
       "    }\n",
       "\n",
       "    .dataframe thead th {\n",
       "        text-align: right;\n",
       "    }\n",
       "</style>\n",
       "<table border=\"1\" class=\"dataframe\">\n",
       "  <thead>\n",
       "    <tr style=\"text-align: right;\">\n",
       "      <th></th>\n",
       "      <th>Número Proveedor</th>\n",
       "      <th>Nombre Proveedor</th>\n",
       "      <th>CUIT</th>\n",
       "      <th>Categoria Proveedor</th>\n",
       "      <th>Tipo de Contribuyente</th>\n",
       "      <th>Contacto</th>\n",
       "      <th>Correo Electrónico</th>\n",
       "      <th>Teléfono</th>\n",
       "      <th>Razón Social</th>\n",
       "      <th>Importe</th>\n",
       "      <th>Fecha</th>\n",
       "      <th>Nro_Cuenta</th>\n",
       "      <th>Ciudad</th>\n",
       "      <th>Pais</th>\n",
       "      <th>Maps</th>\n",
       "    </tr>\n",
       "  </thead>\n",
       "  <tbody>\n",
       "    <tr>\n",
       "      <th>11</th>\n",
       "      <td>P00009</td>\n",
       "      <td>Fernando Gómez</td>\n",
       "      <td>30-12345679-8</td>\n",
       "      <td>Materiales</td>\n",
       "      <td>Responsabile inscripto</td>\n",
       "      <td>Fernando Gómez</td>\n",
       "      <td>fernando.gomez@correo.zom</td>\n",
       "      <td>9012-3456</td>\n",
       "      <td>S.A.</td>\n",
       "      <td>151.274,00</td>\n",
       "      <td>6/03/2024</td>\n",
       "      <td>509100</td>\n",
       "      <td>Mendoza</td>\n",
       "      <td>Argentina</td>\n",
       "      <td>NaN</td>\n",
       "    </tr>\n",
       "    <tr>\n",
       "      <th>10</th>\n",
       "      <td>P00009</td>\n",
       "      <td>Fernando Gómez</td>\n",
       "      <td>30-12345679-8</td>\n",
       "      <td>Materiales</td>\n",
       "      <td>Responsabile inscripto</td>\n",
       "      <td>Fernando Gómez</td>\n",
       "      <td>fernando.gomez@correo.zom</td>\n",
       "      <td>9012-3456</td>\n",
       "      <td>S.A.</td>\n",
       "      <td>12.373,00</td>\n",
       "      <td>20/01/2024</td>\n",
       "      <td>509100</td>\n",
       "      <td>Mendoza</td>\n",
       "      <td>Argentina</td>\n",
       "      <td>NaN</td>\n",
       "    </tr>\n",
       "    <tr>\n",
       "      <th>27</th>\n",
       "      <td>P00018</td>\n",
       "      <td>Consultora Zeta</td>\n",
       "      <td>30-19283747-0</td>\n",
       "      <td>Servicios</td>\n",
       "      <td>Responsable inscriito</td>\n",
       "      <td>Laura Sánchez</td>\n",
       "      <td>laura.sanchez@empresa.zom</td>\n",
       "      <td>8901-2345</td>\n",
       "      <td>S.R.L.</td>\n",
       "      <td>122.441,00</td>\n",
       "      <td>3/01/2024</td>\n",
       "      <td>501400</td>\n",
       "      <td>San Rafael</td>\n",
       "      <td>Argentina</td>\n",
       "      <td>NaN</td>\n",
       "    </tr>\n",
       "    <tr>\n",
       "      <th>28</th>\n",
       "      <td>P00018</td>\n",
       "      <td>Consultora Zeta</td>\n",
       "      <td>30-19283747-0</td>\n",
       "      <td>Servicios</td>\n",
       "      <td>Responsable inscriito</td>\n",
       "      <td>Laura Sánchez</td>\n",
       "      <td>laura.sanchez@empresa.zom</td>\n",
       "      <td>8901-2345</td>\n",
       "      <td>S.R.L.</td>\n",
       "      <td>133.962,00</td>\n",
       "      <td>4/02/2024</td>\n",
       "      <td>501400</td>\n",
       "      <td>San Rafael</td>\n",
       "      <td>Argentina</td>\n",
       "      <td>NaN</td>\n",
       "    </tr>\n",
       "    <tr>\n",
       "      <th>8</th>\n",
       "      <td>P00008</td>\n",
       "      <td>Compañía Beta</td>\n",
       "      <td>30-74859632-7</td>\n",
       "      <td>Agente impositivo</td>\n",
       "      <td>Monotributista</td>\n",
       "      <td>Laura Martínez</td>\n",
       "      <td>laura.martinez@empresa.zom</td>\n",
       "      <td>8901-2345</td>\n",
       "      <td>S.R.L.</td>\n",
       "      <td>110.198,00</td>\n",
       "      <td>12/06/2024</td>\n",
       "      <td>506100</td>\n",
       "      <td>La Plata</td>\n",
       "      <td>Argentina</td>\n",
       "      <td>NaN</td>\n",
       "    </tr>\n",
       "  </tbody>\n",
       "</table>\n",
       "</div>"
      ],
      "text/plain": [
       "   Número Proveedor Nombre Proveedor           CUIT Categoria Proveedor  \\\n",
       "11           P00009   Fernando Gómez  30-12345679-8          Materiales   \n",
       "10           P00009   Fernando Gómez  30-12345679-8          Materiales   \n",
       "27           P00018  Consultora Zeta  30-19283747-0           Servicios   \n",
       "28           P00018  Consultora Zeta  30-19283747-0           Servicios   \n",
       "8            P00008    Compañía Beta  30-74859632-7   Agente impositivo   \n",
       "\n",
       "     Tipo de Contribuyente         Contacto          Correo Electrónico  \\\n",
       "11  Responsabile inscripto   Fernando Gómez   fernando.gomez@correo.zom   \n",
       "10  Responsabile inscripto   Fernando Gómez   fernando.gomez@correo.zom   \n",
       "27   Responsable inscriito    Laura Sánchez   laura.sanchez@empresa.zom   \n",
       "28   Responsable inscriito    Laura Sánchez   laura.sanchez@empresa.zom   \n",
       "8           Monotributista   Laura Martínez  laura.martinez@empresa.zom   \n",
       "\n",
       "     Teléfono Razón Social     Importe       Fecha  Nro_Cuenta      Ciudad  \\\n",
       "11  9012-3456         S.A.  151.274,00   6/03/2024      509100     Mendoza   \n",
       "10  9012-3456         S.A.   12.373,00  20/01/2024      509100     Mendoza   \n",
       "27  8901-2345       S.R.L.  122.441,00   3/01/2024      501400  San Rafael   \n",
       "28  8901-2345       S.R.L.  133.962,00   4/02/2024      501400  San Rafael   \n",
       "8   8901-2345       S.R.L.  110.198,00  12/06/2024      506100    La Plata   \n",
       "\n",
       "         Pais  Maps  \n",
       "11  Argentina   NaN  \n",
       "10  Argentina   NaN  \n",
       "27  Argentina   NaN  \n",
       "28  Argentina   NaN  \n",
       "8   Argentina   NaN  "
      ]
     },
     "execution_count": 197,
     "metadata": {},
     "output_type": "execute_result"
    }
   ],
   "source": [
    "# check\n",
    "dfpn_clean = clean_prov_new(dfpn)\n",
    "dfpn_clean.sort_values(by=[\"Teléfono\"], ascending=False).head()"
   ]
  },
  {
   "cell_type": "code",
   "execution_count": 198,
   "id": "fd215331",
   "metadata": {},
   "outputs": [
    {
     "data": {
      "text/plain": [
       "array(['Servicios', 'Materiales', 'Agente impositivo', 'Tecnología',\n",
       "       'Consultoría', 'Energía renovable', 'Transporte', 'Construcción',\n",
       "       'Agroindustria', 'Software', 'Consultoría it', 'Energía eólica',\n",
       "       'Energía solar'], dtype=object)"
      ]
     },
     "execution_count": 198,
     "metadata": {},
     "output_type": "execute_result"
    }
   ],
   "source": [
    "dfpn_clean[\"Categoria Proveedor\"].unique()"
   ]
  },
  {
   "cell_type": "code",
   "execution_count": 199,
   "id": "caf50d5c",
   "metadata": {},
   "outputs": [
    {
     "data": {
      "image/png": "[encoded data removed]",
      "text/plain": [
       "<Figure size 640x480 with 1 Axes>"
      ]
     },
     "metadata": {},
     "output_type": "display_data"
    }
   ],
   "source": [
    "dfpn_clean[\"Categoria Proveedor\"].value_counts() \\\n",
    "  .sort_values(ascending=True) \\\n",
    "  .plot(kind=\"barh\",\n",
    "         title=\"Proveedores por Categoria\")\n",
    "plt.show()"
   ]
  },
  {
   "cell_type": "markdown",
   "id": "0e4b1c5b",
   "metadata": {},
   "source": [
    "**NOTA**: Cambiar los telefonos acorde a los paises"
   ]
  },
  {
   "cell_type": "markdown",
   "id": "d1ee2d22",
   "metadata": {},
   "source": [
    "---"
   ]
  },
  {
   "cell_type": "markdown",
   "id": "04cb72a3-e24a-4da0-b4bc-cfba0c6ddd33",
   "metadata": {},
   "source": [
    "## Empezar a acomodar las columnas"
   ]
  },
  {
   "cell_type": "markdown",
   "id": "21f4f06a",
   "metadata": {},
   "source": [
    "**Proveedores**"
   ]
  },
  {
   "cell_type": "markdown",
   "id": "6c051686",
   "metadata": {},
   "source": [
    "Primero que nada para evitar unir los datos y que haya datos faltantes en el anterior dataset de 150 registros con los nuevos 373 registros los cuales tienen 3 columnas nuevas, voy a primero agregar esas 3 columnas con 150 registros.  \n",
    "\n",
    "El campo `Pais` y `Maps` es simple ya que es solo 1 dato, pero en el campo `Ciudad` voy a agarrar la distribucion de las ciudades de los nuevos datos y generar 150 nuevas para despues poder unir todo y que tenga sentido."
   ]
  },
  {
   "cell_type": "code",
   "execution_count": 200,
   "id": "5c977a7b",
   "metadata": {},
   "outputs": [
    {
     "data": {
      "text/html": [
       "<div>\n",
       "<style scoped>\n",
       "    .dataframe tbody tr th:only-of-type {\n",
       "        vertical-align: middle;\n",
       "    }\n",
       "\n",
       "    .dataframe tbody tr th {\n",
       "        vertical-align: top;\n",
       "    }\n",
       "\n",
       "    .dataframe thead th {\n",
       "        text-align: right;\n",
       "    }\n",
       "</style>\n",
       "<table border=\"1\" class=\"dataframe\">\n",
       "  <thead>\n",
       "    <tr style=\"text-align: right;\">\n",
       "      <th></th>\n",
       "      <th>Ciudad</th>\n",
       "      <th>count</th>\n",
       "      <th>Probabilidad</th>\n",
       "    </tr>\n",
       "  </thead>\n",
       "  <tbody>\n",
       "    <tr>\n",
       "      <th>0</th>\n",
       "      <td>Buenos Aires</td>\n",
       "      <td>73</td>\n",
       "      <td>0.195710</td>\n",
       "    </tr>\n",
       "    <tr>\n",
       "      <th>1</th>\n",
       "      <td>Mendoza</td>\n",
       "      <td>18</td>\n",
       "      <td>0.048257</td>\n",
       "    </tr>\n",
       "    <tr>\n",
       "      <th>2</th>\n",
       "      <td>Merlo</td>\n",
       "      <td>16</td>\n",
       "      <td>0.042895</td>\n",
       "    </tr>\n",
       "    <tr>\n",
       "      <th>3</th>\n",
       "      <td>Bahía Blanca</td>\n",
       "      <td>14</td>\n",
       "      <td>0.037534</td>\n",
       "    </tr>\n",
       "    <tr>\n",
       "      <th>4</th>\n",
       "      <td>Villa María</td>\n",
       "      <td>11</td>\n",
       "      <td>0.029491</td>\n",
       "    </tr>\n",
       "  </tbody>\n",
       "</table>\n",
       "</div>"
      ],
      "text/plain": [
       "         Ciudad  count  Probabilidad\n",
       "0  Buenos Aires     73      0.195710\n",
       "1       Mendoza     18      0.048257\n",
       "2         Merlo     16      0.042895\n",
       "3  Bahía Blanca     14      0.037534\n",
       "4   Villa María     11      0.029491"
      ]
     },
     "execution_count": 200,
     "metadata": {},
     "output_type": "execute_result"
    }
   ],
   "source": [
    "# Creamos la distribucion para despues samplearla al agregar las ciudades\n",
    "ciudad_pd = dfpn_clean[\"Ciudad\"].value_counts().reset_index()\n",
    "ciudad_pd[\"Probabilidad\"] = ciudad_pd[\"count\"] / ciudad_pd[\"count\"].sum()\n",
    "ciudad_pd.head()\n"
   ]
  },
  {
   "cell_type": "markdown",
   "id": "9530c45c",
   "metadata": {},
   "source": [
    "Ahora usamos `random.choice` agarrando 150 ciudades basadas en la distribucion"
   ]
  },
  {
   "cell_type": "code",
   "execution_count": 201,
   "id": "017bfddd",
   "metadata": {},
   "outputs": [],
   "source": [
    "ciudades = ciudad_pd[\"Ciudad\"]\n",
    "proba = ciudad_pd[\"Probabilidad\"]\n",
    "size = 150\n",
    "ciudad_sample = np.random.choice(ciudades, size=size, p=proba)"
   ]
  },
  {
   "cell_type": "markdown",
   "id": "3edadc74",
   "metadata": {},
   "source": [
    "Agregamos las 3 columnas para despues unir todo a nivel registro"
   ]
  },
  {
   "cell_type": "code",
   "execution_count": 202,
   "id": "00dbbeb8-ef93-49c1-8ffc-3a85086d89e2",
   "metadata": {},
   "outputs": [
    {
     "name": "stdout",
     "output_type": "stream",
     "text": [
      "(150, 15)\n"
     ]
    },
    {
     "data": {
      "text/html": [
       "<div>\n",
       "<style scoped>\n",
       "    .dataframe tbody tr th:only-of-type {\n",
       "        vertical-align: middle;\n",
       "    }\n",
       "\n",
       "    .dataframe tbody tr th {\n",
       "        vertical-align: top;\n",
       "    }\n",
       "\n",
       "    .dataframe thead th {\n",
       "        text-align: right;\n",
       "    }\n",
       "</style>\n",
       "<table border=\"1\" class=\"dataframe\">\n",
       "  <thead>\n",
       "    <tr style=\"text-align: right;\">\n",
       "      <th></th>\n",
       "      <th>Nro_Cuenta</th>\n",
       "      <th>Ciudad</th>\n",
       "      <th>Pais</th>\n",
       "      <th>Maps</th>\n",
       "    </tr>\n",
       "  </thead>\n",
       "  <tbody>\n",
       "    <tr>\n",
       "      <th>0</th>\n",
       "      <td>509100</td>\n",
       "      <td>Junín</td>\n",
       "      <td>Argentina</td>\n",
       "      <td>NaN</td>\n",
       "    </tr>\n",
       "    <tr>\n",
       "      <th>1</th>\n",
       "      <td>503100</td>\n",
       "      <td>Rosario</td>\n",
       "      <td>Argentina</td>\n",
       "      <td>NaN</td>\n",
       "    </tr>\n",
       "    <tr>\n",
       "      <th>2</th>\n",
       "      <td>509100</td>\n",
       "      <td>General Roca</td>\n",
       "      <td>Argentina</td>\n",
       "      <td>NaN</td>\n",
       "    </tr>\n",
       "    <tr>\n",
       "      <th>3</th>\n",
       "      <td>503100</td>\n",
       "      <td>Viedma</td>\n",
       "      <td>Argentina</td>\n",
       "      <td>NaN</td>\n",
       "    </tr>\n",
       "    <tr>\n",
       "      <th>4</th>\n",
       "      <td>516000</td>\n",
       "      <td>San Pedro</td>\n",
       "      <td>Argentina</td>\n",
       "      <td>NaN</td>\n",
       "    </tr>\n",
       "  </tbody>\n",
       "</table>\n",
       "</div>"
      ],
      "text/plain": [
       "   Nro_Cuenta        Ciudad       Pais  Maps\n",
       "0      509100         Junín  Argentina   NaN\n",
       "1      503100       Rosario  Argentina   NaN\n",
       "2      509100  General Roca  Argentina   NaN\n",
       "3      503100        Viedma  Argentina   NaN\n",
       "4      516000     San Pedro  Argentina   NaN"
      ]
     },
     "execution_count": 202,
     "metadata": {},
     "output_type": "execute_result"
    }
   ],
   "source": [
    "# ciudades\n",
    "ciudad_col = pd.Series(ciudad_sample)\n",
    "columns = [\"Pais\", \"Maps\"]\n",
    "cantidad = dfpo.shape[0]\n",
    "# pais y maps\n",
    "new_cols = dfpn_clean[columns][:cantidad]\n",
    "\n",
    "# unimos con los datos viejos\n",
    "\n",
    "dfp_copy = dfpo.copy()\n",
    "dfp_copy[\"Ciudad\"] = ciudad_col\n",
    "dfp_merge = pd.concat([dfp_copy, new_cols], axis=1)\n",
    "# shape\n",
    "print(dfp_merge.shape)\n",
    "dfp_merge.iloc[:, -4:].head()"
   ]
  },
  {
   "cell_type": "code",
   "execution_count": 203,
   "id": "413ea639",
   "metadata": {},
   "outputs": [
    {
     "data": {
      "text/plain": [
       "0      Servicos\n",
       "1    Materiales\n",
       "2    Materiales\n",
       "3      Servicos\n",
       "4      Servicos\n",
       "Name: Categoria Proveedor, dtype: object"
      ]
     },
     "execution_count": 203,
     "metadata": {},
     "output_type": "execute_result"
    }
   ],
   "source": [
    "# capitalize\n",
    "cl = \"Categoria Proveedor\"\n",
    "dfp_merge[cl] = dfp_merge[cl].apply(lambda x: x.capitalize())\n",
    "dfp_merge[cl].head()"
   ]
  },
  {
   "cell_type": "markdown",
   "id": "3e5059ea",
   "metadata": {},
   "source": [
    "Ahora directamente unimos todo con `dfpn_clean`"
   ]
  },
  {
   "cell_type": "code",
   "execution_count": 204,
   "id": "941ba83f",
   "metadata": {},
   "outputs": [
    {
     "name": "stdout",
     "output_type": "stream",
     "text": [
      "(523, 15)\n",
      "<class 'pandas.core.frame.DataFrame'>\n",
      "RangeIndex: 523 entries, 0 to 522\n",
      "Data columns (total 15 columns):\n",
      " #   Column                 Non-Null Count  Dtype  \n",
      "---  ------                 --------------  -----  \n",
      " 0   Número Proveedor       523 non-null    object \n",
      " 1   Nombre Proveedor       523 non-null    object \n",
      " 2   CUIT                   523 non-null    object \n",
      " 3   Categoria Proveedor    523 non-null    object \n",
      " 4   Tipo de Contribuyente  523 non-null    object \n",
      " 5   Contacto               523 non-null    object \n",
      " 6   Correo Electrónico     523 non-null    object \n",
      " 7   Teléfono               523 non-null    object \n",
      " 8   Razón Social           523 non-null    object \n",
      " 9   Importe                523 non-null    object \n",
      " 10  Fecha                  523 non-null    object \n",
      " 11  Nro_Cuenta             523 non-null    int64  \n",
      " 12  Ciudad                 523 non-null    object \n",
      " 13  Pais                   523 non-null    object \n",
      " 14  Maps                   0 non-null      float64\n",
      "dtypes: float64(1), int64(1), object(13)\n",
      "memory usage: 61.4+ KB\n"
     ]
    }
   ],
   "source": [
    "dfpmerge_final = pd.concat([dfpn_clean, dfp_merge], ignore_index=True)\n",
    "print(dfpmerge_final.shape)\n",
    "dfpmerge_final.info()"
   ]
  },
  {
   "cell_type": "markdown",
   "id": "ca6a84f2",
   "metadata": {},
   "source": [
    "Ahora que estan las nuevas filas en las columnas en comun hay que agregar las columnas nuevas"
   ]
  }
 ],
 "metadata": {
  "kernelspec": {
   "display_name": "Python 3 (ipykernel)",
   "language": "python",
   "name": "python3"
  },
  "language_info": {
   "codemirror_mode": {
    "name": "ipython",
    "version": 3
   },
   "file_extension": ".py",
   "mimetype": "text/x-python",
   "name": "python",
   "nbconvert_exporter": "python",
   "pygments_lexer": "ipython3",
   "version": "3.11.5"
  }
 },
 "nbformat": 4,
 "nbformat_minor": 5
}
