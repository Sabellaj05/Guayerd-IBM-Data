{
 "cells": [
  {
   "cell_type": "markdown",
   "id": "d60296b8-37a8-40bb-9c82-352586b92370",
   "metadata": {
    "editable": true,
    "slideshow": {
     "slide_type": ""
    },
    "tags": []
   },
   "source": [
    "# Agregar y limpiar datos"
   ]
  },
  {
   "cell_type": "code",
   "execution_count": 1,
   "id": "3554af0f-2608-4bf4-8ce2-04ed5637257f",
   "metadata": {},
   "outputs": [],
   "source": [
    "import os\n",
    "import numpy as np\n",
    "import pandas as pd\n",
    "%matplotlib inline\n",
    "import matplotlib.pyplot as plt\n",
    "pd.set_option('display.max_rows', 500)"
   ]
  },
  {
   "cell_type": "code",
   "execution_count": 3,
   "id": "c5f0000a-fee7-4dd2-a5a9-2d31a69a112e",
   "metadata": {},
   "outputs": [
    {
     "name": "stdout",
     "output_type": "stream",
     "text": [
      "10-9 Nuevos_registros_proveedores-copy - Proveedores nuevos.csv\n",
      "10-9 donantes_nuevos_registros-copy.xlsx - donantes_nuevos_registros.csv\n",
      "Donantes.xlsx\n",
      "Proveedores - Proveedores.csv\n"
     ]
    }
   ],
   "source": [
    "!ls ./Datos/10-9-extras/"
   ]
  },
  {
   "cell_type": "code",
   "execution_count": 4,
   "id": "7d178623-82a6-4d37-9a2a-b1eb5b37a3b6",
   "metadata": {},
   "outputs": [],
   "source": [
    "# Dataframes\n",
    "data_prov_old = \"./Datos/10-9-extras/Proveedores - Proveedores.csv\"\n",
    "data_donan_old = \"./Datos/10-9-extras/Donantes.xlsx\"\n",
    "data_prov = \"./Datos/10-9-extras/10-9 Nuevos_registros_proveedores-copy - Proveedores nuevos.csv\"\n",
    "data_donan = \"./Datos/10-9-extras/10-9 donantes_nuevos_registros-copy.xlsx - donantes_nuevos_registros.csv\"\n",
    "\n",
    "# old\n",
    "dfpo = pd.read_csv(data_prov_old)\n",
    "dfdo = pd.read_excel(data_donan_old, sheet_name=\"Donantes\")\n",
    "# new\n",
    "dfpn = pd.read_csv(data_prov)\n",
    "dfdn = pd.read_csv(data_donan)"
   ]
  },
  {
   "cell_type": "markdown",
   "id": "5be840ff-2230-48a0-88c7-db19016f180c",
   "metadata": {},
   "source": [
    "#### ***NOTAS***\n",
    "- _fecha de alta como fecha de donacion, codigo area como argentina/buenos aires_"
   ]
  },
  {
   "cell_type": "markdown",
   "id": "81b3d109-6add-4433-ae4f-3653e4bfe360",
   "metadata": {},
   "source": [
    "## Viejo vs nuevo"
   ]
  },
  {
   "cell_type": "markdown",
   "id": "e4c7623d-3c1b-484e-b51a-02faf2d999ef",
   "metadata": {},
   "source": [
    "### Proveedores"
   ]
  },
  {
   "cell_type": "code",
   "execution_count": 5,
   "id": "5bb19b18-ce0a-4d77-94bb-ee75b4a3ec60",
   "metadata": {},
   "outputs": [
    {
     "name": "stdout",
     "output_type": "stream",
     "text": [
      "prov_old shape: (150, 12), prov_new shape: (373, 16)\n",
      "\n"
     ]
    },
    {
     "data": {
      "text/html": [
       "<div>\n",
       "<style scoped>\n",
       "    .dataframe tbody tr th:only-of-type {\n",
       "        vertical-align: middle;\n",
       "    }\n",
       "\n",
       "    .dataframe tbody tr th {\n",
       "        vertical-align: top;\n",
       "    }\n",
       "\n",
       "    .dataframe thead th {\n",
       "        text-align: right;\n",
       "    }\n",
       "</style>\n",
       "<table border=\"1\" class=\"dataframe\">\n",
       "  <thead>\n",
       "    <tr style=\"text-align: right;\">\n",
       "      <th></th>\n",
       "      <th>Viejos</th>\n",
       "      <th>Nuevos</th>\n",
       "    </tr>\n",
       "  </thead>\n",
       "  <tbody>\n",
       "    <tr>\n",
       "      <th>0</th>\n",
       "      <td>Número Proveedor</td>\n",
       "      <td>Número Proveedor</td>\n",
       "    </tr>\n",
       "    <tr>\n",
       "      <th>1</th>\n",
       "      <td>Nombre Proveedor</td>\n",
       "      <td>Nombre Proveedor</td>\n",
       "    </tr>\n",
       "    <tr>\n",
       "      <th>2</th>\n",
       "      <td>CUIT</td>\n",
       "      <td>CUIT</td>\n",
       "    </tr>\n",
       "    <tr>\n",
       "      <th>3</th>\n",
       "      <td>Categoria Proveedor</td>\n",
       "      <td>Categor/a Proveedor</td>\n",
       "    </tr>\n",
       "    <tr>\n",
       "      <th>4</th>\n",
       "      <td>Tipo de Contribuyente</td>\n",
       "      <td>Tipo de Contribuyente</td>\n",
       "    </tr>\n",
       "    <tr>\n",
       "      <th>5</th>\n",
       "      <td>Contacto</td>\n",
       "      <td>Observaciones</td>\n",
       "    </tr>\n",
       "    <tr>\n",
       "      <th>6</th>\n",
       "      <td>Correo Electrónico</td>\n",
       "      <td>Contacto</td>\n",
       "    </tr>\n",
       "    <tr>\n",
       "      <th>7</th>\n",
       "      <td>Teléfono</td>\n",
       "      <td>Correo Electrónico</td>\n",
       "    </tr>\n",
       "    <tr>\n",
       "      <th>8</th>\n",
       "      <td>Razón Social</td>\n",
       "      <td>Teléfono</td>\n",
       "    </tr>\n",
       "    <tr>\n",
       "      <th>9</th>\n",
       "      <td>Importe</td>\n",
       "      <td>Razón Social</td>\n",
       "    </tr>\n",
       "    <tr>\n",
       "      <th>10</th>\n",
       "      <td>Fecha</td>\n",
       "      <td>Importe</td>\n",
       "    </tr>\n",
       "    <tr>\n",
       "      <th>11</th>\n",
       "      <td>Nro_Cuenta</td>\n",
       "      <td>Fecha</td>\n",
       "    </tr>\n",
       "    <tr>\n",
       "      <th>12</th>\n",
       "      <td>NaN</td>\n",
       "      <td>Nro_Cuenta</td>\n",
       "    </tr>\n",
       "    <tr>\n",
       "      <th>13</th>\n",
       "      <td>NaN</td>\n",
       "      <td>Ciudad</td>\n",
       "    </tr>\n",
       "    <tr>\n",
       "      <th>14</th>\n",
       "      <td>NaN</td>\n",
       "      <td>Pais</td>\n",
       "    </tr>\n",
       "    <tr>\n",
       "      <th>15</th>\n",
       "      <td>NaN</td>\n",
       "      <td>Maps</td>\n",
       "    </tr>\n",
       "  </tbody>\n",
       "</table>\n",
       "</div>"
      ],
      "text/plain": [
       "                   Viejos                 Nuevos\n",
       "0        Número Proveedor       Número Proveedor\n",
       "1        Nombre Proveedor       Nombre Proveedor\n",
       "2                    CUIT                   CUIT\n",
       "3     Categoria Proveedor    Categor/a Proveedor\n",
       "4   Tipo de Contribuyente  Tipo de Contribuyente\n",
       "5                Contacto          Observaciones\n",
       "6      Correo Electrónico               Contacto\n",
       "7                Teléfono     Correo Electrónico\n",
       "8            Razón Social               Teléfono\n",
       "9                 Importe           Razón Social\n",
       "10                  Fecha                Importe\n",
       "11             Nro_Cuenta                  Fecha\n",
       "12                    NaN             Nro_Cuenta\n",
       "13                    NaN                 Ciudad\n",
       "14                    NaN                   Pais\n",
       "15                    NaN                   Maps"
      ]
     },
     "execution_count": 5,
     "metadata": {},
     "output_type": "execute_result"
    }
   ],
   "source": [
    "sp_old = pd.Series(dfpo.columns.to_list())\n",
    "sp_new = pd.Series(dfpn.columns.to_list())\n",
    "\n",
    "display_prov = pd.concat([sp_old, sp_new], axis=1)\n",
    "print(f\"prov_old shape: {dfpo.shape}, prov_new shape: {dfpn.shape}\\n\")\n",
    "display_prov.columns = [\"Viejos\", \"Nuevos\"]\n",
    "display_prov"
   ]
  },
  {
   "cell_type": "markdown",
   "id": "9ac3754c-9fc4-4909-a1e3-f77a18d1d91e",
   "metadata": {},
   "source": [
    "### Donantes"
   ]
  },
  {
   "cell_type": "code",
   "execution_count": 6,
   "id": "8bc037b7-108b-48cf-8011-1fb4b6e31c47",
   "metadata": {},
   "outputs": [
    {
     "name": "stdout",
     "output_type": "stream",
     "text": [
      "prov_old shape: (109, 18), prov_new shape: (499, 19)\n",
      "\n"
     ]
    },
    {
     "data": {
      "text/html": [
       "<div>\n",
       "<style scoped>\n",
       "    .dataframe tbody tr th:only-of-type {\n",
       "        vertical-align: middle;\n",
       "    }\n",
       "\n",
       "    .dataframe tbody tr th {\n",
       "        vertical-align: top;\n",
       "    }\n",
       "\n",
       "    .dataframe thead th {\n",
       "        text-align: right;\n",
       "    }\n",
       "</style>\n",
       "<table border=\"1\" class=\"dataframe\">\n",
       "  <thead>\n",
       "    <tr style=\"text-align: right;\">\n",
       "      <th></th>\n",
       "      <th>Viejos</th>\n",
       "      <th>Nuevos</th>\n",
       "    </tr>\n",
       "  </thead>\n",
       "  <tbody>\n",
       "    <tr>\n",
       "      <th>0</th>\n",
       "      <td>Número</td>\n",
       "      <td>Numero</td>\n",
       "    </tr>\n",
       "    <tr>\n",
       "      <th>1</th>\n",
       "      <td>Nombre</td>\n",
       "      <td>Nombre</td>\n",
       "    </tr>\n",
       "    <tr>\n",
       "      <th>2</th>\n",
       "      <td>Tipo</td>\n",
       "      <td>Tipo</td>\n",
       "    </tr>\n",
       "    <tr>\n",
       "      <th>3</th>\n",
       "      <td>Contacto</td>\n",
       "      <td>Contacto</td>\n",
       "    </tr>\n",
       "    <tr>\n",
       "      <th>4</th>\n",
       "      <td>Cargo</td>\n",
       "      <td>Cargo</td>\n",
       "    </tr>\n",
       "    <tr>\n",
       "      <th>5</th>\n",
       "      <td>Correo Electrónico</td>\n",
       "      <td>Correo Electrónico</td>\n",
       "    </tr>\n",
       "    <tr>\n",
       "      <th>6</th>\n",
       "      <td>Teléfono</td>\n",
       "      <td>Telefono</td>\n",
       "    </tr>\n",
       "    <tr>\n",
       "      <th>7</th>\n",
       "      <td>Observaciones</td>\n",
       "      <td>Observaciones</td>\n",
       "    </tr>\n",
       "    <tr>\n",
       "      <th>8</th>\n",
       "      <td>Razon Social</td>\n",
       "      <td>Razon Social</td>\n",
       "    </tr>\n",
       "    <tr>\n",
       "      <th>9</th>\n",
       "      <td>Tipo de Contribuyente</td>\n",
       "      <td>Tipo de Contribuyente</td>\n",
       "    </tr>\n",
       "    <tr>\n",
       "      <th>10</th>\n",
       "      <td>CUIT</td>\n",
       "      <td>CUIT</td>\n",
       "    </tr>\n",
       "    <tr>\n",
       "      <th>11</th>\n",
       "      <td>Alta</td>\n",
       "      <td>Alta</td>\n",
       "    </tr>\n",
       "    <tr>\n",
       "      <th>12</th>\n",
       "      <td>Baja</td>\n",
       "      <td>Baja</td>\n",
       "    </tr>\n",
       "    <tr>\n",
       "      <th>13</th>\n",
       "      <td>Activo</td>\n",
       "      <td>Activo</td>\n",
       "    </tr>\n",
       "    <tr>\n",
       "      <th>14</th>\n",
       "      <td>Frecuencia</td>\n",
       "      <td>Frecuencia</td>\n",
       "    </tr>\n",
       "    <tr>\n",
       "      <th>15</th>\n",
       "      <td>Importe</td>\n",
       "      <td>Importe</td>\n",
       "    </tr>\n",
       "    <tr>\n",
       "      <th>16</th>\n",
       "      <td>Nro de Cuenta</td>\n",
       "      <td>Nro de Cuenta</td>\n",
       "    </tr>\n",
       "    <tr>\n",
       "      <th>17</th>\n",
       "      <td>Mes</td>\n",
       "      <td>Fecha_Donación</td>\n",
       "    </tr>\n",
       "    <tr>\n",
       "      <th>18</th>\n",
       "      <td>NaN</td>\n",
       "      <td>País</td>\n",
       "    </tr>\n",
       "  </tbody>\n",
       "</table>\n",
       "</div>"
      ],
      "text/plain": [
       "                   Viejos                 Nuevos\n",
       "0                  Número                 Numero\n",
       "1                  Nombre                 Nombre\n",
       "2                    Tipo                   Tipo\n",
       "3                Contacto               Contacto\n",
       "4                   Cargo                  Cargo\n",
       "5      Correo Electrónico     Correo Electrónico\n",
       "6                Teléfono               Telefono\n",
       "7           Observaciones          Observaciones\n",
       "8            Razon Social           Razon Social\n",
       "9   Tipo de Contribuyente  Tipo de Contribuyente\n",
       "10                   CUIT                   CUIT\n",
       "11                   Alta                   Alta\n",
       "12                   Baja                   Baja\n",
       "13                 Activo                 Activo\n",
       "14             Frecuencia             Frecuencia\n",
       "15                Importe                Importe\n",
       "16          Nro de Cuenta          Nro de Cuenta\n",
       "17                    Mes         Fecha_Donación\n",
       "18                    NaN                   País"
      ]
     },
     "execution_count": 6,
     "metadata": {},
     "output_type": "execute_result"
    }
   ],
   "source": [
    "sd_old = pd.Series(dfdo.columns.to_list())\n",
    "sd_new = pd.Series(dfdn.columns.to_list())\n",
    "\n",
    "display_don = pd.concat([sd_old, sd_new] ,axis=1)\n",
    "print(f\"prov_old shape: {dfdo.shape}, prov_new shape: {dfdn.shape}\\n\")\n",
    "display_don.columns = [\"Viejos\", \"Nuevos\"]\n",
    "display_don"
   ]
  },
  {
   "cell_type": "markdown",
   "id": "13ee0929-5aeb-4ee9-9888-c850b22bc957",
   "metadata": {},
   "source": [
    "La diferencia es en la columna de `Mes` que cree anteriormente y 2 nuevas columnas `Fecha_Donación` y `País`"
   ]
  },
  {
   "cell_type": "code",
   "execution_count": 7,
   "id": "a5ef3a0c-9391-49c2-b3fe-ca6d292ea604",
   "metadata": {},
   "outputs": [
    {
     "data": {
      "text/html": [
       "<div>\n",
       "<style scoped>\n",
       "    .dataframe tbody tr th:only-of-type {\n",
       "        vertical-align: middle;\n",
       "    }\n",
       "\n",
       "    .dataframe tbody tr th {\n",
       "        vertical-align: top;\n",
       "    }\n",
       "\n",
       "    .dataframe thead th {\n",
       "        text-align: right;\n",
       "    }\n",
       "</style>\n",
       "<table border=\"1\" class=\"dataframe\">\n",
       "  <thead>\n",
       "    <tr style=\"text-align: right;\">\n",
       "      <th></th>\n",
       "      <th>Viejos</th>\n",
       "      <th>Nuevos</th>\n",
       "    </tr>\n",
       "  </thead>\n",
       "  <tbody>\n",
       "    <tr>\n",
       "      <th>17</th>\n",
       "      <td>Mes</td>\n",
       "      <td>Fecha_Donación</td>\n",
       "    </tr>\n",
       "    <tr>\n",
       "      <th>18</th>\n",
       "      <td>NaN</td>\n",
       "      <td>País</td>\n",
       "    </tr>\n",
       "  </tbody>\n",
       "</table>\n",
       "</div>"
      ],
      "text/plain": [
       "   Viejos          Nuevos\n",
       "17    Mes  Fecha_Donación\n",
       "18    NaN            País"
      ]
     },
     "execution_count": 7,
     "metadata": {},
     "output_type": "execute_result"
    }
   ],
   "source": [
    "display_don.tail(2)"
   ]
  },
  {
   "cell_type": "markdown",
   "id": "04cb72a3-e24a-4da0-b4bc-cfba0c6ddd33",
   "metadata": {},
   "source": [
    "## Empezar a acomodar las columnas"
   ]
  },
  {
   "cell_type": "code",
   "execution_count": null,
   "id": "de308eeb-3a96-41e8-bf64-036735996c16",
   "metadata": {},
   "outputs": [],
   "source": []
  }
 ],
 "metadata": {
  "kernelspec": {
   "display_name": "Python 3 (ipykernel)",
   "language": "python",
   "name": "python3"
  },
  "language_info": {
   "codemirror_mode": {
    "name": "ipython",
    "version": 3
   },
   "file_extension": ".py",
   "mimetype": "text/x-python",
   "name": "python",
   "nbconvert_exporter": "python",
   "pygments_lexer": "ipython3",
   "version": "3.11.5"
  }
 },
 "nbformat": 4,
 "nbformat_minor": 5
}
