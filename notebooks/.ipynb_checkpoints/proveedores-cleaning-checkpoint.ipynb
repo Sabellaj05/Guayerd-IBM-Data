{
 "cells": [
  {
   "cell_type": "code",
   "execution_count": 4,
   "id": "cbac6b04-8ecd-44a6-9824-bee865f353cf",
   "metadata": {},
   "outputs": [],
   "source": [
    "import os\n",
    "from pathlib import Path\n",
    "import pandas as pd\n",
    "import numpy as np"
   ]
  },
  {
   "cell_type": "code",
   "execution_count": 5,
   "id": "ae3704be-72b4-459d-a972-02f047aff161",
   "metadata": {},
   "outputs": [
    {
     "data": {
      "text/html": [
       "<div>\n",
       "<style scoped>\n",
       "    .dataframe tbody tr th:only-of-type {\n",
       "        vertical-align: middle;\n",
       "    }\n",
       "\n",
       "    .dataframe tbody tr th {\n",
       "        vertical-align: top;\n",
       "    }\n",
       "\n",
       "    .dataframe thead th {\n",
       "        text-align: right;\n",
       "    }\n",
       "</style>\n",
       "<table border=\"1\" class=\"dataframe\">\n",
       "  <thead>\n",
       "    <tr style=\"text-align: right;\">\n",
       "      <th></th>\n",
       "      <th>Numero Proveedor</th>\n",
       "      <th>Nombre Proveedor</th>\n",
       "      <th>CUIT</th>\n",
       "      <th>Categoria Proveedor</th>\n",
       "      <th>Tipo de Contribuyente</th>\n",
       "      <th>Contacto</th>\n",
       "      <th>Corre Electronico</th>\n",
       "      <th>Telefono</th>\n",
       "      <th>Razon Social</th>\n",
       "      <th>Importe</th>\n",
       "      <th>Fecha</th>\n",
       "      <th>Nro_Cuenta</th>\n",
       "      <th>Ciudad</th>\n",
       "      <th>Pais</th>\n",
       "      <th>Maps</th>\n",
       "      <th>Ciudad-maps</th>\n",
       "    </tr>\n",
       "  </thead>\n",
       "  <tbody>\n",
       "    <tr>\n",
       "      <th>521</th>\n",
       "      <td>P00020</td>\n",
       "      <td>Juegos del Norte</td>\n",
       "      <td>30-98765437-1</td>\n",
       "      <td>Materiales</td>\n",
       "      <td>Responsable inscripto</td>\n",
       "      <td>Pablo Fernández</td>\n",
       "      <td>pablo.fernandez@empresa.zom</td>\n",
       "      <td>0123-4567</td>\n",
       "      <td>S.R.L.</td>\n",
       "      <td>292966.0</td>\n",
       "      <td>15/4/24/</td>\n",
       "      <td>506100</td>\n",
       "      <td>Viedma</td>\n",
       "      <td>Argentina</td>\n",
       "      <td>(-40.8084274, -62.994722)</td>\n",
       "      <td>Viedma, Argentina</td>\n",
       "    </tr>\n",
       "    <tr>\n",
       "      <th>388</th>\n",
       "      <td>P00094</td>\n",
       "      <td>Gabriela Martínez</td>\n",
       "      <td>30-98765437-1</td>\n",
       "      <td>Agente impositivo</td>\n",
       "      <td>Monotributista</td>\n",
       "      <td>Gabriela Martínez</td>\n",
       "      <td>gabriela.martinez@empresa.zom</td>\n",
       "      <td>4567-8901</td>\n",
       "      <td>S.R.L.</td>\n",
       "      <td>37732.0</td>\n",
       "      <td>21/3/24/</td>\n",
       "      <td>503100</td>\n",
       "      <td>San Rafael</td>\n",
       "      <td>Argentina</td>\n",
       "      <td>(37.9747795, -122.5316686)</td>\n",
       "      <td>San Rafael, Argentina</td>\n",
       "    </tr>\n",
       "    <tr>\n",
       "      <th>6</th>\n",
       "      <td>P00006</td>\n",
       "      <td>Grupo Alfa</td>\n",
       "      <td>30-97531246-1</td>\n",
       "      <td>Servicios</td>\n",
       "      <td>Responsable inscripto</td>\n",
       "      <td>Alberto Fernández</td>\n",
       "      <td>alberto.fernandez@empresa.zom</td>\n",
       "      <td>6789-0123</td>\n",
       "      <td>S.R.L.</td>\n",
       "      <td>251833.0</td>\n",
       "      <td>9/01/2024</td>\n",
       "      <td>501400</td>\n",
       "      <td>San Miguel de Tucumán</td>\n",
       "      <td>Argentina</td>\n",
       "      <td>(-26.8303703, -65.2038133)</td>\n",
       "      <td>San Miguel de Tucumán, Argentina</td>\n",
       "    </tr>\n",
       "  </tbody>\n",
       "</table>\n",
       "</div>"
      ],
      "text/plain": [
       "    Numero Proveedor   Nombre Proveedor           CUIT Categoria Proveedor  \\\n",
       "521           P00020   Juegos del Norte  30-98765437-1          Materiales   \n",
       "388           P00094  Gabriela Martínez  30-98765437-1   Agente impositivo   \n",
       "6             P00006         Grupo Alfa  30-97531246-1           Servicios   \n",
       "\n",
       "     Tipo de Contribuyente           Contacto              Corre Electronico  \\\n",
       "521  Responsable inscripto    Pablo Fernández    pablo.fernandez@empresa.zom   \n",
       "388         Monotributista  Gabriela Martínez  gabriela.martinez@empresa.zom   \n",
       "6    Responsable inscripto  Alberto Fernández  alberto.fernandez@empresa.zom   \n",
       "\n",
       "      Telefono Razon Social   Importe      Fecha  Nro_Cuenta  \\\n",
       "521  0123-4567       S.R.L.  292966.0   15/4/24/      506100   \n",
       "388  4567-8901       S.R.L.   37732.0   21/3/24/      503100   \n",
       "6    6789-0123       S.R.L.  251833.0  9/01/2024      501400   \n",
       "\n",
       "                    Ciudad       Pais                        Maps  \\\n",
       "521                 Viedma  Argentina   (-40.8084274, -62.994722)   \n",
       "388             San Rafael  Argentina  (37.9747795, -122.5316686)   \n",
       "6    San Miguel de Tucumán  Argentina  (-26.8303703, -65.2038133)   \n",
       "\n",
       "                          Ciudad-maps  \n",
       "521                 Viedma, Argentina  \n",
       "388             San Rafael, Argentina  \n",
       "6    San Miguel de Tucumán, Argentina  "
      ]
     },
     "execution_count": 5,
     "metadata": {},
     "output_type": "execute_result"
    }
   ],
   "source": [
    "data_dir = Path.cwd().parent / \"data\" /  \"merged\"\n",
    "datos = \"proveedores_final-merged.csv\"\n",
    "data = data_dir / datos\n",
    "df = pd.read_csv(data)\n",
    "np.random.seed(42)\n",
    "df.sample(3)"
   ]
  },
  {
   "cell_type": "markdown",
   "id": "f152b08d-4a08-4e60-abbd-c95975eab6da",
   "metadata": {},
   "source": [
    "## Algo de limpieza"
   ]
  },
  {
   "cell_type": "code",
   "execution_count": 6,
   "id": "389813c5-894d-4884-8d68-0a351bec0c6d",
   "metadata": {},
   "outputs": [
    {
     "name": "stdout",
     "output_type": "stream",
     "text": [
      "<class 'pandas.core.frame.DataFrame'>\n",
      "RangeIndex: 523 entries, 0 to 522\n",
      "Data columns (total 16 columns):\n",
      " #   Column                 Non-Null Count  Dtype  \n",
      "---  ------                 --------------  -----  \n",
      " 0   Numero Proveedor       523 non-null    object \n",
      " 1   Nombre Proveedor       523 non-null    object \n",
      " 2   CUIT                   523 non-null    object \n",
      " 3   Categoria Proveedor    523 non-null    object \n",
      " 4   Tipo de Contribuyente  523 non-null    object \n",
      " 5   Contacto               523 non-null    object \n",
      " 6   Corre Electronico      523 non-null    object \n",
      " 7   Telefono               523 non-null    object \n",
      " 8   Razon Social           523 non-null    object \n",
      " 9   Importe                523 non-null    float64\n",
      " 10  Fecha                  523 non-null    object \n",
      " 11  Nro_Cuenta             523 non-null    int64  \n",
      " 12  Ciudad                 523 non-null    object \n",
      " 13  Pais                   523 non-null    object \n",
      " 14  Maps                   523 non-null    object \n",
      " 15  Ciudad-maps            523 non-null    object \n",
      "dtypes: float64(1), int64(1), object(14)\n",
      "memory usage: 65.5+ KB\n"
     ]
    }
   ],
   "source": [
    "df.info()"
   ]
  },
  {
   "cell_type": "code",
   "execution_count": 7,
   "id": "3ce2b19f-a5ca-4a8e-9756-5cbd71ea4147",
   "metadata": {},
   "outputs": [
    {
     "data": {
      "text/plain": [
       "array(['Servicios', 'Materiales', 'Agente impositivo', 'Tecnología',\n",
       "       'Consultoría', 'Energía renovable', 'Transporte', 'Construcción',\n",
       "       'Agroindustria', 'Software', 'Consultoría it', 'Energía eólica',\n",
       "       'Energía solar'], dtype=object)"
      ]
     },
     "execution_count": 7,
     "metadata": {},
     "output_type": "execute_result"
    }
   ],
   "source": [
    "df[\"Categoria Proveedor\"] = df[\"Categoria Proveedor\"].str.replace(\"Servicos\", \"Servicios\")\n",
    "df[\"Categoria Proveedor\"].unique()"
   ]
  },
  {
   "cell_type": "code",
   "execution_count": 8,
   "id": "a74fa01d-2e53-45fb-82cd-f368fc984c90",
   "metadata": {},
   "outputs": [],
   "source": [
    "mask = df[\"Numero Proveedor\"].str.startswith(\"D\")\n",
    "df.loc[mask, \"Numero Proveedor\"] = df.loc[mask, \"Numero Proveedor\"].str.replace(\"D\", \"P\")"
   ]
  },
  {
   "cell_type": "code",
   "execution_count": 9,
   "id": "93d2cfdd-c662-44a1-b91d-7d03150d7807",
   "metadata": {},
   "outputs": [
    {
     "data": {
      "text/plain": [
       "Series([], Name: Numero Proveedor, dtype: object)"
      ]
     },
     "execution_count": 9,
     "metadata": {},
     "output_type": "execute_result"
    }
   ],
   "source": [
    "df[df[\"Numero Proveedor\"].str.startswith(\"D\")][\"Numero Proveedor\"]"
   ]
  },
  {
   "cell_type": "code",
   "execution_count": 10,
   "id": "731791f4-4a0e-4868-b0b8-274808fb8123",
   "metadata": {},
   "outputs": [
    {
     "data": {
      "text/plain": [
       "109    25/01/2019\n",
       "76     25/04/2019\n",
       "Name: Fecha, dtype: object"
      ]
     },
     "execution_count": 10,
     "metadata": {},
     "output_type": "execute_result"
    }
   ],
   "source": [
    "# datetime\n",
    "df[\"Fecha\"].sample(2)"
   ]
  },
  {
   "cell_type": "code",
   "execution_count": 11,
   "id": "4c9ef1f6-0476-49b7-9047-a726ec3290a8",
   "metadata": {},
   "outputs": [
    {
     "data": {
      "text/plain": [
       "518   2024-03-05\n",
       "519   2024-03-28\n",
       "520   2024-01-21\n",
       "521   2024-04-15\n",
       "522   2024-02-04\n",
       "Name: Fecha, dtype: datetime64[ns]"
      ]
     },
     "execution_count": 11,
     "metadata": {},
     "output_type": "execute_result"
    }
   ],
   "source": [
    "fc = \"Fecha\"\n",
    "df[fc] = pd.to_datetime(df[fc], format='mixed', dayfirst=True).dt.strftime('%Y/%m/%d')\n",
    "df[fc] = pd.to_datetime(df[fc])\n",
    "df[fc].tail()"
   ]
  },
  {
   "cell_type": "code",
   "execution_count": 12,
   "id": "65cd1d19-91cf-4e8d-87d7-0796966aa947",
   "metadata": {},
   "outputs": [
    {
     "name": "stdout",
     "output_type": "stream",
     "text": [
      "<class 'pandas.core.frame.DataFrame'>\n",
      "RangeIndex: 523 entries, 0 to 522\n",
      "Data columns (total 13 columns):\n",
      " #   Column                 Non-Null Count  Dtype         \n",
      "---  ------                 --------------  -----         \n",
      " 0   Numero Proveedor       523 non-null    object        \n",
      " 1   Nombre Proveedor       523 non-null    object        \n",
      " 2   CUIT                   523 non-null    object        \n",
      " 3   Categoria Proveedor    523 non-null    object        \n",
      " 4   Tipo de Contribuyente  523 non-null    object        \n",
      " 5   Contacto               523 non-null    object        \n",
      " 6   Correo Electronico     523 non-null    object        \n",
      " 7   Telefono               523 non-null    object        \n",
      " 8   Razon Social           523 non-null    object        \n",
      " 9   Importe                523 non-null    float64       \n",
      " 10  Fecha                  523 non-null    datetime64[ns]\n",
      " 11  Nro_Cuenta             523 non-null    int64         \n",
      " 12  Ciudad                 523 non-null    object        \n",
      "dtypes: datetime64[ns](1), float64(1), int64(1), object(10)\n",
      "memory usage: 53.2+ KB\n"
     ]
    }
   ],
   "source": [
    "df = df.drop([\"Pais\", \"Maps\", \"Ciudad-maps\"], axis=1)\n",
    "df.rename(columns={\"Corre Electronico\": \"Correo Electronico\"}, inplace=True)\n",
    "df.info()"
   ]
  },
  {
   "cell_type": "code",
   "execution_count": 13,
   "id": "1898ad44-49c4-450a-bf36-17737f5fa0e2",
   "metadata": {},
   "outputs": [
    {
     "data": {
      "text/html": [
       "<div>\n",
       "<style scoped>\n",
       "    .dataframe tbody tr th:only-of-type {\n",
       "        vertical-align: middle;\n",
       "    }\n",
       "\n",
       "    .dataframe tbody tr th {\n",
       "        vertical-align: top;\n",
       "    }\n",
       "\n",
       "    .dataframe thead th {\n",
       "        text-align: right;\n",
       "    }\n",
       "</style>\n",
       "<table border=\"1\" class=\"dataframe\">\n",
       "  <thead>\n",
       "    <tr style=\"text-align: right;\">\n",
       "      <th></th>\n",
       "      <th>Numero Proveedor</th>\n",
       "      <th>Nombre Proveedor</th>\n",
       "      <th>CUIT</th>\n",
       "      <th>Categoria Proveedor</th>\n",
       "      <th>Tipo de Contribuyente</th>\n",
       "      <th>Contacto</th>\n",
       "      <th>Correo Electronico</th>\n",
       "      <th>Telefono</th>\n",
       "      <th>Razon Social</th>\n",
       "      <th>Importe</th>\n",
       "      <th>Fecha</th>\n",
       "      <th>Nro_Cuenta</th>\n",
       "      <th>Ciudad</th>\n",
       "    </tr>\n",
       "  </thead>\n",
       "  <tbody>\n",
       "    <tr>\n",
       "      <th>0</th>\n",
       "      <td>P00001</td>\n",
       "      <td>Proveedora S.A.</td>\n",
       "      <td>30-12345678-9</td>\n",
       "      <td>Servicios</td>\n",
       "      <td>Responsable inscripto</td>\n",
       "      <td>Juan Pérez</td>\n",
       "      <td>juan.perez@empresa.com</td>\n",
       "      <td>1234-5678</td>\n",
       "      <td>S.A.</td>\n",
       "      <td>171488.0</td>\n",
       "      <td>2024-03-18</td>\n",
       "      <td>501400</td>\n",
       "      <td>Buenos Aires</td>\n",
       "    </tr>\n",
       "    <tr>\n",
       "      <th>1</th>\n",
       "      <td>P00002</td>\n",
       "      <td>Pedro González</td>\n",
       "      <td>30-87654321-0</td>\n",
       "      <td>Servicios</td>\n",
       "      <td>Monotributista</td>\n",
       "      <td>Pedro González</td>\n",
       "      <td>pedro.gonzalez@correo.zom</td>\n",
       "      <td>2345-6789</td>\n",
       "      <td>S.R.L.</td>\n",
       "      <td>288255.0</td>\n",
       "      <td>2024-02-08</td>\n",
       "      <td>503100</td>\n",
       "      <td>Cordoba</td>\n",
       "    </tr>\n",
       "    <tr>\n",
       "      <th>2</th>\n",
       "      <td>P00003</td>\n",
       "      <td>Empresa XYZ</td>\n",
       "      <td>30-13579246-3</td>\n",
       "      <td>Materiales</td>\n",
       "      <td>Responsable inscripto</td>\n",
       "      <td>María López</td>\n",
       "      <td>maria.lopez@empresa.com</td>\n",
       "      <td>3456-7890</td>\n",
       "      <td>S.A.</td>\n",
       "      <td>195975.0</td>\n",
       "      <td>2024-01-18</td>\n",
       "      <td>506100</td>\n",
       "      <td>Rosario</td>\n",
       "    </tr>\n",
       "    <tr>\n",
       "      <th>3</th>\n",
       "      <td>P00004</td>\n",
       "      <td>Servicios AB</td>\n",
       "      <td>30-24681357-2</td>\n",
       "      <td>Agente impositivo</td>\n",
       "      <td>Responsable inscripto</td>\n",
       "      <td>Laura Ruiz</td>\n",
       "      <td>laura.ruiz@correo.zom</td>\n",
       "      <td>4567-8901</td>\n",
       "      <td>S.R.L.</td>\n",
       "      <td>158607.0</td>\n",
       "      <td>2024-03-09</td>\n",
       "      <td>509100</td>\n",
       "      <td>Mendoza</td>\n",
       "    </tr>\n",
       "    <tr>\n",
       "      <th>4</th>\n",
       "      <td>P00005</td>\n",
       "      <td>Carlos Méndez</td>\n",
       "      <td>30-12345678-9</td>\n",
       "      <td>Servicios</td>\n",
       "      <td>Monotributista</td>\n",
       "      <td>Carlos Méndez</td>\n",
       "      <td>carlos.mendez@correo.com</td>\n",
       "      <td>5678-9012</td>\n",
       "      <td>S.A.</td>\n",
       "      <td>238101.0</td>\n",
       "      <td>2024-03-28</td>\n",
       "      <td>516000</td>\n",
       "      <td>Buenos Aires</td>\n",
       "    </tr>\n",
       "    <tr>\n",
       "      <th>...</th>\n",
       "      <td>...</td>\n",
       "      <td>...</td>\n",
       "      <td>...</td>\n",
       "      <td>...</td>\n",
       "      <td>...</td>\n",
       "      <td>...</td>\n",
       "      <td>...</td>\n",
       "      <td>...</td>\n",
       "      <td>...</td>\n",
       "      <td>...</td>\n",
       "      <td>...</td>\n",
       "      <td>...</td>\n",
       "      <td>...</td>\n",
       "    </tr>\n",
       "    <tr>\n",
       "      <th>518</th>\n",
       "      <td>P00017</td>\n",
       "      <td>Julio Fernández</td>\n",
       "      <td>30-98765437-1</td>\n",
       "      <td>Materiales</td>\n",
       "      <td>Monotributista</td>\n",
       "      <td>Julio Fernández</td>\n",
       "      <td>julio.fernandez@correo.zom</td>\n",
       "      <td>7890-1234</td>\n",
       "      <td>S.A.</td>\n",
       "      <td>252040.0</td>\n",
       "      <td>2024-03-05</td>\n",
       "      <td>516000</td>\n",
       "      <td>Neuquén</td>\n",
       "    </tr>\n",
       "    <tr>\n",
       "      <th>519</th>\n",
       "      <td>P00021</td>\n",
       "      <td>Distribuciones ABC</td>\n",
       "      <td>30-98765437-1</td>\n",
       "      <td>Servicios</td>\n",
       "      <td>Monotributista</td>\n",
       "      <td>Francisco Gómez</td>\n",
       "      <td>francisco.gomez@correo.zom</td>\n",
       "      <td>1234-5678</td>\n",
       "      <td>S.A.</td>\n",
       "      <td>270035.0</td>\n",
       "      <td>2024-03-28</td>\n",
       "      <td>509100</td>\n",
       "      <td>Buenos Aires</td>\n",
       "    </tr>\n",
       "    <tr>\n",
       "      <th>520</th>\n",
       "      <td>P00008</td>\n",
       "      <td>Compañía Beta</td>\n",
       "      <td>30-98765437-1</td>\n",
       "      <td>Agente impositivo</td>\n",
       "      <td>Monotributista</td>\n",
       "      <td>Laura Martínez</td>\n",
       "      <td>laura.martinez@empresa.zom</td>\n",
       "      <td>8901-2345</td>\n",
       "      <td>S.R.L.</td>\n",
       "      <td>283772.0</td>\n",
       "      <td>2024-01-21</td>\n",
       "      <td>506100</td>\n",
       "      <td>Santiago del Estero</td>\n",
       "    </tr>\n",
       "    <tr>\n",
       "      <th>521</th>\n",
       "      <td>P00020</td>\n",
       "      <td>Juegos del Norte</td>\n",
       "      <td>30-98765437-1</td>\n",
       "      <td>Materiales</td>\n",
       "      <td>Responsable inscripto</td>\n",
       "      <td>Pablo Fernández</td>\n",
       "      <td>pablo.fernandez@empresa.zom</td>\n",
       "      <td>0123-4567</td>\n",
       "      <td>S.R.L.</td>\n",
       "      <td>292966.0</td>\n",
       "      <td>2024-04-15</td>\n",
       "      <td>506100</td>\n",
       "      <td>Viedma</td>\n",
       "    </tr>\n",
       "    <tr>\n",
       "      <th>522</th>\n",
       "      <td>P00018</td>\n",
       "      <td>Consultora Zeta</td>\n",
       "      <td>30-98765437-1</td>\n",
       "      <td>Servicios</td>\n",
       "      <td>Responsable inscripto</td>\n",
       "      <td>Laura Sánchez</td>\n",
       "      <td>laura.sanchez@empresa.zom</td>\n",
       "      <td>8901-2345</td>\n",
       "      <td>S.R.L.</td>\n",
       "      <td>299795.0</td>\n",
       "      <td>2024-02-04</td>\n",
       "      <td>501400</td>\n",
       "      <td>Santiago del Estero</td>\n",
       "    </tr>\n",
       "  </tbody>\n",
       "</table>\n",
       "<p>523 rows × 13 columns</p>\n",
       "</div>"
      ],
      "text/plain": [
       "    Numero Proveedor    Nombre Proveedor           CUIT Categoria Proveedor  \\\n",
       "0             P00001     Proveedora S.A.  30-12345678-9           Servicios   \n",
       "1             P00002      Pedro González  30-87654321-0           Servicios   \n",
       "2             P00003         Empresa XYZ  30-13579246-3          Materiales   \n",
       "3             P00004        Servicios AB  30-24681357-2   Agente impositivo   \n",
       "4             P00005       Carlos Méndez  30-12345678-9           Servicios   \n",
       "..               ...                 ...            ...                 ...   \n",
       "518           P00017     Julio Fernández  30-98765437-1          Materiales   \n",
       "519           P00021  Distribuciones ABC  30-98765437-1           Servicios   \n",
       "520           P00008       Compañía Beta  30-98765437-1   Agente impositivo   \n",
       "521           P00020    Juegos del Norte  30-98765437-1          Materiales   \n",
       "522           P00018     Consultora Zeta  30-98765437-1           Servicios   \n",
       "\n",
       "     Tipo de Contribuyente         Contacto           Correo Electronico  \\\n",
       "0    Responsable inscripto       Juan Pérez       juan.perez@empresa.com   \n",
       "1           Monotributista   Pedro González    pedro.gonzalez@correo.zom   \n",
       "2    Responsable inscripto      María López      maria.lopez@empresa.com   \n",
       "3    Responsable inscripto       Laura Ruiz        laura.ruiz@correo.zom   \n",
       "4           Monotributista    Carlos Méndez     carlos.mendez@correo.com   \n",
       "..                     ...              ...                          ...   \n",
       "518         Monotributista  Julio Fernández   julio.fernandez@correo.zom   \n",
       "519         Monotributista  Francisco Gómez   francisco.gomez@correo.zom   \n",
       "520         Monotributista   Laura Martínez   laura.martinez@empresa.zom   \n",
       "521  Responsable inscripto  Pablo Fernández  pablo.fernandez@empresa.zom   \n",
       "522  Responsable inscripto    Laura Sánchez    laura.sanchez@empresa.zom   \n",
       "\n",
       "      Telefono Razon Social   Importe      Fecha  Nro_Cuenta  \\\n",
       "0    1234-5678         S.A.  171488.0 2024-03-18      501400   \n",
       "1    2345-6789       S.R.L.  288255.0 2024-02-08      503100   \n",
       "2    3456-7890         S.A.  195975.0 2024-01-18      506100   \n",
       "3    4567-8901       S.R.L.  158607.0 2024-03-09      509100   \n",
       "4    5678-9012         S.A.  238101.0 2024-03-28      516000   \n",
       "..         ...          ...       ...        ...         ...   \n",
       "518  7890-1234         S.A.  252040.0 2024-03-05      516000   \n",
       "519  1234-5678         S.A.  270035.0 2024-03-28      509100   \n",
       "520  8901-2345       S.R.L.  283772.0 2024-01-21      506100   \n",
       "521  0123-4567       S.R.L.  292966.0 2024-04-15      506100   \n",
       "522  8901-2345       S.R.L.  299795.0 2024-02-04      501400   \n",
       "\n",
       "                  Ciudad  \n",
       "0           Buenos Aires  \n",
       "1                Cordoba  \n",
       "2                Rosario  \n",
       "3                Mendoza  \n",
       "4           Buenos Aires  \n",
       "..                   ...  \n",
       "518              Neuquén  \n",
       "519         Buenos Aires  \n",
       "520  Santiago del Estero  \n",
       "521               Viedma  \n",
       "522  Santiago del Estero  \n",
       "\n",
       "[523 rows x 13 columns]"
      ]
     },
     "execution_count": 13,
     "metadata": {},
     "output_type": "execute_result"
    }
   ],
   "source": [
    "df"
   ]
  },
  {
   "cell_type": "markdown",
   "id": "0e41b80a-2aed-4072-a557-5e59a293e028",
   "metadata": {},
   "source": [
    "Ya que `S.A` y `Sociedad Anonima` son lo mismo, las juntamos y tambien borramos ese ultimo '.' en los demas"
   ]
  },
  {
   "cell_type": "code",
   "execution_count": 14,
   "id": "41f3ed50-f517-494c-978e-114223a49876",
   "metadata": {},
   "outputs": [
    {
     "data": {
      "text/plain": [
       "Razon Social\n",
       "S.R.L.              229\n",
       "S.A.                144\n",
       "Sociedad Anónima     75\n",
       "Cooperativa          69\n",
       "S.A.A                 6\n",
       "Name: count, dtype: int64"
      ]
     },
     "execution_count": 14,
     "metadata": {},
     "output_type": "execute_result"
    }
   ],
   "source": [
    "df[\"Razon Social\"].value_counts()"
   ]
  },
  {
   "cell_type": "code",
   "execution_count": 15,
   "id": "1ca24fb4-d85d-4d0a-989f-394a178669a8",
   "metadata": {},
   "outputs": [
    {
     "data": {
      "text/plain": [
       "Razon Social\n",
       "S.R.L          229\n",
       "S.A            219\n",
       "Cooperativa     69\n",
       "S.A.A            6\n",
       "Name: count, dtype: int64"
      ]
     },
     "execution_count": 15,
     "metadata": {},
     "output_type": "execute_result"
    }
   ],
   "source": [
    "df[\"Razon Social\"].str.rstrip(\".\").str.replace(\"Sociedad Anónima\", \"S.A\").value_counts()"
   ]
  },
  {
   "cell_type": "code",
   "execution_count": 16,
   "id": "7f649e39-e0ca-42f2-b5b7-a37f9dcc363d",
   "metadata": {},
   "outputs": [],
   "source": [
    "df[\"Razon Social\"] = df[\"Razon Social\"].str.rstrip(\".\").str.replace(\"Sociedad Anónima\", \"S.A\")"
   ]
  },
  {
   "cell_type": "markdown",
   "id": "97360eb5",
   "metadata": {},
   "source": [
    "## Last rename"
   ]
  },
  {
   "cell_type": "markdown",
   "id": "f7c62969-efd7-45a8-bffa-817f8426e06f",
   "metadata": {},
   "source": [
    "Export clean data"
   ]
  },
  {
   "cell_type": "code",
   "execution_count": 17,
   "id": "48f3371c-020b-4d28-bd46-4d46229970a3",
   "metadata": {},
   "outputs": [
    {
     "name": "stdout",
     "output_type": "stream",
     "text": [
      "donantes-clean.csv  proveedores-clean.csv\n"
     ]
    }
   ],
   "source": [
    "data_dir = Path.cwd().parent / \"data\" / \"cleaned\"\n",
    "data_clean = data_dir / \"proveedores-clean.csv\"\n",
    "df.to_csv(data_clean, index=False)\n",
    "!ls {data_dir}"
   ]
  },
  {
   "cell_type": "code",
   "execution_count": 18,
   "id": "65e35099-d967-436e-b561-acd31e03a5ef",
   "metadata": {},
   "outputs": [
    {
     "name": "stdout",
     "output_type": "stream",
     "text": [
      "<class 'pandas.core.frame.DataFrame'>\n",
      "RangeIndex: 523 entries, 0 to 522\n",
      "Data columns (total 13 columns):\n",
      " #   Column                 Non-Null Count  Dtype  \n",
      "---  ------                 --------------  -----  \n",
      " 0   Numero Proveedor       523 non-null    object \n",
      " 1   Nombre Proveedor       523 non-null    object \n",
      " 2   CUIT                   523 non-null    object \n",
      " 3   Categoria Proveedor    523 non-null    object \n",
      " 4   Tipo de Contribuyente  523 non-null    object \n",
      " 5   Contacto               523 non-null    object \n",
      " 6   Correo Electronico     523 non-null    object \n",
      " 7   Telefono               523 non-null    object \n",
      " 8   Razon Social           523 non-null    object \n",
      " 9   Importe                523 non-null    float64\n",
      " 10  Fecha                  523 non-null    object \n",
      " 11  Nro_Cuenta             523 non-null    int64  \n",
      " 12  Ciudad                 523 non-null    object \n",
      "dtypes: float64(1), int64(1), object(11)\n",
      "memory usage: 53.2+ KB\n"
     ]
    }
   ],
   "source": [
    "test  = pd.read_csv(data_clean)\n",
    "test.info()"
   ]
  }
 ],
 "metadata": {
  "kernelspec": {
   "display_name": "Python 3 (ipykernel)",
   "language": "python",
   "name": "python3"
  },
  "language_info": {
   "codemirror_mode": {
    "name": "ipython",
    "version": 3
   },
   "file_extension": ".py",
   "mimetype": "text/x-python",
   "name": "python",
   "nbconvert_exporter": "python",
   "pygments_lexer": "ipython3",
   "version": "3.11.5"
  }
 },
 "nbformat": 4,
 "nbformat_minor": 5
}
