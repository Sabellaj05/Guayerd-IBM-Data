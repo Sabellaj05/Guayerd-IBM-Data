{
 "cells": [
  {
   "cell_type": "code",
   "execution_count": 1,
   "id": "cac2ec1d-6ed7-48ad-a0a7-5b5f6e1b1886",
   "metadata": {},
   "outputs": [],
   "source": [
    "from pathlib import Path\n",
    "import pandas as pd\n",
    "import numpy as np"
   ]
  },
  {
   "cell_type": "code",
   "execution_count": 5,
   "id": "dbe38039-54c5-4512-8ba2-6bbc034d632d",
   "metadata": {},
   "outputs": [
    {
     "data": {
      "text/html": [
       "<div>\n",
       "<style scoped>\n",
       "    .dataframe tbody tr th:only-of-type {\n",
       "        vertical-align: middle;\n",
       "    }\n",
       "\n",
       "    .dataframe tbody tr th {\n",
       "        vertical-align: top;\n",
       "    }\n",
       "\n",
       "    .dataframe thead th {\n",
       "        text-align: right;\n",
       "    }\n",
       "</style>\n",
       "<table border=\"1\" class=\"dataframe\">\n",
       "  <thead>\n",
       "    <tr style=\"text-align: right;\">\n",
       "      <th></th>\n",
       "      <th>Numero</th>\n",
       "      <th>Nombre</th>\n",
       "      <th>Tipo</th>\n",
       "      <th>Contacto</th>\n",
       "      <th>Correo Electronico</th>\n",
       "      <th>Telefono</th>\n",
       "      <th>Observaciones</th>\n",
       "      <th>Razon Social</th>\n",
       "      <th>Tipo de Contribuyente</th>\n",
       "      <th>CUIT</th>\n",
       "      <th>Alta</th>\n",
       "      <th>Baja</th>\n",
       "      <th>Activo</th>\n",
       "      <th>Frecuencia</th>\n",
       "      <th>Importe</th>\n",
       "      <th>Nro de Cuenta</th>\n",
       "      <th>Pais</th>\n",
       "      <th>Mes</th>\n",
       "    </tr>\n",
       "  </thead>\n",
       "  <tbody>\n",
       "    <tr>\n",
       "      <th>109</th>\n",
       "      <td>D00122</td>\n",
       "      <td>El Parque SRL</td>\n",
       "      <td>Empresa</td>\n",
       "      <td>Contacto ASD</td>\n",
       "      <td>parque@mail.com</td>\n",
       "      <td>(+)591 5550-9224</td>\n",
       "      <td>Observación</td>\n",
       "      <td>SRL</td>\n",
       "      <td>Responsable Inscripto</td>\n",
       "      <td>24-78912356-7</td>\n",
       "      <td>2018-01-01</td>\n",
       "      <td>NaN</td>\n",
       "      <td>SI</td>\n",
       "      <td>Semestral</td>\n",
       "      <td>66227.0</td>\n",
       "      <td>403103</td>\n",
       "      <td>Bolivia</td>\n",
       "      <td>Enero</td>\n",
       "    </tr>\n",
       "    <tr>\n",
       "      <th>10</th>\n",
       "      <td>D00011</td>\n",
       "      <td>Zenith Digital</td>\n",
       "      <td>Empresa</td>\n",
       "      <td>Contacto K</td>\n",
       "      <td>Zenith Digital@example.com</td>\n",
       "      <td>(011) 5000-0011</td>\n",
       "      <td>Observación 11</td>\n",
       "      <td>S.R.L</td>\n",
       "      <td>Responsable Inscripto</td>\n",
       "      <td>20-12345679-0</td>\n",
       "      <td>2024-03-16</td>\n",
       "      <td>2023-06-14</td>\n",
       "      <td>NO</td>\n",
       "      <td>Bimestral</td>\n",
       "      <td>152834.0</td>\n",
       "      <td>403101</td>\n",
       "      <td>Argentina</td>\n",
       "      <td>Marzo</td>\n",
       "    </tr>\n",
       "    <tr>\n",
       "      <th>184</th>\n",
       "      <td>D00111</td>\n",
       "      <td>Futuro Corporativo</td>\n",
       "      <td>Empresa</td>\n",
       "      <td>Contacto E</td>\n",
       "      <td>futurocorporativo@mail.com</td>\n",
       "      <td>(+)595 5380-3426</td>\n",
       "      <td>Observación D</td>\n",
       "      <td>SAS</td>\n",
       "      <td>Monotributista</td>\n",
       "      <td>27-23783266-6</td>\n",
       "      <td>2019-02-12</td>\n",
       "      <td>NaN</td>\n",
       "      <td>SI</td>\n",
       "      <td>Mensual</td>\n",
       "      <td>333984.0</td>\n",
       "      <td>403103</td>\n",
       "      <td>Paraguay</td>\n",
       "      <td>Febrero</td>\n",
       "    </tr>\n",
       "    <tr>\n",
       "      <th>77</th>\n",
       "      <td>D00076</td>\n",
       "      <td>Mariana Fernández</td>\n",
       "      <td>Individuo</td>\n",
       "      <td>Contacto XXX</td>\n",
       "      <td>Mariana Fernández@example.com</td>\n",
       "      <td>(011) 5000-0076</td>\n",
       "      <td>Observación 76</td>\n",
       "      <td>SAS</td>\n",
       "      <td>Responsable Inscripto</td>\n",
       "      <td>25-67890130-3</td>\n",
       "      <td>2024-05-18</td>\n",
       "      <td>NaN</td>\n",
       "      <td>SI</td>\n",
       "      <td>Mensual</td>\n",
       "      <td>106340.0</td>\n",
       "      <td>402102</td>\n",
       "      <td>Argentina</td>\n",
       "      <td>Mayo</td>\n",
       "    </tr>\n",
       "    <tr>\n",
       "      <th>538</th>\n",
       "      <td>D00127</td>\n",
       "      <td>Horizonte Ecológico</td>\n",
       "      <td>ONG</td>\n",
       "      <td>Contacto AWW</td>\n",
       "      <td>juan.rodriguez@horizonteecologico.com</td>\n",
       "      <td>(+)52 55 1234 5678</td>\n",
       "      <td>Observación DRF</td>\n",
       "      <td>ONG</td>\n",
       "      <td>Monotributista</td>\n",
       "      <td>23-45678901-3</td>\n",
       "      <td>2024-04-01</td>\n",
       "      <td>NaN</td>\n",
       "      <td>SI</td>\n",
       "      <td>Mensual</td>\n",
       "      <td>351798.0</td>\n",
       "      <td>405100</td>\n",
       "      <td>México</td>\n",
       "      <td>Abril</td>\n",
       "    </tr>\n",
       "  </tbody>\n",
       "</table>\n",
       "</div>"
      ],
      "text/plain": [
       "     Numero               Nombre       Tipo      Contacto  \\\n",
       "109  D00122        El Parque SRL    Empresa  Contacto ASD   \n",
       "10   D00011       Zenith Digital    Empresa    Contacto K   \n",
       "184  D00111   Futuro Corporativo    Empresa    Contacto E   \n",
       "77   D00076    Mariana Fernández  Individuo  Contacto XXX   \n",
       "538  D00127  Horizonte Ecológico        ONG  Contacto AWW   \n",
       "\n",
       "                        Correo Electronico            Telefono  \\\n",
       "109                        parque@mail.com    (+)591 5550-9224   \n",
       "10              Zenith Digital@example.com     (011) 5000-0011   \n",
       "184             futurocorporativo@mail.com    (+)595 5380-3426   \n",
       "77           Mariana Fernández@example.com     (011) 5000-0076   \n",
       "538  juan.rodriguez@horizonteecologico.com  (+)52 55 1234 5678   \n",
       "\n",
       "       Observaciones Razon Social  Tipo de Contribuyente           CUIT  \\\n",
       "109      Observación          SRL  Responsable Inscripto  24-78912356-7   \n",
       "10    Observación 11        S.R.L  Responsable Inscripto  20-12345679-0   \n",
       "184    Observación D          SAS         Monotributista  27-23783266-6   \n",
       "77    Observación 76          SAS  Responsable Inscripto  25-67890130-3   \n",
       "538  Observación DRF          ONG         Monotributista  23-45678901-3   \n",
       "\n",
       "           Alta        Baja Activo Frecuencia   Importe  Nro de Cuenta  \\\n",
       "109  2018-01-01         NaN     SI  Semestral   66227.0         403103   \n",
       "10   2024-03-16  2023-06-14     NO  Bimestral  152834.0         403101   \n",
       "184  2019-02-12         NaN     SI    Mensual  333984.0         403103   \n",
       "77   2024-05-18         NaN     SI    Mensual  106340.0         402102   \n",
       "538  2024-04-01         NaN     SI    Mensual  351798.0         405100   \n",
       "\n",
       "          Pais      Mes  \n",
       "109    Bolivia    Enero  \n",
       "10   Argentina    Marzo  \n",
       "184   Paraguay  Febrero  \n",
       "77   Argentina     Mayo  \n",
       "538     México    Abril  "
      ]
     },
     "execution_count": 5,
     "metadata": {},
     "output_type": "execute_result"
    }
   ],
   "source": [
    "data_dir = Path.cwd().parent / \"data\" / \"merged\"\n",
    "datos = \"donantes_final-merged.csv\"\n",
    "data = data_dir / datos\n",
    "np.random.seed(42)\n",
    "df = pd.read_csv(data)\n",
    "df.sample(5)"
   ]
  },
  {
   "cell_type": "code",
   "execution_count": 6,
   "id": "23ac01bc-0451-4759-b751-28f586f053d6",
   "metadata": {},
   "outputs": [
    {
     "name": "stdout",
     "output_type": "stream",
     "text": [
      "<class 'pandas.core.frame.DataFrame'>\n",
      "RangeIndex: 608 entries, 0 to 607\n",
      "Data columns (total 18 columns):\n",
      " #   Column                 Non-Null Count  Dtype  \n",
      "---  ------                 --------------  -----  \n",
      " 0   Numero                 608 non-null    object \n",
      " 1   Nombre                 608 non-null    object \n",
      " 2   Tipo                   604 non-null    object \n",
      " 3   Contacto               608 non-null    object \n",
      " 4   Correo Electronico     608 non-null    object \n",
      " 5   Telefono               608 non-null    object \n",
      " 6   Observaciones          607 non-null    object \n",
      " 7   Razon Social           608 non-null    object \n",
      " 8   Tipo de Contribuyente  608 non-null    object \n",
      " 9   CUIT                   608 non-null    object \n",
      " 10  Alta                   608 non-null    object \n",
      " 11  Baja                   134 non-null    object \n",
      " 12  Activo                 608 non-null    object \n",
      " 13  Frecuencia             608 non-null    object \n",
      " 14  Importe                608 non-null    float64\n",
      " 15  Nro de Cuenta          608 non-null    int64  \n",
      " 16  Pais                   608 non-null    object \n",
      " 17  Mes                    608 non-null    object \n",
      "dtypes: float64(1), int64(1), object(16)\n",
      "memory usage: 85.6+ KB\n"
     ]
    }
   ],
   "source": [
    "df.info()"
   ]
  },
  {
   "cell_type": "markdown",
   "id": "43ff9967-e337-497f-88cd-2cfe654bf12f",
   "metadata": {},
   "source": [
    "Vamos a imputar esos valores nulos en vez de eliminarlos"
   ]
  },
  {
   "cell_type": "code",
   "execution_count": 7,
   "id": "4166b0f8-02e6-444d-b8f4-bd9f8d6ccabf",
   "metadata": {},
   "outputs": [
    {
     "data": {
      "text/plain": [
       "169    -\n",
       "179    -\n",
       "185    -\n",
       "193    -\n",
       "200    -\n",
       "210    -\n",
       "215    -\n",
       "225    -\n",
       "232    -\n",
       "243    -\n",
       "246    -\n",
       "254    -\n",
       "Name: Contacto, dtype: object"
      ]
     },
     "execution_count": 7,
     "metadata": {},
     "output_type": "execute_result"
    }
   ],
   "source": [
    "# maybe?\n",
    "# cond = df[\"Contacto\"] in [\" \", \"-\", \"\"]\n",
    "# \n",
    "cond = df[\"Contacto\"] == \" \"\n",
    "cond2 = df[\"Contacto\"] == \"-\"\n",
    "cond3 = df[\"Contacto\"] == \"\"\n",
    "df[cond | cond2 | cond3][\"Contacto\"]"
   ]
  },
  {
   "cell_type": "code",
   "execution_count": 9,
   "id": "5ce9dcfc-fd0f-46af-b946-74f02205758a",
   "metadata": {},
   "outputs": [],
   "source": [
    "df.loc[cond | cond2 | cond3, \"Contacto\"] = np.nan\n",
    "nans = df.loc[cond | cond2 | cond3, \"Contacto\"]"
   ]
  },
  {
   "cell_type": "code",
   "execution_count": 10,
   "id": "099c2455-eac5-49d5-ae84-f14e90a95dee",
   "metadata": {},
   "outputs": [],
   "source": [
    "df[\"Contacto\"] = df[\"Contacto\"].ffill()"
   ]
  },
  {
   "cell_type": "code",
   "execution_count": 11,
   "id": "fb897468-ad63-4e80-a327-a54ccf21b151",
   "metadata": {},
   "outputs": [
    {
     "data": {
      "text/plain": [
       "[169, 179, 185, 193, 200, 210, 215, 225, 232, 243, 246, 254]"
      ]
     },
     "execution_count": 11,
     "metadata": {},
     "output_type": "execute_result"
    }
   ],
   "source": [
    "list(nans.index)"
   ]
  },
  {
   "cell_type": "code",
   "execution_count": 12,
   "id": "e4eb7993-a375-4bf6-ac75-c7e881f01122",
   "metadata": {},
   "outputs": [
    {
     "data": {
      "text/html": [
       "<div>\n",
       "<style scoped>\n",
       "    .dataframe tbody tr th:only-of-type {\n",
       "        vertical-align: middle;\n",
       "    }\n",
       "\n",
       "    .dataframe tbody tr th {\n",
       "        vertical-align: top;\n",
       "    }\n",
       "\n",
       "    .dataframe thead th {\n",
       "        text-align: right;\n",
       "    }\n",
       "</style>\n",
       "<table border=\"1\" class=\"dataframe\">\n",
       "  <thead>\n",
       "    <tr style=\"text-align: right;\">\n",
       "      <th></th>\n",
       "      <th>Contacto</th>\n",
       "      <th>Correo Electronico</th>\n",
       "    </tr>\n",
       "  </thead>\n",
       "  <tbody>\n",
       "    <tr>\n",
       "      <th>169</th>\n",
       "      <td>Contacto AK</td>\n",
       "      <td>solidario@mail.com</td>\n",
       "    </tr>\n",
       "    <tr>\n",
       "      <th>179</th>\n",
       "      <td>Contacto VDS</td>\n",
       "      <td>solidario@mail.com</td>\n",
       "    </tr>\n",
       "    <tr>\n",
       "      <th>185</th>\n",
       "      <td>Contacto E</td>\n",
       "      <td>solidario@mail.com</td>\n",
       "    </tr>\n",
       "    <tr>\n",
       "      <th>193</th>\n",
       "      <td>Contacto B</td>\n",
       "      <td>solidario@mail.com</td>\n",
       "    </tr>\n",
       "    <tr>\n",
       "      <th>200</th>\n",
       "      <td>Contacto GH</td>\n",
       "      <td>solidario@mail.com</td>\n",
       "    </tr>\n",
       "    <tr>\n",
       "      <th>210</th>\n",
       "      <td>Contacto VS</td>\n",
       "      <td>solidario@mail.com</td>\n",
       "    </tr>\n",
       "    <tr>\n",
       "      <th>215</th>\n",
       "      <td>Contacto E</td>\n",
       "      <td>solidario@mail.com</td>\n",
       "    </tr>\n",
       "    <tr>\n",
       "      <th>225</th>\n",
       "      <td>Contacto A</td>\n",
       "      <td>solidario@mail.com</td>\n",
       "    </tr>\n",
       "    <tr>\n",
       "      <th>232</th>\n",
       "      <td>Contacto E</td>\n",
       "      <td>solidario@mail.com</td>\n",
       "    </tr>\n",
       "    <tr>\n",
       "      <th>243</th>\n",
       "      <td>Contacto VS</td>\n",
       "      <td>solidario@mail.com</td>\n",
       "    </tr>\n",
       "    <tr>\n",
       "      <th>246</th>\n",
       "      <td>Contacto GH</td>\n",
       "      <td>solidario@mail.com</td>\n",
       "    </tr>\n",
       "    <tr>\n",
       "      <th>254</th>\n",
       "      <td>Contacto VDS</td>\n",
       "      <td>solidario@mail.com</td>\n",
       "    </tr>\n",
       "  </tbody>\n",
       "</table>\n",
       "</div>"
      ],
      "text/plain": [
       "         Contacto  Correo Electronico\n",
       "169   Contacto AK  solidario@mail.com\n",
       "179  Contacto VDS  solidario@mail.com\n",
       "185    Contacto E  solidario@mail.com\n",
       "193    Contacto B  solidario@mail.com\n",
       "200   Contacto GH  solidario@mail.com\n",
       "210   Contacto VS  solidario@mail.com\n",
       "215    Contacto E  solidario@mail.com\n",
       "225    Contacto A  solidario@mail.com\n",
       "232    Contacto E  solidario@mail.com\n",
       "243   Contacto VS  solidario@mail.com\n",
       "246   Contacto GH  solidario@mail.com\n",
       "254  Contacto VDS  solidario@mail.com"
      ]
     },
     "execution_count": 12,
     "metadata": {},
     "output_type": "execute_result"
    }
   ],
   "source": [
    "df.iloc[list(nans.index), 3:5]"
   ]
  },
  {
   "cell_type": "markdown",
   "id": "48b37a2b-d82c-4629-9dd2-63939b3d24fe",
   "metadata": {},
   "source": [
    "Corregir las razone sociales"
   ]
  },
  {
   "cell_type": "code",
   "execution_count": 13,
   "id": "6202e56b-139a-4175-aa25-29980b21f3d4",
   "metadata": {},
   "outputs": [
    {
     "name": "stdout",
     "output_type": "stream",
     "text": [
      "['S.R.L' 'S.A' 'SAS' 'SA' 'SRL' 'GOB' 'ONG']\n",
      "['S.R.L' 'S.A' 'S.A.S' 'GOB' 'ONG']\n"
     ]
    }
   ],
   "source": [
    "print(df[\"Razon Social\"].unique())\n",
    "print(df.replace({\"Razon Social\": {\"SRL\": \"S.R.L\", \"SA\": \"S.A\", \"SAS\": \"S.A.S\"}})[\"Razon Social\"].unique())"
   ]
  },
  {
   "cell_type": "code",
   "execution_count": 14,
   "id": "9dcd1029-7e45-405c-965a-be077806c5f8",
   "metadata": {},
   "outputs": [
    {
     "data": {
      "text/plain": [
       "array(['S.R.L', 'S.A', 'S.A.S', 'GOB', 'ONG'], dtype=object)"
      ]
     },
     "execution_count": 14,
     "metadata": {},
     "output_type": "execute_result"
    }
   ],
   "source": [
    "# lo confirmamos\n",
    "df = df.replace({\"Razon Social\": {\"SRL\": \"S.R.L\", \"SA\": \"S.A\", \"SAS\": \"S.A.S\"}})\n",
    "df[\"Razon Social\"].unique()"
   ]
  },
  {
   "cell_type": "code",
   "execution_count": 15,
   "id": "32183e85-3563-4089-bc96-87c99769e971",
   "metadata": {},
   "outputs": [
    {
     "data": {
      "text/html": [
       "<div>\n",
       "<style scoped>\n",
       "    .dataframe tbody tr th:only-of-type {\n",
       "        vertical-align: middle;\n",
       "    }\n",
       "\n",
       "    .dataframe tbody tr th {\n",
       "        vertical-align: top;\n",
       "    }\n",
       "\n",
       "    .dataframe thead th {\n",
       "        text-align: right;\n",
       "    }\n",
       "</style>\n",
       "<table border=\"1\" class=\"dataframe\">\n",
       "  <thead>\n",
       "    <tr style=\"text-align: right;\">\n",
       "      <th></th>\n",
       "      <th>Numero</th>\n",
       "      <th>Nombre</th>\n",
       "      <th>Tipo</th>\n",
       "      <th>Contacto</th>\n",
       "    </tr>\n",
       "  </thead>\n",
       "  <tbody>\n",
       "    <tr>\n",
       "      <th>52</th>\n",
       "      <td>D00052</td>\n",
       "      <td>Mónica León</td>\n",
       "      <td>NaN</td>\n",
       "      <td>Contacto ZZ</td>\n",
       "    </tr>\n",
       "    <tr>\n",
       "      <th>69</th>\n",
       "      <td>D00068</td>\n",
       "      <td>Viviana Herrera</td>\n",
       "      <td>NaN</td>\n",
       "      <td>Contacto PPP</td>\n",
       "    </tr>\n",
       "    <tr>\n",
       "      <th>80</th>\n",
       "      <td>D00079</td>\n",
       "      <td>Ricardo López</td>\n",
       "      <td>NaN</td>\n",
       "      <td>Contacto AAAA</td>\n",
       "    </tr>\n",
       "    <tr>\n",
       "      <th>95</th>\n",
       "      <td>D00094</td>\n",
       "      <td>Rodrigo Medina</td>\n",
       "      <td>NaN</td>\n",
       "      <td>Contacto PPPP</td>\n",
       "    </tr>\n",
       "  </tbody>\n",
       "</table>\n",
       "</div>"
      ],
      "text/plain": [
       "    Numero           Nombre Tipo       Contacto\n",
       "52  D00052      Mónica León  NaN    Contacto ZZ\n",
       "69  D00068  Viviana Herrera  NaN   Contacto PPP\n",
       "80  D00079    Ricardo López  NaN  Contacto AAAA\n",
       "95  D00094   Rodrigo Medina  NaN  Contacto PPPP"
      ]
     },
     "execution_count": 15,
     "metadata": {},
     "output_type": "execute_result"
    }
   ],
   "source": [
    "mask = df[\"Tipo\"].isna()\n",
    "nans = df.loc[mask, df.columns[:4]]\n",
    "nans"
   ]
  },
  {
   "cell_type": "code",
   "execution_count": 16,
   "id": "181faf42-bad8-4310-acfa-169000618a42",
   "metadata": {},
   "outputs": [
    {
     "name": "stdout",
     "output_type": "stream",
     "text": [
      "0\n"
     ]
    }
   ],
   "source": [
    "col = \"Tipo\"\n",
    "df[col] = df[col].ffill()\n",
    "print(df[col].isna().sum())"
   ]
  },
  {
   "cell_type": "code",
   "execution_count": 17,
   "id": "3fcb0cd2-3e0e-424c-bfd6-0fac8f99f268",
   "metadata": {},
   "outputs": [
    {
     "data": {
      "text/html": [
       "<div>\n",
       "<style scoped>\n",
       "    .dataframe tbody tr th:only-of-type {\n",
       "        vertical-align: middle;\n",
       "    }\n",
       "\n",
       "    .dataframe tbody tr th {\n",
       "        vertical-align: top;\n",
       "    }\n",
       "\n",
       "    .dataframe thead th {\n",
       "        text-align: right;\n",
       "    }\n",
       "</style>\n",
       "<table border=\"1\" class=\"dataframe\">\n",
       "  <thead>\n",
       "    <tr style=\"text-align: right;\">\n",
       "      <th></th>\n",
       "      <th>Numero</th>\n",
       "      <th>Nombre</th>\n",
       "      <th>Tipo</th>\n",
       "      <th>Contacto</th>\n",
       "    </tr>\n",
       "  </thead>\n",
       "  <tbody>\n",
       "    <tr>\n",
       "      <th>52</th>\n",
       "      <td>D00052</td>\n",
       "      <td>Mónica León</td>\n",
       "      <td>Individuo</td>\n",
       "      <td>Contacto ZZ</td>\n",
       "    </tr>\n",
       "    <tr>\n",
       "      <th>69</th>\n",
       "      <td>D00068</td>\n",
       "      <td>Viviana Herrera</td>\n",
       "      <td>Individuo</td>\n",
       "      <td>Contacto PPP</td>\n",
       "    </tr>\n",
       "    <tr>\n",
       "      <th>80</th>\n",
       "      <td>D00079</td>\n",
       "      <td>Ricardo López</td>\n",
       "      <td>Individuo</td>\n",
       "      <td>Contacto AAAA</td>\n",
       "    </tr>\n",
       "    <tr>\n",
       "      <th>95</th>\n",
       "      <td>D00094</td>\n",
       "      <td>Rodrigo Medina</td>\n",
       "      <td>Individuo</td>\n",
       "      <td>Contacto PPPP</td>\n",
       "    </tr>\n",
       "  </tbody>\n",
       "</table>\n",
       "</div>"
      ],
      "text/plain": [
       "    Numero           Nombre       Tipo       Contacto\n",
       "52  D00052      Mónica León  Individuo    Contacto ZZ\n",
       "69  D00068  Viviana Herrera  Individuo   Contacto PPP\n",
       "80  D00079    Ricardo López  Individuo  Contacto AAAA\n",
       "95  D00094   Rodrigo Medina  Individuo  Contacto PPPP"
      ]
     },
     "execution_count": 17,
     "metadata": {},
     "output_type": "execute_result"
    }
   ],
   "source": [
    "# listo\n",
    "df.iloc[list(nans.index), :4]"
   ]
  },
  {
   "cell_type": "code",
   "execution_count": 18,
   "id": "de2fc09c-57ba-427c-92c0-8d6b8cfcd7ee",
   "metadata": {},
   "outputs": [
    {
     "data": {
      "text/plain": [
       "{'Tipo': array(['Empresa', 'Individuo', 'Estado', 'Campaña', 'ONG', 'Tecnología',\n",
       "        'Agroindustria'], dtype=object),\n",
       " 'Razon Social': array(['S.R.L', 'S.A', 'S.A.S', 'GOB', 'ONG'], dtype=object),\n",
       " 'Tipo de Contribuyente': array(['Responsable Inscripto', 'Monotributista', 'Exento',\n",
       "        'IVA Responsable Inscripto'], dtype=object),\n",
       " 'Frecuencia': array(['Mensual', 'Bimestral', 'Anual', 'Semestral', 'Trimestral'],\n",
       "       dtype=object),\n",
       " 'Pais': array(['Chile', 'Uruguay', 'Bolivia', 'Paraguay', 'Brasil', 'Argentina',\n",
       "        'Colombia', 'México', 'Perú', 'Venezuela'], dtype=object)}"
      ]
     },
     "execution_count": 18,
     "metadata": {},
     "output_type": "execute_result"
    }
   ],
   "source": [
    "columns = ['Tipo', 'Razon Social', 'Tipo de Contribuyente', 'Frecuencia', 'Pais']\n",
    "def unique_col(df, cols):\n",
    "    cols = {col: df[col].unique() for col in cols}\n",
    "    return cols\n",
    "df_uc = unique_col(df, columns)\n",
    "df_uc"
   ]
  },
  {
   "cell_type": "markdown",
   "id": "5a99ad04-819d-46c3-b333-39c8185ab8c1",
   "metadata": {},
   "source": [
    "Me olvide de cambiar `IVA Responsable Inscripto` a solo `Responsable Inscripto`  "
   ]
  },
  {
   "cell_type": "code",
   "execution_count": 19,
   "id": "d52037f5-e36a-4b63-a8d4-1f080fd593ad",
   "metadata": {},
   "outputs": [],
   "source": [
    "tipoc = \"Tipo de Contribuyente\"\n",
    "cur = df_uc[tipoc][3]\n",
    "rep = df_uc[tipoc][0]\n",
    "df[tipoc] = df[tipoc].str.replace(cur, rep)"
   ]
  },
  {
   "cell_type": "code",
   "execution_count": 20,
   "id": "4341d195-6849-444f-9456-2043d3cb1cb7",
   "metadata": {},
   "outputs": [
    {
     "data": {
      "text/plain": [
       "array(['Responsable Inscripto', 'Monotributista', 'Exento'], dtype=object)"
      ]
     },
     "execution_count": 20,
     "metadata": {},
     "output_type": "execute_result"
    }
   ],
   "source": [
    "df_uc = unique_col(df, columns)\n",
    "df_uc[\"Tipo de Contribuyente\"]"
   ]
  },
  {
   "cell_type": "code",
   "execution_count": 21,
   "id": "3cf434e7-6cb5-4720-a5c9-3fc13cd0a60a",
   "metadata": {},
   "outputs": [
    {
     "data": {
      "text/html": [
       "<div>\n",
       "<style scoped>\n",
       "    .dataframe tbody tr th:only-of-type {\n",
       "        vertical-align: middle;\n",
       "    }\n",
       "\n",
       "    .dataframe tbody tr th {\n",
       "        vertical-align: top;\n",
       "    }\n",
       "\n",
       "    .dataframe thead th {\n",
       "        text-align: right;\n",
       "    }\n",
       "</style>\n",
       "<table border=\"1\" class=\"dataframe\">\n",
       "  <thead>\n",
       "    <tr style=\"text-align: right;\">\n",
       "      <th></th>\n",
       "      <th>Columna</th>\n",
       "      <th>Unicos</th>\n",
       "    </tr>\n",
       "  </thead>\n",
       "  <tbody>\n",
       "    <tr>\n",
       "      <th>0</th>\n",
       "      <td>Numero</td>\n",
       "      <td>138</td>\n",
       "    </tr>\n",
       "    <tr>\n",
       "      <th>1</th>\n",
       "      <td>Nombre</td>\n",
       "      <td>138</td>\n",
       "    </tr>\n",
       "    <tr>\n",
       "      <th>2</th>\n",
       "      <td>Tipo</td>\n",
       "      <td>7</td>\n",
       "    </tr>\n",
       "    <tr>\n",
       "      <th>3</th>\n",
       "      <td>Contacto</td>\n",
       "      <td>125</td>\n",
       "    </tr>\n",
       "    <tr>\n",
       "      <th>4</th>\n",
       "      <td>Correo Electronico</td>\n",
       "      <td>138</td>\n",
       "    </tr>\n",
       "    <tr>\n",
       "      <th>5</th>\n",
       "      <td>Telefono</td>\n",
       "      <td>132</td>\n",
       "    </tr>\n",
       "    <tr>\n",
       "      <th>6</th>\n",
       "      <td>Observaciones</td>\n",
       "      <td>130</td>\n",
       "    </tr>\n",
       "    <tr>\n",
       "      <th>7</th>\n",
       "      <td>Razon Social</td>\n",
       "      <td>5</td>\n",
       "    </tr>\n",
       "    <tr>\n",
       "      <th>8</th>\n",
       "      <td>Tipo de Contribuyente</td>\n",
       "      <td>3</td>\n",
       "    </tr>\n",
       "    <tr>\n",
       "      <th>9</th>\n",
       "      <td>CUIT</td>\n",
       "      <td>137</td>\n",
       "    </tr>\n",
       "    <tr>\n",
       "      <th>10</th>\n",
       "      <td>Alta</td>\n",
       "      <td>105</td>\n",
       "    </tr>\n",
       "    <tr>\n",
       "      <th>11</th>\n",
       "      <td>Baja</td>\n",
       "      <td>44</td>\n",
       "    </tr>\n",
       "    <tr>\n",
       "      <th>12</th>\n",
       "      <td>Activo</td>\n",
       "      <td>3</td>\n",
       "    </tr>\n",
       "    <tr>\n",
       "      <th>13</th>\n",
       "      <td>Frecuencia</td>\n",
       "      <td>5</td>\n",
       "    </tr>\n",
       "    <tr>\n",
       "      <th>14</th>\n",
       "      <td>Importe</td>\n",
       "      <td>607</td>\n",
       "    </tr>\n",
       "    <tr>\n",
       "      <th>15</th>\n",
       "      <td>Nro de Cuenta</td>\n",
       "      <td>7</td>\n",
       "    </tr>\n",
       "    <tr>\n",
       "      <th>16</th>\n",
       "      <td>Pais</td>\n",
       "      <td>10</td>\n",
       "    </tr>\n",
       "    <tr>\n",
       "      <th>17</th>\n",
       "      <td>Mes</td>\n",
       "      <td>10</td>\n",
       "    </tr>\n",
       "  </tbody>\n",
       "</table>\n",
       "</div>"
      ],
      "text/plain": [
       "                  Columna  Unicos\n",
       "0                  Numero     138\n",
       "1                  Nombre     138\n",
       "2                    Tipo       7\n",
       "3                Contacto     125\n",
       "4      Correo Electronico     138\n",
       "5                Telefono     132\n",
       "6           Observaciones     130\n",
       "7            Razon Social       5\n",
       "8   Tipo de Contribuyente       3\n",
       "9                    CUIT     137\n",
       "10                   Alta     105\n",
       "11                   Baja      44\n",
       "12                 Activo       3\n",
       "13             Frecuencia       5\n",
       "14                Importe     607\n",
       "15          Nro de Cuenta       7\n",
       "16                   Pais      10\n",
       "17                    Mes      10"
      ]
     },
     "execution_count": 21,
     "metadata": {},
     "output_type": "execute_result"
    }
   ],
   "source": [
    "def nunique_col(df):\n",
    "    cols = [(col, df[col].nunique()) for col in df.columns]\n",
    "    df_t = pd.DataFrame(cols, columns=[\"Columna\", \"Unicos\"])\n",
    "    return df_t\n",
    "df_nuc = nunique_col(df)\n",
    "df_nuc"
   ]
  },
  {
   "cell_type": "markdown",
   "id": "8868d42b-013c-4c12-afd1-e56e1643cec6",
   "metadata": {},
   "source": [
    "---"
   ]
  },
  {
   "cell_type": "markdown",
   "id": "7f10f9f5-00ea-4455-afd5-b9da9ee8a04e",
   "metadata": {},
   "source": [
    "Para que no haya `CUIT` duplicados ya que hay uno solo, en vez de borrarlo lo cambio.  \n",
    "Los demas como `contacto` imagino que se pueden duplicar en la realidad. Los telefonos no deberian, pero ya que no son reales dejamos que se dupliquen"
   ]
  },
  {
   "cell_type": "code",
   "execution_count": 22,
   "id": "3d4970fc-99f4-4e32-a67e-aa9868480be6",
   "metadata": {},
   "outputs": [
    {
     "data": {
      "text/html": [
       "<div>\n",
       "<style scoped>\n",
       "    .dataframe tbody tr th:only-of-type {\n",
       "        vertical-align: middle;\n",
       "    }\n",
       "\n",
       "    .dataframe tbody tr th {\n",
       "        vertical-align: top;\n",
       "    }\n",
       "\n",
       "    .dataframe thead th {\n",
       "        text-align: right;\n",
       "    }\n",
       "</style>\n",
       "<table border=\"1\" class=\"dataframe\">\n",
       "  <thead>\n",
       "    <tr style=\"text-align: right;\">\n",
       "      <th></th>\n",
       "      <th>Numero</th>\n",
       "      <th>Nombre</th>\n",
       "      <th>Tipo</th>\n",
       "      <th>Contacto</th>\n",
       "      <th>Correo Electronico</th>\n",
       "      <th>Telefono</th>\n",
       "      <th>Observaciones</th>\n",
       "      <th>Razon Social</th>\n",
       "      <th>Tipo de Contribuyente</th>\n",
       "      <th>CUIT</th>\n",
       "      <th>Alta</th>\n",
       "      <th>Baja</th>\n",
       "      <th>Activo</th>\n",
       "      <th>Frecuencia</th>\n",
       "      <th>Importe</th>\n",
       "      <th>Nro de Cuenta</th>\n",
       "      <th>Pais</th>\n",
       "      <th>Mes</th>\n",
       "    </tr>\n",
       "  </thead>\n",
       "  <tbody>\n",
       "    <tr>\n",
       "      <th>499</th>\n",
       "      <td>D00124</td>\n",
       "      <td>Soluciones VerdeVida</td>\n",
       "      <td>ONG</td>\n",
       "      <td>Contacto DSF</td>\n",
       "      <td>ana.solis@verdevida.com</td>\n",
       "      <td>(+)54 9 11 1234 5678</td>\n",
       "      <td>Observación DE</td>\n",
       "      <td>ONG</td>\n",
       "      <td>Monotributista</td>\n",
       "      <td>20-12345678-9</td>\n",
       "      <td>2024-01-02</td>\n",
       "      <td>NaN</td>\n",
       "      <td>SI</td>\n",
       "      <td>Mensual</td>\n",
       "      <td>221969.0</td>\n",
       "      <td>405100</td>\n",
       "      <td>Argentina</td>\n",
       "      <td>Enero</td>\n",
       "    </tr>\n",
       "  </tbody>\n",
       "</table>\n",
       "</div>"
      ],
      "text/plain": [
       "     Numero                Nombre Tipo      Contacto       Correo Electronico  \\\n",
       "499  D00124  Soluciones VerdeVida  ONG  Contacto DSF  ana.solis@verdevida.com   \n",
       "\n",
       "                 Telefono   Observaciones Razon Social Tipo de Contribuyente  \\\n",
       "499  (+)54 9 11 1234 5678  Observación DE          ONG        Monotributista   \n",
       "\n",
       "              CUIT        Alta Baja Activo Frecuencia   Importe  \\\n",
       "499  20-12345678-9  2024-01-02  NaN     SI    Mensual  221969.0   \n",
       "\n",
       "     Nro de Cuenta       Pais    Mes  \n",
       "499         405100  Argentina  Enero  "
      ]
     },
     "execution_count": 22,
     "metadata": {},
     "output_type": "execute_result"
    }
   ],
   "source": [
    "# buscamos\n",
    "df2 = df.drop_duplicates(subset=\"Numero\")\n",
    "dup = df2[df2[\"CUIT\"].duplicated()]\n",
    "dup"
   ]
  },
  {
   "cell_type": "code",
   "execution_count": 23,
   "id": "ec703847-05bc-4787-9a6b-160c8bc5b9d2",
   "metadata": {},
   "outputs": [
    {
     "data": {
      "text/html": [
       "<div>\n",
       "<style scoped>\n",
       "    .dataframe tbody tr th:only-of-type {\n",
       "        vertical-align: middle;\n",
       "    }\n",
       "\n",
       "    .dataframe tbody tr th {\n",
       "        vertical-align: top;\n",
       "    }\n",
       "\n",
       "    .dataframe thead th {\n",
       "        text-align: right;\n",
       "    }\n",
       "</style>\n",
       "<table border=\"1\" class=\"dataframe\">\n",
       "  <thead>\n",
       "    <tr style=\"text-align: right;\">\n",
       "      <th></th>\n",
       "      <th>Numero</th>\n",
       "      <th>Nombre</th>\n",
       "      <th>Tipo</th>\n",
       "      <th>Contacto</th>\n",
       "      <th>Correo Electronico</th>\n",
       "      <th>Telefono</th>\n",
       "      <th>Observaciones</th>\n",
       "      <th>Razon Social</th>\n",
       "      <th>Tipo de Contribuyente</th>\n",
       "      <th>CUIT</th>\n",
       "      <th>Alta</th>\n",
       "      <th>Baja</th>\n",
       "      <th>Activo</th>\n",
       "      <th>Frecuencia</th>\n",
       "      <th>Importe</th>\n",
       "      <th>Nro de Cuenta</th>\n",
       "      <th>Pais</th>\n",
       "      <th>Mes</th>\n",
       "    </tr>\n",
       "  </thead>\n",
       "  <tbody>\n",
       "    <tr>\n",
       "      <th>0</th>\n",
       "      <td>D00001</td>\n",
       "      <td>TechNova Solutions</td>\n",
       "      <td>Empresa</td>\n",
       "      <td>Contacto A</td>\n",
       "      <td>TechNova Solutions@example.com</td>\n",
       "      <td>(011) 5000-0001</td>\n",
       "      <td>Observación 1</td>\n",
       "      <td>S.R.L</td>\n",
       "      <td>Responsable Inscripto</td>\n",
       "      <td>20-12345678-9</td>\n",
       "      <td>2024-02-26</td>\n",
       "      <td>2023-05-11</td>\n",
       "      <td>NO</td>\n",
       "      <td>Mensual</td>\n",
       "      <td>292732.0</td>\n",
       "      <td>402101</td>\n",
       "      <td>Chile</td>\n",
       "      <td>Febrero</td>\n",
       "    </tr>\n",
       "    <tr>\n",
       "      <th>499</th>\n",
       "      <td>D00124</td>\n",
       "      <td>Soluciones VerdeVida</td>\n",
       "      <td>ONG</td>\n",
       "      <td>Contacto DSF</td>\n",
       "      <td>ana.solis@verdevida.com</td>\n",
       "      <td>(+)54 9 11 1234 5678</td>\n",
       "      <td>Observación DE</td>\n",
       "      <td>ONG</td>\n",
       "      <td>Monotributista</td>\n",
       "      <td>20-12345678-9</td>\n",
       "      <td>2024-01-02</td>\n",
       "      <td>NaN</td>\n",
       "      <td>SI</td>\n",
       "      <td>Mensual</td>\n",
       "      <td>221969.0</td>\n",
       "      <td>405100</td>\n",
       "      <td>Argentina</td>\n",
       "      <td>Enero</td>\n",
       "    </tr>\n",
       "  </tbody>\n",
       "</table>\n",
       "</div>"
      ],
      "text/plain": [
       "     Numero                Nombre     Tipo      Contacto  \\\n",
       "0    D00001    TechNova Solutions  Empresa    Contacto A   \n",
       "499  D00124  Soluciones VerdeVida      ONG  Contacto DSF   \n",
       "\n",
       "                 Correo Electronico              Telefono   Observaciones  \\\n",
       "0    TechNova Solutions@example.com       (011) 5000-0001   Observación 1   \n",
       "499         ana.solis@verdevida.com  (+)54 9 11 1234 5678  Observación DE   \n",
       "\n",
       "    Razon Social  Tipo de Contribuyente           CUIT        Alta  \\\n",
       "0          S.R.L  Responsable Inscripto  20-12345678-9  2024-02-26   \n",
       "499          ONG         Monotributista  20-12345678-9  2024-01-02   \n",
       "\n",
       "           Baja Activo Frecuencia   Importe  Nro de Cuenta       Pais      Mes  \n",
       "0    2023-05-11     NO    Mensual  292732.0         402101      Chile  Febrero  \n",
       "499         NaN     SI    Mensual  221969.0         405100  Argentina    Enero  "
      ]
     },
     "execution_count": 23,
     "metadata": {},
     "output_type": "execute_result"
    }
   ],
   "source": [
    "# vemos quienes lo comparten\n",
    "cui = dup[\"CUIT\"].iloc[0]\n",
    "df2[df2[\"CUIT\"] == cui]"
   ]
  },
  {
   "cell_type": "code",
   "execution_count": 25,
   "id": "1526e3c8-c7c8-4f95-b21d-7a25a454ae80",
   "metadata": {},
   "outputs": [
    {
     "name": "stdout",
     "output_type": "stream",
     "text": [
      "Cuantos tiene este cuit?: 0\n"
     ]
    },
    {
     "data": {
      "text/plain": [
       "138"
      ]
     },
     "execution_count": 25,
     "metadata": {},
     "output_type": "execute_result"
    }
   ],
   "source": [
    "# buscamos y cambiamos\n",
    "replaced_str = df.loc[499, \"CUIT\"].replace('8', '0')\n",
    "# nos fijamos que no exista ya\n",
    "print(f\"Cuantos tiene este cuit?: {(df['CUIT'] == replaced_str).sum()}\")\n",
    "# reemplazamos\n",
    "df.loc[499, \"CUIT\"] = replaced_str\n",
    "# deberia dar 138\n",
    "df[\"CUIT\"].nunique()"
   ]
  },
  {
   "cell_type": "markdown",
   "id": "ce990484-d7b1-4e12-8ef7-e0d65b9b3edf",
   "metadata": {},
   "source": [
    "Quedaria solo poner los tipos de datos correcto y elegir las columnas a quedarse  \n",
    "La columna `Alta` va a ser la fecha en que se hizo la donacion"
   ]
  },
  {
   "cell_type": "code",
   "execution_count": 26,
   "id": "029cd480-71b4-42fe-88db-98093c184d4f",
   "metadata": {},
   "outputs": [
    {
     "data": {
      "text/plain": [
       "Index(['Numero', 'Nombre', 'Tipo', 'Contacto', 'Correo Electronico',\n",
       "       'Telefono', 'Observaciones', 'Razon Social', 'Tipo de Contribuyente',\n",
       "       'CUIT', 'Fecha', 'Baja', 'Activo', 'Frecuencia', 'Importe',\n",
       "       'Nro de Cuenta', 'Pais', 'Mes'],\n",
       "      dtype='object')"
      ]
     },
     "execution_count": 26,
     "metadata": {},
     "output_type": "execute_result"
    }
   ],
   "source": [
    "df.rename(columns={\"Alta\": \"Fecha\"}, inplace=True)\n",
    "df.columns"
   ]
  },
  {
   "cell_type": "code",
   "execution_count": 27,
   "id": "daccd073-10c1-46ed-b781-e3b56e2a4bda",
   "metadata": {},
   "outputs": [
    {
     "name": "stdout",
     "output_type": "stream",
     "text": [
      "object\n",
      "datetime64[ns]\n"
     ]
    }
   ],
   "source": [
    "print(df[\"Fecha\"].dtype)\n",
    "df[\"Fecha\"] = pd.to_datetime(df[\"Fecha\"])\n",
    "print(df[\"Fecha\"].dtype)"
   ]
  },
  {
   "cell_type": "code",
   "execution_count": 28,
   "id": "23a349fd-9f49-4a01-8763-110d4db4cd1c",
   "metadata": {},
   "outputs": [
    {
     "data": {
      "text/plain": [
       "0      NO\n",
       "1      NO\n",
       "2      SI\n",
       "3      NO\n",
       "4      SI\n",
       "       ..\n",
       "603    SI\n",
       "604    SI\n",
       "605    SI\n",
       "606    SI\n",
       "607    SI\n",
       "Name: Activo, Length: 608, dtype: object"
      ]
     },
     "execution_count": 28,
     "metadata": {},
     "output_type": "execute_result"
    }
   ],
   "source": [
    "df[\"Activo\"]"
   ]
  },
  {
   "cell_type": "code",
   "execution_count": 29,
   "id": "1e3669a5-7dd1-47f1-8496-c222a0725379",
   "metadata": {},
   "outputs": [
    {
     "name": "stdout",
     "output_type": "stream",
     "text": [
      "object\n",
      "bool\n"
     ]
    }
   ],
   "source": [
    "print(df[\"Activo\"].dtype)\n",
    "# cambiamos a valores booleanos y despues casteamos el tipo\n",
    "df[\"Activo\"] = df[\"Activo\"].str.upper().map({\"SI\": True, \"NO\": False})\n",
    "print(df[\"Activo\"].dtype)"
   ]
  },
  {
   "cell_type": "code",
   "execution_count": 30,
   "id": "ac86eeab-6f30-4bd2-bab1-edd254f8a1c7",
   "metadata": {},
   "outputs": [
    {
     "name": "stdout",
     "output_type": "stream",
     "text": [
      "<class 'pandas.core.frame.DataFrame'>\n",
      "RangeIndex: 608 entries, 0 to 607\n",
      "Data columns (total 18 columns):\n",
      " #   Column                 Non-Null Count  Dtype         \n",
      "---  ------                 --------------  -----         \n",
      " 0   Numero                 608 non-null    object        \n",
      " 1   Nombre                 608 non-null    object        \n",
      " 2   Tipo                   608 non-null    object        \n",
      " 3   Contacto               608 non-null    object        \n",
      " 4   Correo Electronico     608 non-null    object        \n",
      " 5   Telefono               608 non-null    object        \n",
      " 6   Observaciones          607 non-null    object        \n",
      " 7   Razon Social           608 non-null    object        \n",
      " 8   Tipo de Contribuyente  608 non-null    object        \n",
      " 9   CUIT                   608 non-null    object        \n",
      " 10  Fecha                  608 non-null    datetime64[ns]\n",
      " 11  Baja                   134 non-null    object        \n",
      " 12  Activo                 608 non-null    bool          \n",
      " 13  Frecuencia             608 non-null    object        \n",
      " 14  Importe                608 non-null    float64       \n",
      " 15  Nro de Cuenta          608 non-null    int64         \n",
      " 16  Pais                   608 non-null    object        \n",
      " 17  Mes                    608 non-null    object        \n",
      "dtypes: bool(1), datetime64[ns](1), float64(1), int64(1), object(14)\n",
      "memory usage: 81.5+ KB\n"
     ]
    }
   ],
   "source": [
    "df.info()"
   ]
  },
  {
   "cell_type": "code",
   "execution_count": 31,
   "id": "c04e9f05-5e59-4eeb-88dc-fd33056fabe1",
   "metadata": {},
   "outputs": [
    {
     "name": "stdout",
     "output_type": "stream",
     "text": [
      "<class 'pandas.core.frame.DataFrame'>\n",
      "RangeIndex: 608 entries, 0 to 607\n",
      "Data columns (total 15 columns):\n",
      " #   Column                 Non-Null Count  Dtype         \n",
      "---  ------                 --------------  -----         \n",
      " 0   Numero                 608 non-null    object        \n",
      " 1   Nombre                 608 non-null    object        \n",
      " 2   Tipo                   608 non-null    object        \n",
      " 3   Contacto               608 non-null    object        \n",
      " 4   Correo Electronico     608 non-null    object        \n",
      " 5   Telefono               608 non-null    object        \n",
      " 6   Razon Social           608 non-null    object        \n",
      " 7   Tipo de Contribuyente  608 non-null    object        \n",
      " 8   CUIT                   608 non-null    object        \n",
      " 9   Fecha                  608 non-null    datetime64[ns]\n",
      " 10  Activo                 608 non-null    bool          \n",
      " 11  Frecuencia             608 non-null    object        \n",
      " 12  Importe                608 non-null    float64       \n",
      " 13  Nro de Cuenta          608 non-null    int64         \n",
      " 14  Pais                   608 non-null    object        \n",
      "dtypes: bool(1), datetime64[ns](1), float64(1), int64(1), object(11)\n",
      "memory usage: 67.2+ KB\n"
     ]
    }
   ],
   "source": [
    "df_final = df[[\"Numero\", \"Nombre\", \"Tipo\",\n",
    "               \"Contacto\", \"Correo Electronico\",\n",
    "               \"Telefono\", \"Razon Social\",\n",
    "               \"Tipo de Contribuyente\",\n",
    "               \"CUIT\", \"Fecha\", \"Activo\",\n",
    "               \"Frecuencia\", \"Importe\",\n",
    "               \"Nro de Cuenta\", \"Pais\"]]\n",
    "df_final.info()"
   ]
  },
  {
   "cell_type": "markdown",
   "id": "7282364b",
   "metadata": {},
   "source": [
    "## Last rename"
   ]
  },
  {
   "cell_type": "code",
   "execution_count": 32,
   "id": "9e88dd35-ac9e-4f6c-bd02-8e4da4c549c5",
   "metadata": {},
   "outputs": [
    {
     "data": {
      "text/plain": [
       "{'Tipo': array(['Empresa', 'Individuo', 'Estado', 'Campaña', 'ONG', 'Tecnología',\n",
       "        'Agroindustria'], dtype=object),\n",
       " 'Razon Social': array(['S.R.L', 'S.A', 'S.A.S', 'GOB', 'ONG'], dtype=object),\n",
       " 'Tipo de Contribuyente': array(['Responsable Inscripto', 'Monotributista', 'Exento'], dtype=object),\n",
       " 'Frecuencia': array(['Mensual', 'Bimestral', 'Anual', 'Semestral', 'Trimestral'],\n",
       "       dtype=object),\n",
       " 'Pais': array(['Chile', 'Uruguay', 'Bolivia', 'Paraguay', 'Brasil', 'Argentina',\n",
       "        'Colombia', 'México', 'Perú', 'Venezuela'], dtype=object)}"
      ]
     },
     "execution_count": 32,
     "metadata": {},
     "output_type": "execute_result"
    }
   ],
   "source": [
    "unique_col(df_final, columns)"
   ]
  },
  {
   "cell_type": "code",
   "execution_count": 33,
   "id": "7c986c12-ad7d-4670-8fe4-c9b7474ae947",
   "metadata": {},
   "outputs": [
    {
     "data": {
      "text/html": [
       "<div>\n",
       "<style scoped>\n",
       "    .dataframe tbody tr th:only-of-type {\n",
       "        vertical-align: middle;\n",
       "    }\n",
       "\n",
       "    .dataframe tbody tr th {\n",
       "        vertical-align: top;\n",
       "    }\n",
       "\n",
       "    .dataframe thead th {\n",
       "        text-align: right;\n",
       "    }\n",
       "</style>\n",
       "<table border=\"1\" class=\"dataframe\">\n",
       "  <thead>\n",
       "    <tr style=\"text-align: right;\">\n",
       "      <th></th>\n",
       "      <th>Columna</th>\n",
       "      <th>Unicos</th>\n",
       "    </tr>\n",
       "  </thead>\n",
       "  <tbody>\n",
       "    <tr>\n",
       "      <th>0</th>\n",
       "      <td>Numero</td>\n",
       "      <td>138</td>\n",
       "    </tr>\n",
       "    <tr>\n",
       "      <th>1</th>\n",
       "      <td>Nombre</td>\n",
       "      <td>138</td>\n",
       "    </tr>\n",
       "    <tr>\n",
       "      <th>2</th>\n",
       "      <td>Tipo</td>\n",
       "      <td>7</td>\n",
       "    </tr>\n",
       "    <tr>\n",
       "      <th>3</th>\n",
       "      <td>Contacto</td>\n",
       "      <td>125</td>\n",
       "    </tr>\n",
       "    <tr>\n",
       "      <th>4</th>\n",
       "      <td>Correo Electronico</td>\n",
       "      <td>138</td>\n",
       "    </tr>\n",
       "    <tr>\n",
       "      <th>5</th>\n",
       "      <td>Telefono</td>\n",
       "      <td>132</td>\n",
       "    </tr>\n",
       "    <tr>\n",
       "      <th>6</th>\n",
       "      <td>Razon Social</td>\n",
       "      <td>5</td>\n",
       "    </tr>\n",
       "    <tr>\n",
       "      <th>7</th>\n",
       "      <td>Tipo de Contribuyente</td>\n",
       "      <td>3</td>\n",
       "    </tr>\n",
       "    <tr>\n",
       "      <th>8</th>\n",
       "      <td>CUIT</td>\n",
       "      <td>138</td>\n",
       "    </tr>\n",
       "    <tr>\n",
       "      <th>9</th>\n",
       "      <td>Fecha</td>\n",
       "      <td>105</td>\n",
       "    </tr>\n",
       "    <tr>\n",
       "      <th>10</th>\n",
       "      <td>Activo</td>\n",
       "      <td>2</td>\n",
       "    </tr>\n",
       "    <tr>\n",
       "      <th>11</th>\n",
       "      <td>Frecuencia</td>\n",
       "      <td>5</td>\n",
       "    </tr>\n",
       "    <tr>\n",
       "      <th>12</th>\n",
       "      <td>Importe</td>\n",
       "      <td>607</td>\n",
       "    </tr>\n",
       "    <tr>\n",
       "      <th>13</th>\n",
       "      <td>Nro de Cuenta</td>\n",
       "      <td>7</td>\n",
       "    </tr>\n",
       "    <tr>\n",
       "      <th>14</th>\n",
       "      <td>Pais</td>\n",
       "      <td>10</td>\n",
       "    </tr>\n",
       "  </tbody>\n",
       "</table>\n",
       "</div>"
      ],
      "text/plain": [
       "                  Columna  Unicos\n",
       "0                  Numero     138\n",
       "1                  Nombre     138\n",
       "2                    Tipo       7\n",
       "3                Contacto     125\n",
       "4      Correo Electronico     138\n",
       "5                Telefono     132\n",
       "6            Razon Social       5\n",
       "7   Tipo de Contribuyente       3\n",
       "8                    CUIT     138\n",
       "9                   Fecha     105\n",
       "10                 Activo       2\n",
       "11             Frecuencia       5\n",
       "12                Importe     607\n",
       "13          Nro de Cuenta       7\n",
       "14                   Pais      10"
      ]
     },
     "execution_count": 33,
     "metadata": {},
     "output_type": "execute_result"
    }
   ],
   "source": [
    "nunique_col(df_final)"
   ]
  },
  {
   "cell_type": "code",
   "execution_count": 34,
   "id": "550a87fe-d60f-40f3-85f3-dedf48d2f77a",
   "metadata": {},
   "outputs": [
    {
     "name": "stdout",
     "output_type": "stream",
     "text": [
      "donantes-clean.csv\n"
     ]
    }
   ],
   "source": [
    "data_dir = Path.cwd().parent / \"data\" / \"cleaned\"\n",
    "data_clean = data_dir / \"donantes-clean.csv\"\n",
    "df_final.to_csv(data_clean, index=False)\n",
    "!ls {data_dir}"
   ]
  },
  {
   "cell_type": "code",
   "execution_count": 35,
   "id": "0cdaf3b1-e183-4c84-a9f2-dcd391890b8e",
   "metadata": {},
   "outputs": [
    {
     "name": "stdout",
     "output_type": "stream",
     "text": [
      "<class 'pandas.core.frame.DataFrame'>\n",
      "RangeIndex: 608 entries, 0 to 607\n",
      "Data columns (total 15 columns):\n",
      " #   Column                 Non-Null Count  Dtype  \n",
      "---  ------                 --------------  -----  \n",
      " 0   Numero                 608 non-null    object \n",
      " 1   Nombre                 608 non-null    object \n",
      " 2   Tipo                   608 non-null    object \n",
      " 3   Contacto               608 non-null    object \n",
      " 4   Correo Electronico     608 non-null    object \n",
      " 5   Telefono               608 non-null    object \n",
      " 6   Razon Social           608 non-null    object \n",
      " 7   Tipo de Contribuyente  608 non-null    object \n",
      " 8   CUIT                   608 non-null    object \n",
      " 9   Fecha                  608 non-null    object \n",
      " 10  Activo                 608 non-null    bool   \n",
      " 11  Frecuencia             608 non-null    object \n",
      " 12  Importe                608 non-null    float64\n",
      " 13  Nro de Cuenta          608 non-null    int64  \n",
      " 14  Pais                   608 non-null    object \n",
      "dtypes: bool(1), float64(1), int64(1), object(12)\n",
      "memory usage: 67.2+ KB\n"
     ]
    }
   ],
   "source": [
    "asd = pd.read_csv(data_clean)\n",
    "asd.info()"
   ]
  },
  {
   "cell_type": "code",
   "execution_count": 36,
   "id": "7e997d97-0628-4811-b154-0b1e2e6fa539",
   "metadata": {},
   "outputs": [
    {
     "data": {
      "text/html": [
       "<div>\n",
       "<style scoped>\n",
       "    .dataframe tbody tr th:only-of-type {\n",
       "        vertical-align: middle;\n",
       "    }\n",
       "\n",
       "    .dataframe tbody tr th {\n",
       "        vertical-align: top;\n",
       "    }\n",
       "\n",
       "    .dataframe thead th {\n",
       "        text-align: right;\n",
       "    }\n",
       "</style>\n",
       "<table border=\"1\" class=\"dataframe\">\n",
       "  <thead>\n",
       "    <tr style=\"text-align: right;\">\n",
       "      <th></th>\n",
       "      <th>Columna</th>\n",
       "      <th>Unicos</th>\n",
       "    </tr>\n",
       "  </thead>\n",
       "  <tbody>\n",
       "    <tr>\n",
       "      <th>0</th>\n",
       "      <td>Numero</td>\n",
       "      <td>138</td>\n",
       "    </tr>\n",
       "    <tr>\n",
       "      <th>1</th>\n",
       "      <td>Nombre</td>\n",
       "      <td>138</td>\n",
       "    </tr>\n",
       "    <tr>\n",
       "      <th>2</th>\n",
       "      <td>Tipo</td>\n",
       "      <td>7</td>\n",
       "    </tr>\n",
       "    <tr>\n",
       "      <th>3</th>\n",
       "      <td>Contacto</td>\n",
       "      <td>125</td>\n",
       "    </tr>\n",
       "    <tr>\n",
       "      <th>4</th>\n",
       "      <td>Correo Electronico</td>\n",
       "      <td>138</td>\n",
       "    </tr>\n",
       "    <tr>\n",
       "      <th>5</th>\n",
       "      <td>Telefono</td>\n",
       "      <td>132</td>\n",
       "    </tr>\n",
       "    <tr>\n",
       "      <th>6</th>\n",
       "      <td>Razon Social</td>\n",
       "      <td>5</td>\n",
       "    </tr>\n",
       "    <tr>\n",
       "      <th>7</th>\n",
       "      <td>Tipo de Contribuyente</td>\n",
       "      <td>3</td>\n",
       "    </tr>\n",
       "    <tr>\n",
       "      <th>8</th>\n",
       "      <td>CUIT</td>\n",
       "      <td>138</td>\n",
       "    </tr>\n",
       "    <tr>\n",
       "      <th>9</th>\n",
       "      <td>Fecha</td>\n",
       "      <td>105</td>\n",
       "    </tr>\n",
       "    <tr>\n",
       "      <th>10</th>\n",
       "      <td>Activo</td>\n",
       "      <td>2</td>\n",
       "    </tr>\n",
       "    <tr>\n",
       "      <th>11</th>\n",
       "      <td>Frecuencia</td>\n",
       "      <td>5</td>\n",
       "    </tr>\n",
       "    <tr>\n",
       "      <th>12</th>\n",
       "      <td>Importe</td>\n",
       "      <td>607</td>\n",
       "    </tr>\n",
       "    <tr>\n",
       "      <th>13</th>\n",
       "      <td>Nro de Cuenta</td>\n",
       "      <td>7</td>\n",
       "    </tr>\n",
       "    <tr>\n",
       "      <th>14</th>\n",
       "      <td>Pais</td>\n",
       "      <td>10</td>\n",
       "    </tr>\n",
       "  </tbody>\n",
       "</table>\n",
       "</div>"
      ],
      "text/plain": [
       "                  Columna  Unicos\n",
       "0                  Numero     138\n",
       "1                  Nombre     138\n",
       "2                    Tipo       7\n",
       "3                Contacto     125\n",
       "4      Correo Electronico     138\n",
       "5                Telefono     132\n",
       "6            Razon Social       5\n",
       "7   Tipo de Contribuyente       3\n",
       "8                    CUIT     138\n",
       "9                   Fecha     105\n",
       "10                 Activo       2\n",
       "11             Frecuencia       5\n",
       "12                Importe     607\n",
       "13          Nro de Cuenta       7\n",
       "14                   Pais      10"
      ]
     },
     "execution_count": 36,
     "metadata": {},
     "output_type": "execute_result"
    }
   ],
   "source": [
    "nunique_col(asd)"
   ]
  },
  {
   "cell_type": "code",
   "execution_count": 37,
   "id": "629843c3-3b51-4d94-83f3-65437ee1ed6b",
   "metadata": {},
   "outputs": [
    {
     "data": {
      "text/plain": [
       "{'Tipo': array(['Empresa', 'Individuo', 'Estado', 'Campaña', 'ONG', 'Tecnología',\n",
       "        'Agroindustria'], dtype=object),\n",
       " 'Razon Social': array(['S.R.L', 'S.A', 'S.A.S', 'GOB', 'ONG'], dtype=object),\n",
       " 'Tipo de Contribuyente': array(['Responsable Inscripto', 'Monotributista', 'Exento'], dtype=object),\n",
       " 'Frecuencia': array(['Mensual', 'Bimestral', 'Anual', 'Semestral', 'Trimestral'],\n",
       "       dtype=object),\n",
       " 'Pais': array(['Chile', 'Uruguay', 'Bolivia', 'Paraguay', 'Brasil', 'Argentina',\n",
       "        'Colombia', 'México', 'Perú', 'Venezuela'], dtype=object)}"
      ]
     },
     "execution_count": 37,
     "metadata": {},
     "output_type": "execute_result"
    }
   ],
   "source": [
    "unique_col(asd, columns)"
   ]
  }
 ],
 "metadata": {
  "kernelspec": {
   "display_name": "Python 3 (ipykernel)",
   "language": "python",
   "name": "python3"
  },
  "language_info": {
   "codemirror_mode": {
    "name": "ipython",
    "version": 3
   },
   "file_extension": ".py",
   "mimetype": "text/x-python",
   "name": "python",
   "nbconvert_exporter": "python",
   "pygments_lexer": "ipython3",
   "version": "3.11.5"
  }
 },
 "nbformat": 4,
 "nbformat_minor": 5
}
