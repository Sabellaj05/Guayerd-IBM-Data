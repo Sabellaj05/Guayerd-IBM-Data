{
 "cells": [
  {
   "cell_type": "markdown",
   "id": "f2915bdb-4d72-48da-b58f-72c53dd2c8ef",
   "metadata": {},
   "source": [
    "# Ingest data to MySQL db"
   ]
  },
  {
   "cell_type": "code",
   "execution_count": 1,
   "id": "cbac6b04-8ecd-44a6-9824-bee865f353cf",
   "metadata": {},
   "outputs": [],
   "source": [
    "import os\n",
    "from dotenv import load_dotenv\n",
    "import pandas as pd\n",
    "import numpy as np\n",
    "from mysql.connector import connect, Error, IntegrityError\n",
    "from pathlib import Path"
   ]
  },
  {
   "cell_type": "markdown",
   "id": "284e5877-4c2e-4d9b-a316-a0b7f1a3f4bd",
   "metadata": {},
   "source": [
    "Agarramos los datos"
   ]
  },
  {
   "cell_type": "code",
   "execution_count": 2,
   "id": "1068c634-708d-4669-9e1a-0658bef9ba42",
   "metadata": {},
   "outputs": [],
   "source": [
    "pwd = Path.cwd()\n",
    "data_prov = pwd.parent / \"data\" / / \"cleaned\" / \"proveedores-clean.csv\"\n",
    "data_donan = pwd.parent / \"data\" / \"cleaned\" / \"donantes-clean.csv\"\n",
    "df = pd.read_csv(data_prov)\n",
    "df2 = pd.read_csv(data_donan)\n",
    "np.random.seed(42)"
   ]
  },
  {
   "cell_type": "code",
   "execution_count": 3,
   "id": "67287e9b-dc66-4324-9e0e-149ea38f2e44",
   "metadata": {},
   "outputs": [
    {
     "data": {
      "text/html": [
       "<div>\n",
       "<style scoped>\n",
       "    .dataframe tbody tr th:only-of-type {\n",
       "        vertical-align: middle;\n",
       "    }\n",
       "\n",
       "    .dataframe tbody tr th {\n",
       "        vertical-align: top;\n",
       "    }\n",
       "\n",
       "    .dataframe thead th {\n",
       "        text-align: right;\n",
       "    }\n",
       "</style>\n",
       "<table border=\"1\" class=\"dataframe\">\n",
       "  <thead>\n",
       "    <tr style=\"text-align: right;\">\n",
       "      <th></th>\n",
       "      <th>Numero Proveedor</th>\n",
       "      <th>Nombre Proveedor</th>\n",
       "      <th>CUIT</th>\n",
       "      <th>Categoria Proveedor</th>\n",
       "      <th>Tipo de Contribuyente</th>\n",
       "      <th>Contacto</th>\n",
       "      <th>Correo Electronico</th>\n",
       "      <th>Telefono</th>\n",
       "      <th>Razon Social</th>\n",
       "      <th>Importe</th>\n",
       "      <th>Fecha</th>\n",
       "      <th>Nro_Cuenta</th>\n",
       "      <th>Ciudad</th>\n",
       "    </tr>\n",
       "  </thead>\n",
       "  <tbody>\n",
       "    <tr>\n",
       "      <th>521</th>\n",
       "      <td>P00020</td>\n",
       "      <td>Juegos del Norte</td>\n",
       "      <td>30-98765437-1</td>\n",
       "      <td>Materiales</td>\n",
       "      <td>Responsable inscripto</td>\n",
       "      <td>Pablo Fernández</td>\n",
       "      <td>pablo.fernandez@empresa.zom</td>\n",
       "      <td>0123-4567</td>\n",
       "      <td>S.R.L</td>\n",
       "      <td>292966.0</td>\n",
       "      <td>2024-04-15</td>\n",
       "      <td>506100</td>\n",
       "      <td>Rawson</td>\n",
       "    </tr>\n",
       "    <tr>\n",
       "      <th>388</th>\n",
       "      <td>P00094</td>\n",
       "      <td>Gabriela Martínez</td>\n",
       "      <td>30-98765437-1</td>\n",
       "      <td>Agente impositivo</td>\n",
       "      <td>Monotributista</td>\n",
       "      <td>Gabriela Martínez</td>\n",
       "      <td>gabriela.martinez@empresa.zom</td>\n",
       "      <td>4567-8901</td>\n",
       "      <td>S.R.L</td>\n",
       "      <td>37732.0</td>\n",
       "      <td>2024-03-21</td>\n",
       "      <td>503100</td>\n",
       "      <td>Viedma</td>\n",
       "    </tr>\n",
       "    <tr>\n",
       "      <th>6</th>\n",
       "      <td>P00006</td>\n",
       "      <td>Grupo Alfa</td>\n",
       "      <td>30-97531246-1</td>\n",
       "      <td>Servicios</td>\n",
       "      <td>Responsable inscripto</td>\n",
       "      <td>Alberto Fernández</td>\n",
       "      <td>alberto.fernandez@empresa.zom</td>\n",
       "      <td>6789-0123</td>\n",
       "      <td>S.R.L</td>\n",
       "      <td>251833.0</td>\n",
       "      <td>2024-01-09</td>\n",
       "      <td>501400</td>\n",
       "      <td>San Miguel de Tucumán</td>\n",
       "    </tr>\n",
       "  </tbody>\n",
       "</table>\n",
       "</div>"
      ],
      "text/plain": [
       "    Numero Proveedor   Nombre Proveedor           CUIT Categoria Proveedor  \\\n",
       "521           P00020   Juegos del Norte  30-98765437-1          Materiales   \n",
       "388           P00094  Gabriela Martínez  30-98765437-1   Agente impositivo   \n",
       "6             P00006         Grupo Alfa  30-97531246-1           Servicios   \n",
       "\n",
       "     Tipo de Contribuyente           Contacto             Correo Electronico  \\\n",
       "521  Responsable inscripto    Pablo Fernández    pablo.fernandez@empresa.zom   \n",
       "388         Monotributista  Gabriela Martínez  gabriela.martinez@empresa.zom   \n",
       "6    Responsable inscripto  Alberto Fernández  alberto.fernandez@empresa.zom   \n",
       "\n",
       "      Telefono Razon Social   Importe       Fecha  Nro_Cuenta  \\\n",
       "521  0123-4567        S.R.L  292966.0  2024-04-15      506100   \n",
       "388  4567-8901        S.R.L   37732.0  2024-03-21      503100   \n",
       "6    6789-0123        S.R.L  251833.0  2024-01-09      501400   \n",
       "\n",
       "                    Ciudad  \n",
       "521                 Rawson  \n",
       "388                 Viedma  \n",
       "6    San Miguel de Tucumán  "
      ]
     },
     "execution_count": 3,
     "metadata": {},
     "output_type": "execute_result"
    }
   ],
   "source": [
    "df.sample(3)"
   ]
  },
  {
   "cell_type": "code",
   "execution_count": 4,
   "id": "666de959-5f50-4915-88c9-6b90bdf78072",
   "metadata": {},
   "outputs": [
    {
     "data": {
      "text/html": [
       "<div>\n",
       "<style scoped>\n",
       "    .dataframe tbody tr th:only-of-type {\n",
       "        vertical-align: middle;\n",
       "    }\n",
       "\n",
       "    .dataframe tbody tr th {\n",
       "        vertical-align: top;\n",
       "    }\n",
       "\n",
       "    .dataframe thead th {\n",
       "        text-align: right;\n",
       "    }\n",
       "</style>\n",
       "<table border=\"1\" class=\"dataframe\">\n",
       "  <thead>\n",
       "    <tr style=\"text-align: right;\">\n",
       "      <th></th>\n",
       "      <th>Numero</th>\n",
       "      <th>Nombre</th>\n",
       "      <th>Tipo</th>\n",
       "      <th>Contacto</th>\n",
       "      <th>Correo Electronico</th>\n",
       "      <th>Telefono</th>\n",
       "      <th>Razon Social</th>\n",
       "      <th>Tipo de Contribuyente</th>\n",
       "      <th>CUIT</th>\n",
       "      <th>Fecha</th>\n",
       "      <th>Activo</th>\n",
       "      <th>Frecuencia</th>\n",
       "      <th>Importe</th>\n",
       "      <th>Nro de Cuenta</th>\n",
       "      <th>Pais</th>\n",
       "    </tr>\n",
       "  </thead>\n",
       "  <tbody>\n",
       "    <tr>\n",
       "      <th>243</th>\n",
       "      <td>D00123</td>\n",
       "      <td>Merendero Solidario</td>\n",
       "      <td>ONG</td>\n",
       "      <td>Contacto VS</td>\n",
       "      <td>solidario@mail.com</td>\n",
       "      <td>(+)591 5550-9225</td>\n",
       "      <td>GOB</td>\n",
       "      <td>Monotributista</td>\n",
       "      <td>24-72582356-8</td>\n",
       "      <td>2021-02-01</td>\n",
       "      <td>True</td>\n",
       "      <td>Mensual</td>\n",
       "      <td>455378.0</td>\n",
       "      <td>405100</td>\n",
       "      <td>Bolivia</td>\n",
       "    </tr>\n",
       "    <tr>\n",
       "      <th>101</th>\n",
       "      <td>D00098</td>\n",
       "      <td>Pablo Fernández</td>\n",
       "      <td>Individuo</td>\n",
       "      <td>Contacto TTTT</td>\n",
       "      <td>Pablo Fernández@example.com</td>\n",
       "      <td>(011) 5000-0098</td>\n",
       "      <td>S.A</td>\n",
       "      <td>Monotributista</td>\n",
       "      <td>27-89012344-7</td>\n",
       "      <td>2024-05-05</td>\n",
       "      <td>True</td>\n",
       "      <td>Bimestral</td>\n",
       "      <td>133131.0</td>\n",
       "      <td>403101</td>\n",
       "      <td>Colombia</td>\n",
       "    </tr>\n",
       "    <tr>\n",
       "      <th>230</th>\n",
       "      <td>D00135</td>\n",
       "      <td>Logística Global S.R.L.</td>\n",
       "      <td>Campaña</td>\n",
       "      <td>Contacto ALG</td>\n",
       "      <td>global@logisticaglobal.com</td>\n",
       "      <td>(+)56 9 7654 3210</td>\n",
       "      <td>S.R.L</td>\n",
       "      <td>Monotributista</td>\n",
       "      <td>20-98765432-1</td>\n",
       "      <td>2020-01-01</td>\n",
       "      <td>True</td>\n",
       "      <td>Bimestral</td>\n",
       "      <td>545228.0</td>\n",
       "      <td>405100</td>\n",
       "      <td>Chile</td>\n",
       "    </tr>\n",
       "  </tbody>\n",
       "</table>\n",
       "</div>"
      ],
      "text/plain": [
       "     Numero                   Nombre       Tipo       Contacto  \\\n",
       "243  D00123      Merendero Solidario        ONG    Contacto VS   \n",
       "101  D00098          Pablo Fernández  Individuo  Contacto TTTT   \n",
       "230  D00135  Logística Global S.R.L.    Campaña   Contacto ALG   \n",
       "\n",
       "              Correo Electronico           Telefono Razon Social  \\\n",
       "243           solidario@mail.com   (+)591 5550-9225          GOB   \n",
       "101  Pablo Fernández@example.com    (011) 5000-0098          S.A   \n",
       "230   global@logisticaglobal.com  (+)56 9 7654 3210        S.R.L   \n",
       "\n",
       "    Tipo de Contribuyente           CUIT       Fecha  Activo Frecuencia  \\\n",
       "243        Monotributista  24-72582356-8  2021-02-01    True    Mensual   \n",
       "101        Monotributista  27-89012344-7  2024-05-05    True  Bimestral   \n",
       "230        Monotributista  20-98765432-1  2020-01-01    True  Bimestral   \n",
       "\n",
       "      Importe  Nro de Cuenta      Pais  \n",
       "243  455378.0         405100   Bolivia  \n",
       "101  133131.0         403101  Colombia  \n",
       "230  545228.0         405100     Chile  "
      ]
     },
     "execution_count": 4,
     "metadata": {},
     "output_type": "execute_result"
    }
   ],
   "source": [
    "df2.sample(3)"
   ]
  },
  {
   "cell_type": "markdown",
   "id": "1dfea634-17cb-43f6-80ff-de1da67367eb",
   "metadata": {},
   "source": [
    "## Mandar data a las tablas"
   ]
  },
  {
   "cell_type": "markdown",
   "id": "363f45bb-7030-4c68-8c70-7b3fa97d89b6",
   "metadata": {},
   "source": [
    "### Conectando a la base de datos que esta en Docker"
   ]
  },
  {
   "cell_type": "code",
   "execution_count": 5,
   "id": "e29eecc0-f9f3-4345-8134-a2faeda8865f",
   "metadata": {},
   "outputs": [
    {
     "name": "stdout",
     "output_type": "stream",
     "text": [
      "Conectadisimo\n"
     ]
    }
   ],
   "source": [
    "load_dotenv()\n",
    "db_config = {\n",
    "    \"host\": os.getenv(\"DATABASE_HOST\"),   ## gateway of container\n",
    "    \"user\": os.getenv(\"DATABASE_USER\"),\n",
    "    \"password\": os.getenv(\"DATABASE_PASSWORD\"),\n",
    "    \"database\": os.getenv(\"DATABASE_NAME\")\n",
    "}\n",
    "def create_connection(db_config):\n",
    "    conn = None\n",
    "    try:\n",
    "        conn = connect(**db_config)   # < --\n",
    "        if conn.is_connected():\n",
    "            print(\"Conectadisimo\")\n",
    "    except Error as e:\n",
    "        print(f\"Error: {e}\")\n",
    "    return conn\n",
    "\n",
    "# conn = mysql.connector.connect(**db_config)\n",
    "# cursor = conn.cursor(buffered=True)\n",
    "conn = create_connection(db_config)"
   ]
  },
  {
   "cell_type": "code",
   "execution_count": 6,
   "id": "97416db3-f97f-4143-a389-73ce09d9f2a5",
   "metadata": {},
   "outputs": [],
   "source": [
    "# Funcion para insertar los datos, evitar duplicados y corregir error de tipo de dato\n",
    "def insert_or_ignore(query: str, data: tuple) -> None:\n",
    "    # Importante que el `dato` sea una tupla en forma de `(value,)`\n",
    "    # si es que los datos vienen de una sola columna\n",
    "    try:\n",
    "        data = tuple(int(x) if isinstance(x, (np.integer)) else x for x in data) # para Nro_Cuenta\n",
    "        cursor.execute(query, data)\n",
    "        conn.commit()\n",
    "    except IntegrityError as e:\n",
    "        print(f\"Error: {e}\")"
   ]
  },
  {
   "cell_type": "code",
   "execution_count": 7,
   "id": "d15ddea0-1a89-410b-bb59-71f3ba53abfb",
   "metadata": {},
   "outputs": [],
   "source": [
    "# Creamos el cursor\n",
    "def crear_cursor(conn):    \n",
    "    try:\n",
    "        cursor = conn.cursor(buffered=True)\n",
    "    except Error as e:\n",
    "        print(f\"Error: {e}\")\n",
    "    return cursor\n",
    "cursor = crear_cursor(conn)"
   ]
  },
  {
   "cell_type": "markdown",
   "id": "c2894eb8",
   "metadata": {},
   "source": [
    "Antes de arrancar para simplificar las cosas hay que cambiar el nombre de las columnas del `DataFrame` para que sean iguales a las de la base de datos"
   ]
  },
  {
   "cell_type": "code",
   "execution_count": 8,
   "id": "811af61e",
   "metadata": {},
   "outputs": [],
   "source": [
    "rename_cols = {\"Numero Proveedor\": \"numero\",\n",
    "                   \"Nombre Proveedor\": \"nombre\",\n",
    "                   \"CUIT\": \"cuit\",\n",
    "                   \"Contacto\": \"contacto\",\n",
    "                   \"Correo Electronico\": \"mail\",\n",
    "                   \"Telefono\": \"telefono\",\n",
    "                   \"Categoria Proveedor\": \"categoria\",\n",
    "                   \"Tipo de Contribuyente\": \"contribuyente\",\n",
    "                   \"Razon Social\": \"razon\",\n",
    "                   \"Ciudad\": \"ciudad\",\n",
    "                   \"Nro_Cuenta\": \"nro_cuenta\",\n",
    "                   \"Importe\": \"importe\",\n",
    "                   \"Fecha\": \"fecha\",}\n",
    "\n",
    "df.rename(columns=rename_cols, inplace=True)\n"
   ]
  },
  {
   "cell_type": "markdown",
   "id": "dcdfe624",
   "metadata": {},
   "source": [
    "Funcion `ingest_table` para insterar los datos a su correspondiente table"
   ]
  },
  {
   "cell_type": "code",
   "execution_count": 9,
   "id": "35115d49",
   "metadata": {},
   "outputs": [
    {
     "data": {
      "text/plain": [
       "Index(['numero', 'nombre', 'cuit', 'categoria', 'contribuyente', 'contacto',\n",
       "       'mail', 'telefono', 'razon', 'importe', 'fecha', 'nro_cuenta',\n",
       "       'ciudad'],\n",
       "      dtype='object')"
      ]
     },
     "execution_count": 9,
     "metadata": {},
     "output_type": "execute_result"
    }
   ],
   "source": [
    "df.columns"
   ]
  },
  {
   "cell_type": "markdown",
   "id": "2a4fa92d",
   "metadata": {},
   "source": [
    "Funcion para meter los datos a las tablas"
   ]
  },
  {
   "cell_type": "code",
   "execution_count": 10,
   "id": "c9b304f4",
   "metadata": {},
   "outputs": [],
   "source": [
    "def ingest_table(df: pd.DataFrame, table: str, col_name: str) -> None:\n",
    "    count = 0\n",
    "    unique_table = df[col_name].unique()\n",
    "    for value in unique_table:\n",
    "        query = f\"\"\"\n",
    "        INSERT INTO `{table}` (`{col_name}`) VALUES (%s)\n",
    "        ON DUPLICATE KEY UPDATE `{col_name}`=VALUES(`{col_name}`);\n",
    "        \"\"\"\n",
    "        insert_or_ignore(query, (value,)) ## placeholder (%s)\n",
    "        count += 1\n",
    "    print(f\"Cantidad de filas insertadas en {table}: {count}\")\n"
   ]
  },
  {
   "cell_type": "code",
   "execution_count": 11,
   "id": "e68c5a65",
   "metadata": {},
   "outputs": [
    {
     "name": "stdout",
     "output_type": "stream",
     "text": [
      "All tables: ['categoria_proveedores', 'ciudades', 'cuentas', 'donantes', 'frecuencias', 'gastos', 'ingresos', 'paises', 'proveedores', 'razones_sociales', 'tipo_contribuyentes', 'tipos']\n"
     ]
    }
   ],
   "source": [
    "def get_all_tables(cursor):\n",
    "    cursor.execute(\"SHOW TABLES\")\n",
    "    tables = cursor.fetchall()\n",
    "    return [table[0] for table in tables]\n",
    "\n",
    "# Usage\n",
    "all_tables = get_all_tables(cursor)\n",
    "print(\"All tables:\", all_tables)"
   ]
  },
  {
   "cell_type": "markdown",
   "id": "e0dc6f6f",
   "metadata": {},
   "source": [
    "### Tablas relacionadas a proveedores"
   ]
  },
  {
   "cell_type": "markdown",
   "id": "c9f52fc2",
   "metadata": {},
   "source": [
    "No es la forma mas elegante pero sirve"
   ]
  },
  {
   "cell_type": "code",
   "execution_count": 12,
   "id": "4bb8c486",
   "metadata": {},
   "outputs": [
    {
     "name": "stdout",
     "output_type": "stream",
     "text": [
      "Cantidad de filas insertadas en categoria_proveedores: 13\n",
      "Cantidad de filas insertadas en tipo_contribuyentes: 2\n",
      "Cantidad de filas insertadas en razones_sociales: 4\n",
      "Cantidad de filas insertadas en ciudades: 42\n",
      "Cantidad de filas insertadas en cuentas: 8\n"
     ]
    }
   ],
   "source": [
    "# los datos deberian venir de un archivo de configuracion imagino\n",
    "table_to_col = {\"categoria_proveedores\": \"categoria\",\n",
    "                \"tipo_contribuyentes\": \"contribuyente\",\n",
    "                \"razones_sociales\": \"razon\",\n",
    "                \"ciudades\": \"ciudad\",\n",
    "                \"cuentas\": \"nro_cuenta\"}\n",
    "\n",
    "for table, col in table_to_col.items():\n",
    "    ingest_table(df, table, col)"
   ]
  },
  {
   "cell_type": "code",
   "execution_count": 13,
   "id": "0860e787",
   "metadata": {},
   "outputs": [
    {
     "data": {
      "text/plain": [
       "(('categoria_proveedores', 'categoria'),\n",
       " ('tipo_contribuyentes', 'contribuyente'),\n",
       " ('razones_sociales', 'razon'),\n",
       " ('ciudades', 'ciudad'),\n",
       " ('cuentas', 'nro_cuenta'))"
      ]
     },
     "execution_count": 13,
     "metadata": {},
     "output_type": "execute_result"
    }
   ],
   "source": [
    "tuple(table_to_col.items())"
   ]
  },
  {
   "cell_type": "markdown",
   "id": "c8bc4043",
   "metadata": {},
   "source": [
    "## Proveedores"
   ]
  },
  {
   "cell_type": "code",
   "execution_count": 14,
   "id": "692c01ac",
   "metadata": {},
   "outputs": [
    {
     "name": "stdout",
     "output_type": "stream",
     "text": [
      "len df: 523\n",
      "dfpro: 147, df: 523\n",
      "dfpro: 147, df: 147\n"
     ]
    }
   ],
   "source": [
    "# datos unicos de los proveedores basado en el numero\n",
    "df_proveedores = df.drop_duplicates(subset='numero')\n",
    "como = \"numero\"\n",
    "print(f\"len df: {len(df)}\")\n",
    "print(f'dfpro: {df_proveedores[como].count()}, df: {df[como].count()}')\n",
    "print(f'dfpro: {df_proveedores[como].nunique()}, df: {df[como].nunique()}')"
   ]
  },
  {
   "cell_type": "markdown",
   "id": "9d04744d",
   "metadata": {},
   "source": [
    "Fetch foreign keys"
   ]
  },
  {
   "cell_type": "code",
   "execution_count": 15,
   "id": "673a99f9",
   "metadata": {},
   "outputs": [],
   "source": [
    "# funciona para mapear las foreign keys con la columna pertinente\n",
    "def fetch_fk(cursor, id, col, table) -> dict:\n",
    "    try:\n",
    "        cursor.execute(f\"SELECT `{id}`, `{col}` FROM `{table}`\")\n",
    "    except Exception as e:\n",
    "        print(f\"Error {e}\")\n",
    "    mapping = {col: id for id, col in cursor.fetchall()}\n",
    "    print(f\"Fecth fkeys from {table}\")\n",
    "    return mapping\n",
    "\n",
    "# complicandola de chill\n",
    "# traer las fk de todas las tablas que tengan\n",
    "list_fk = [\"id_categoria\", \"id_contribuyente\", \"id_razon\", \"id_ciudad\"]\n",
    "table_cols: tuple[tuple] = tuple(table_to_col.items())"
   ]
  },
  {
   "cell_type": "code",
   "execution_count": 16,
   "id": "a7a9c665",
   "metadata": {},
   "outputs": [
    {
     "name": "stdout",
     "output_type": "stream",
     "text": [
      "Fecth fkeys from categoria_proveedores\n",
      "Fecth fkeys from tipo_contribuyentes\n",
      "Fecth fkeys from razones_sociales\n",
      "Fecth fkeys from ciudades\n"
     ]
    }
   ],
   "source": [
    "# Agarramos todas las foreign keys y las guardamos para hacerlo mas rapido\n",
    "# Fetch id_categoria    \n",
    "categoria_mapping = fetch_fk(cursor, list_fk[0], table_cols[0][1], table_cols[0][0])\n",
    "# # Fetch id_contribuyente\n",
    "contribuyente_mapping = fetch_fk(cursor, list_fk[1], table_cols[1][1], table_cols[1][0])\n",
    "# # Fetch id_razon\n",
    "razon_mapping = fetch_fk(cursor, list_fk[2], table_cols[2][1], table_cols[2][0])\n",
    "# # Fetch id_ciudad\n",
    "ciudades_mapping = fetch_fk(cursor, list_fk[3], table_cols[3][1], table_cols[3][0])"
   ]
  },
  {
   "cell_type": "code",
   "execution_count": 17,
   "id": "329f3368-8834-441e-8767-62ac80c91712",
   "metadata": {},
   "outputs": [
    {
     "name": "stdout",
     "output_type": "stream",
     "text": [
      "Cantidad de filas insertadas: 147\n"
     ]
    }
   ],
   "source": [
    "def ingest_proveedores(df_proveedores: pd.DataFrame, cursor) -> None:\n",
    "    # to test\n",
    "    count = 0\n",
    "    # Step 6: Insert unique data into proveedores\n",
    "    for _, row in df_proveedores.iterrows():\n",
    "        # Agarramos la foreign key que mapee con el valor de la fila en cuestion\n",
    "        id_categoria = categoria_mapping.get(row['categoria'])\n",
    "        id_contribuyente = contribuyente_mapping.get(row['contribuyente'])\n",
    "        id_razon = razon_mapping.get(row['razon'])\n",
    "        id_ciudad = ciudades_mapping.get(row['ciudad'])\n",
    "    \n",
    "        query = \"\"\"\n",
    "        INSERT INTO proveedores (numero, nombre, cuit, contacto, mail, telefono, id_categoria, id_contribuyente, id_razon, id_ciudad)\n",
    "        VALUES (%s, %s, %s, %s, %s, %s, %s, %s, %s, %s)\n",
    "        ON DUPLICATE KEY UPDATE \n",
    "            nombre = VALUES(nombre), \n",
    "            cuit = VALUES(cuit), \n",
    "            contacto = VALUES(contacto), \n",
    "            mail = VALUES(mail), \n",
    "            telefono = VALUES(telefono), \n",
    "            id_categoria = VALUES(id_categoria), \n",
    "            id_contribuyente = VALUES(id_contribuyente), \n",
    "            id_razon = VALUES(id_razon), \n",
    "            id_ciudad = VALUES(id_ciudad);\n",
    "        \"\"\"\n",
    "        data = (\n",
    "            row['numero'], row['nombre'], row['cuit'], row['contacto'], \n",
    "            row['mail'], row['telefono'], id_categoria, \n",
    "            id_contribuyente, id_razon, id_ciudad\n",
    "        )\n",
    "    \n",
    "        # Insert into proveedores table\n",
    "        insert_or_ignore(query, data)\n",
    "        count += 1\n",
    "        #insert_or_ignore(query, (ciudad,))\n",
    "    print(f\"Cantidad de filas insertadas: {count}\")\n",
    "        \n",
    "ingest_proveedores(df_proveedores, cursor)"
   ]
  },
  {
   "cell_type": "code",
   "execution_count": 18,
   "id": "2ff23357-7199-4393-a245-56a95d58601b",
   "metadata": {},
   "outputs": [
    {
     "name": "stdout",
     "output_type": "stream",
     "text": [
      "Fecth fkeys from proveedores\n",
      "Fecth fkeys from cuentas\n"
     ]
    }
   ],
   "source": [
    "# Fetch id_proveedor --> se llama 'id'\n",
    "proveedor_mapping = fetch_fk(cursor, \"id\", \"numero\", \"proveedores\")\n",
    "# Fetch id_cuenta\n",
    "cuenta_mapping = fetch_fk(cursor, \"id_cuenta\", \"nro_cuenta\", \"cuentas\")"
   ]
  },
  {
   "cell_type": "code",
   "execution_count": 19,
   "id": "6493059d-5bbe-49af-8691-eaeb764fd6c0",
   "metadata": {},
   "outputs": [
    {
     "name": "stdout",
     "output_type": "stream",
     "text": [
      "Cantidad de filas insertadas: 523\n"
     ]
    }
   ],
   "source": [
    "def ingest_gastos(df: pd.DataFrame) -> None:\n",
    "    count = 0\n",
    "    # Step 8: Insert unique data into gastos --> todo el df ya que son todas las transacciones\n",
    "    for _, row in df.iterrows():  # This should iterate through the full dataset\n",
    "        # Retrieve foreign key ids from pre-fetched mappings\n",
    "        id_proveedor = proveedor_mapping.get(row['numero'])\n",
    "        id_cuenta = cuenta_mapping.get(row['nro_cuenta'])\n",
    "    \n",
    "        # Only insert if foreign keys are found\n",
    "        if id_proveedor is not None and id_cuenta is not None:\n",
    "            query = \"\"\"\n",
    "            INSERT INTO gastos (importe, fecha, id_proveedor, id_cuenta)\n",
    "            VALUES (%s, %s, %s, %s);\n",
    "            \"\"\"\n",
    "            data = (row['importe'], row['fecha'], id_proveedor, id_cuenta)\n",
    "            insert_or_ignore(query, data)\n",
    "            count += 1\n",
    "        else:\n",
    "            print(f\"Foreign key not found for {row['numero']} or {row['nro_cuenta']}\")\n",
    "    print(f\"Cantidad de filas insertadas: {count}\")\n",
    "\n",
    "ingest_gastos(df)"
   ]
  },
  {
   "cell_type": "markdown",
   "id": "d26183aa",
   "metadata": {},
   "source": [
    "## Donantes"
   ]
  },
  {
   "cell_type": "markdown",
   "id": "a8b829cc",
   "metadata": {},
   "source": [
    "Hay que reenombrar tambien las columnas matcheando las de las tablas"
   ]
  },
  {
   "cell_type": "code",
   "execution_count": 20,
   "id": "0c3bb924",
   "metadata": {},
   "outputs": [
    {
     "data": {
      "text/html": [
       "<div>\n",
       "<style scoped>\n",
       "    .dataframe tbody tr th:only-of-type {\n",
       "        vertical-align: middle;\n",
       "    }\n",
       "\n",
       "    .dataframe tbody tr th {\n",
       "        vertical-align: top;\n",
       "    }\n",
       "\n",
       "    .dataframe thead th {\n",
       "        text-align: right;\n",
       "    }\n",
       "</style>\n",
       "<table border=\"1\" class=\"dataframe\">\n",
       "  <thead>\n",
       "    <tr style=\"text-align: right;\">\n",
       "      <th></th>\n",
       "      <th>col_df</th>\n",
       "      <th>tablas_db</th>\n",
       "    </tr>\n",
       "  </thead>\n",
       "  <tbody>\n",
       "    <tr>\n",
       "      <th>0</th>\n",
       "      <td>Numero</td>\n",
       "      <td>categoria_proveedores</td>\n",
       "    </tr>\n",
       "    <tr>\n",
       "      <th>1</th>\n",
       "      <td>Nombre</td>\n",
       "      <td>ciudades</td>\n",
       "    </tr>\n",
       "    <tr>\n",
       "      <th>2</th>\n",
       "      <td>Tipo</td>\n",
       "      <td>cuentas</td>\n",
       "    </tr>\n",
       "    <tr>\n",
       "      <th>3</th>\n",
       "      <td>Contacto</td>\n",
       "      <td>donantes</td>\n",
       "    </tr>\n",
       "    <tr>\n",
       "      <th>4</th>\n",
       "      <td>Correo Electronico</td>\n",
       "      <td>frecuencias</td>\n",
       "    </tr>\n",
       "    <tr>\n",
       "      <th>5</th>\n",
       "      <td>Telefono</td>\n",
       "      <td>gastos</td>\n",
       "    </tr>\n",
       "    <tr>\n",
       "      <th>6</th>\n",
       "      <td>Razon Social</td>\n",
       "      <td>ingresos</td>\n",
       "    </tr>\n",
       "    <tr>\n",
       "      <th>7</th>\n",
       "      <td>Tipo de Contribuyente</td>\n",
       "      <td>paises</td>\n",
       "    </tr>\n",
       "    <tr>\n",
       "      <th>8</th>\n",
       "      <td>CUIT</td>\n",
       "      <td>proveedores</td>\n",
       "    </tr>\n",
       "    <tr>\n",
       "      <th>9</th>\n",
       "      <td>Fecha</td>\n",
       "      <td>razones_sociales</td>\n",
       "    </tr>\n",
       "    <tr>\n",
       "      <th>10</th>\n",
       "      <td>Activo</td>\n",
       "      <td>tipo_contribuyentes</td>\n",
       "    </tr>\n",
       "    <tr>\n",
       "      <th>11</th>\n",
       "      <td>Frecuencia</td>\n",
       "      <td>tipos</td>\n",
       "    </tr>\n",
       "    <tr>\n",
       "      <th>12</th>\n",
       "      <td>Importe</td>\n",
       "      <td>NaN</td>\n",
       "    </tr>\n",
       "    <tr>\n",
       "      <th>13</th>\n",
       "      <td>Nro de Cuenta</td>\n",
       "      <td>NaN</td>\n",
       "    </tr>\n",
       "    <tr>\n",
       "      <th>14</th>\n",
       "      <td>Pais</td>\n",
       "      <td>NaN</td>\n",
       "    </tr>\n",
       "  </tbody>\n",
       "</table>\n",
       "</div>"
      ],
      "text/plain": [
       "                   col_df              tablas_db\n",
       "0                  Numero  categoria_proveedores\n",
       "1                  Nombre               ciudades\n",
       "2                    Tipo                cuentas\n",
       "3                Contacto               donantes\n",
       "4      Correo Electronico            frecuencias\n",
       "5                Telefono                 gastos\n",
       "6            Razon Social               ingresos\n",
       "7   Tipo de Contribuyente                 paises\n",
       "8                    CUIT            proveedores\n",
       "9                   Fecha       razones_sociales\n",
       "10                 Activo    tipo_contribuyentes\n",
       "11             Frecuencia                  tipos\n",
       "12                Importe                    NaN\n",
       "13          Nro de Cuenta                    NaN\n",
       "14                   Pais                    NaN"
      ]
     },
     "execution_count": 20,
     "metadata": {},
     "output_type": "execute_result"
    }
   ],
   "source": [
    "l1 = all_tables\n",
    "l2 = df2.columns.to_list()\n",
    "l1.extend([np.nan] * (len(l2) - len(l1)))\n",
    "temp_df = pd.DataFrame({\"col_df\": l2, \"tablas_db\": l1})\n",
    "temp_df\n"
   ]
  },
  {
   "cell_type": "code",
   "execution_count": 21,
   "id": "2f761e77",
   "metadata": {},
   "outputs": [],
   "source": [
    "\n",
    "rename_cols = {\"Numero\": \"numero\",\n",
    "                   \"Nombre\": \"nombre\",\n",
    "                   \"CUIT\": \"cuit\",\n",
    "                   \"Contacto\": \"contacto\",\n",
    "                   \"Correo Electronico\": \"mail\",\n",
    "                   \"Telefono\": \"telefono\",\n",
    "                   \"Frecuencia\": \"frecuencia\",\n",
    "                   \"Tipo de Contribuyente\": \"contribuyente\",\n",
    "                   \"Tipo\": \"tipo\",\n",
    "                   \"Activo\": \"activo\",\n",
    "                   \"Razon Social\": \"razon\",\n",
    "                   \"Pais\": \"pais\",\n",
    "                   \"Nro de Cuenta\": \"nro_cuenta\",\n",
    "                   \"Importe\": \"importe\",\n",
    "                   \"Fecha\": \"fecha\",}\n",
    "\n",
    "df2.rename(columns=rename_cols, inplace=True)"
   ]
  },
  {
   "cell_type": "code",
   "execution_count": 22,
   "id": "02dad3a2",
   "metadata": {},
   "outputs": [
    {
     "data": {
      "text/plain": [
       "Index(['numero', 'nombre', 'tipo', 'contacto', 'mail', 'telefono', 'razon',\n",
       "       'contribuyente', 'cuit', 'fecha', 'activo', 'frecuencia', 'importe',\n",
       "       'nro_cuenta', 'pais'],\n",
       "      dtype='object')"
      ]
     },
     "execution_count": 22,
     "metadata": {},
     "output_type": "execute_result"
    }
   ],
   "source": [
    "df2.columns"
   ]
  },
  {
   "cell_type": "markdown",
   "id": "10d416b2",
   "metadata": {},
   "source": [
    "### Insertar datos en las tablas para despues relacionarla con la tabla `donantes`"
   ]
  },
  {
   "cell_type": "code",
   "execution_count": 23,
   "id": "247dacee",
   "metadata": {},
   "outputs": [
    {
     "name": "stdout",
     "output_type": "stream",
     "text": [
      "Cantidad de filas insertadas en frecuencias: 5\n",
      "Cantidad de filas insertadas en tipo_contribuyentes: 3\n",
      "Cantidad de filas insertadas en razones_sociales: 5\n",
      "Cantidad de filas insertadas en tipos: 7\n",
      "Cantidad de filas insertadas en paises: 10\n",
      "Cantidad de filas insertadas en cuentas: 7\n"
     ]
    }
   ],
   "source": [
    "# los datos deberian venir de un archivo de configuracion imagino\n",
    "# tabla: columna\n",
    "table_to_col = {\"frecuencias\": \"frecuencia\",\n",
    "                \"tipo_contribuyentes\": \"contribuyente\",\n",
    "                \"razones_sociales\": \"razon\",\n",
    "                \"tipos\": \"tipo\",\n",
    "                \"paises\": \"pais\",\n",
    "                \"cuentas\": \"nro_cuenta\"}\n",
    "\n",
    "for table, col in table_to_col.items():\n",
    "    ingest_table(df2, table, col)"
   ]
  },
  {
   "cell_type": "markdown",
   "id": "b978eb44",
   "metadata": {},
   "source": [
    "### Arrancamos con Donantes"
   ]
  },
  {
   "cell_type": "code",
   "execution_count": 24,
   "id": "46a5dc74",
   "metadata": {},
   "outputs": [
    {
     "name": "stdout",
     "output_type": "stream",
     "text": [
      "len df: 608\n",
      "dfpro: 138, df: 608\n",
      "dfpro: 138, df: 138\n"
     ]
    }
   ],
   "source": [
    "\n",
    "# datos unicos de los proveedores basado en el numero\n",
    "df_donantes = df2.drop_duplicates(subset='numero')\n",
    "como = \"numero\"\n",
    "print(f\"len df: {len(df2)}\")\n",
    "print(f'dfpro: {df_donantes[como].count()}, df: {df2[como].count()}')\n",
    "print(f'dfpro: {df_donantes[como].nunique()}, df: {df2[como].nunique()}')"
   ]
  },
  {
   "cell_type": "markdown",
   "id": "03f522b6",
   "metadata": {},
   "source": [
    "Fetch foreign keys  \n",
    "Hay que volver a fetchear `categoria`, `contribuyente` y `razon social` ya fuero los datos fueron actualizados.  \n",
    " Al igual que `tipo`, `pais` y `frecuencia` que son tablas nuevas `Donantes`"
   ]
  },
  {
   "cell_type": "code",
   "execution_count": 25,
   "id": "7fce4eea",
   "metadata": {},
   "outputs": [
    {
     "name": "stdout",
     "output_type": "stream",
     "text": [
      "Fecth fkeys from razones_sociales\n",
      "Fecth fkeys from tipo_contribuyentes\n",
      "Fecth fkeys from tipos\n",
      "Fecth fkeys from paises\n",
      "Fecth fkeys from frecuencias\n"
     ]
    }
   ],
   "source": [
    "razon_mapping = fetch_fk(cursor, id=\"id_razon\", col=\"razon\", table=\"razones_sociales\")\n",
    "contribuyente_mapping = fetch_fk(cursor, id=\"id_contribuyente\", col=\"contribuyente\", table=\"tipo_contribuyentes\")\n",
    "\n",
    "tipo_mapping = fetch_fk(cursor, id=\"id_tipo\", col=\"tipo\", table=\"tipos\")\n",
    "pais_mapping = fetch_fk(cursor, id=\"id_pais\", col=\"pais\", table=\"paises\")\n",
    "frecuencia_mapping = fetch_fk(cursor, id=\"id_frecuencia\", col=\"frecuencia\", table=\"frecuencias\")\n"
   ]
  },
  {
   "cell_type": "code",
   "execution_count": 26,
   "id": "69fabb0e",
   "metadata": {},
   "outputs": [
    {
     "name": "stdout",
     "output_type": "stream",
     "text": [
      "138 138\n"
     ]
    }
   ],
   "source": [
    "ke = 0\n",
    "for _, row in df_donantes.iterrows():\n",
    "    frecuencia_mapping.get(row['frecuencia'])\n",
    "    ke += 1\n",
    "print(ke, df_donantes['frecuencia'].count())"
   ]
  },
  {
   "cell_type": "code",
   "execution_count": 27,
   "id": "a433c70f",
   "metadata": {},
   "outputs": [
    {
     "name": "stdout",
     "output_type": "stream",
     "text": [
      "{'Mensual': 1, 'Bimestral': 2, 'Anual': 3, 'Semestral': 4, 'Trimestral': 5}\n"
     ]
    }
   ],
   "source": [
    "def sort_dict(dictio: dict) -> dict:\n",
    "    return dict(sorted(dictio.items(), key=lambda item: item[1]))\n",
    "\n",
    "print(sort_dict(frecuencia_mapping))"
   ]
  },
  {
   "cell_type": "code",
   "execution_count": 28,
   "id": "2af21032",
   "metadata": {},
   "outputs": [
    {
     "data": {
      "text/html": [
       "<div>\n",
       "<style scoped>\n",
       "    .dataframe tbody tr th:only-of-type {\n",
       "        vertical-align: middle;\n",
       "    }\n",
       "\n",
       "    .dataframe tbody tr th {\n",
       "        vertical-align: top;\n",
       "    }\n",
       "\n",
       "    .dataframe thead th {\n",
       "        text-align: right;\n",
       "    }\n",
       "</style>\n",
       "<table border=\"1\" class=\"dataframe\">\n",
       "  <thead>\n",
       "    <tr style=\"text-align: right;\">\n",
       "      <th></th>\n",
       "      <th>numero</th>\n",
       "      <th>nombre</th>\n",
       "      <th>tipo</th>\n",
       "      <th>contacto</th>\n",
       "      <th>mail</th>\n",
       "      <th>telefono</th>\n",
       "      <th>razon</th>\n",
       "      <th>contribuyente</th>\n",
       "      <th>cuit</th>\n",
       "      <th>fecha</th>\n",
       "      <th>activo</th>\n",
       "      <th>frecuencia</th>\n",
       "      <th>importe</th>\n",
       "      <th>nro_cuenta</th>\n",
       "      <th>pais</th>\n",
       "    </tr>\n",
       "  </thead>\n",
       "  <tbody>\n",
       "    <tr>\n",
       "      <th>0</th>\n",
       "      <td>D00001</td>\n",
       "      <td>TechNova Solutions</td>\n",
       "      <td>Empresa</td>\n",
       "      <td>Contacto A</td>\n",
       "      <td>TechNova Solutions@example.com</td>\n",
       "      <td>(011) 5000-0001</td>\n",
       "      <td>S.R.L</td>\n",
       "      <td>Responsable Inscripto</td>\n",
       "      <td>20-12345678-9</td>\n",
       "      <td>2024-02-26</td>\n",
       "      <td>False</td>\n",
       "      <td>Mensual</td>\n",
       "      <td>292732.0</td>\n",
       "      <td>402101</td>\n",
       "      <td>Chile</td>\n",
       "    </tr>\n",
       "    <tr>\n",
       "      <th>1</th>\n",
       "      <td>D00002</td>\n",
       "      <td>EnergiaPlus S.A.</td>\n",
       "      <td>Empresa</td>\n",
       "      <td>Contacto B</td>\n",
       "      <td>EnergiaPlus S.A.@example.com</td>\n",
       "      <td>(011) 5000-0002</td>\n",
       "      <td>S.A</td>\n",
       "      <td>Monotributista</td>\n",
       "      <td>21-23456789-0</td>\n",
       "      <td>2024-01-12</td>\n",
       "      <td>False</td>\n",
       "      <td>Bimestral</td>\n",
       "      <td>326439.0</td>\n",
       "      <td>403101</td>\n",
       "      <td>Uruguay</td>\n",
       "    </tr>\n",
       "    <tr>\n",
       "      <th>2</th>\n",
       "      <td>D00003</td>\n",
       "      <td>Grupo Delta</td>\n",
       "      <td>Empresa</td>\n",
       "      <td>Contacto C</td>\n",
       "      <td>Grupo Delta@example.com</td>\n",
       "      <td>(011) 5000-0003</td>\n",
       "      <td>S.R.L</td>\n",
       "      <td>Responsable Inscripto</td>\n",
       "      <td>22-34567890-1</td>\n",
       "      <td>2024-06-08</td>\n",
       "      <td>True</td>\n",
       "      <td>Anual</td>\n",
       "      <td>276920.0</td>\n",
       "      <td>403101</td>\n",
       "      <td>Uruguay</td>\n",
       "    </tr>\n",
       "  </tbody>\n",
       "</table>\n",
       "</div>"
      ],
      "text/plain": [
       "   numero              nombre     tipo    contacto  \\\n",
       "0  D00001  TechNova Solutions  Empresa  Contacto A   \n",
       "1  D00002    EnergiaPlus S.A.  Empresa  Contacto B   \n",
       "2  D00003         Grupo Delta  Empresa  Contacto C   \n",
       "\n",
       "                             mail         telefono  razon  \\\n",
       "0  TechNova Solutions@example.com  (011) 5000-0001  S.R.L   \n",
       "1    EnergiaPlus S.A.@example.com  (011) 5000-0002    S.A   \n",
       "2         Grupo Delta@example.com  (011) 5000-0003  S.R.L   \n",
       "\n",
       "           contribuyente           cuit       fecha  activo frecuencia  \\\n",
       "0  Responsable Inscripto  20-12345678-9  2024-02-26   False    Mensual   \n",
       "1         Monotributista  21-23456789-0  2024-01-12   False  Bimestral   \n",
       "2  Responsable Inscripto  22-34567890-1  2024-06-08    True      Anual   \n",
       "\n",
       "    importe  nro_cuenta     pais  \n",
       "0  292732.0      402101    Chile  \n",
       "1  326439.0      403101  Uruguay  \n",
       "2  276920.0      403101  Uruguay  "
      ]
     },
     "execution_count": 28,
     "metadata": {},
     "output_type": "execute_result"
    }
   ],
   "source": [
    "df_donantes.iloc[:3, :]"
   ]
  },
  {
   "cell_type": "code",
   "execution_count": 29,
   "id": "f14bc5fa",
   "metadata": {},
   "outputs": [
    {
     "name": "stdout",
     "output_type": "stream",
     "text": [
      "Cantidad de filas insertadas: 138\n"
     ]
    }
   ],
   "source": [
    "\n",
    "def ingest_donantes(df_donantes: pd.DataFrame, cursor) -> None:\n",
    "    # to test\n",
    "    df_donantes = df_donantes.reset_index(drop=True)\n",
    "    count = 0\n",
    "    # Step 6: Insert unique data into proveedores\n",
    "    for _, row in df_donantes.iterrows():\n",
    "        # Agarramos la foreign key que mapee con el valor de la fila en cuestion\n",
    "        id_frecuencia = frecuencia_mapping.get(row['frecuencia'])\n",
    "        id_contribuyente = contribuyente_mapping.get(row['contribuyente'])\n",
    "        id_razon = razon_mapping.get(row['razon'])\n",
    "        id_tipo = tipo_mapping.get(row['tipo'])\n",
    "        id_pais = pais_mapping.get(row['pais'])\n",
    "    \n",
    "        query = \"\"\"\n",
    "        INSERT INTO donantes (numero, nombre, cuit, contacto, mail, telefono, activo, id_frecuencia, id_contribuyente, id_razon, id_tipo, id_pais)\n",
    "        VALUES (%s, %s, %s, %s, %s, %s, %s, %s, %s, %s, %s, %s)\n",
    "        ON DUPLICATE KEY UPDATE \n",
    "            nombre = VALUES(nombre), \n",
    "            cuit = VALUES(cuit), \n",
    "            contacto = VALUES(contacto), \n",
    "            mail = VALUES(mail), \n",
    "            activo = VALUES(activo), \n",
    "            telefono = VALUES(telefono), \n",
    "            id_frecuencia = VALUES(id_frecuencia), \n",
    "            id_contribuyente = VALUES(id_contribuyente), \n",
    "            id_razon = VALUES(id_razon), \n",
    "            id_tipo = VALUES(id_tipo), \n",
    "            id_pais = VALUES(id_pais);\n",
    "        \"\"\"\n",
    "        data = (\n",
    "            row['numero'], row['nombre'], row['cuit'], row['contacto'], \n",
    "            row['mail'], row['telefono'], row['activo'], id_frecuencia, \n",
    "            id_contribuyente, id_razon, id_tipo, id_pais\n",
    "        )\n",
    "    \n",
    "        # Insert into proveedores table\n",
    "        insert_or_ignore(query, data)\n",
    "        count += 1\n",
    "    print(f\"Cantidad de filas insertadas: {count}\")\n",
    "        \n",
    "ingest_donantes(df_donantes, cursor)"
   ]
  },
  {
   "cell_type": "code",
   "execution_count": 30,
   "id": "86dced65",
   "metadata": {},
   "outputs": [
    {
     "name": "stdout",
     "output_type": "stream",
     "text": [
      "Fecth fkeys from donantes\n",
      "Fecth fkeys from cuentas\n"
     ]
    }
   ],
   "source": [
    "# Fetch id_proveedor --> se llama 'id'\n",
    "proveedor_mapping = fetch_fk(cursor, \"id\", \"numero\", \"donantes\")\n",
    "# Fetch id_cuenta\n",
    "cuenta_mapping = fetch_fk(cursor, \"id_cuenta\", \"nro_cuenta\", \"cuentas\")"
   ]
  },
  {
   "cell_type": "code",
   "execution_count": 31,
   "id": "f4235708",
   "metadata": {},
   "outputs": [
    {
     "name": "stdout",
     "output_type": "stream",
     "text": [
      "Cantidad de filas insertadas: 608\n"
     ]
    }
   ],
   "source": [
    "\n",
    "def ingest_ingresos(df: pd.DataFrame) -> None:\n",
    "    count = 0\n",
    "    # Step 8: Insert unique data into ingresos --> todo el df ya que son todas las transacciones\n",
    "    for _, row in df.iterrows():  # This should iterate through the full dataset\n",
    "        # Retrieve foreign key ids from pre-fetched mappings\n",
    "        id_donante = proveedor_mapping.get(row['numero'])\n",
    "        id_cuenta = cuenta_mapping.get(row['nro_cuenta'])\n",
    "    \n",
    "        # Only insert if foreign keys are found\n",
    "        if id_donante is not None and id_cuenta is not None:\n",
    "            query = \"\"\"\n",
    "            INSERT INTO ingresos (importe, fecha, id_donante, id_cuenta)\n",
    "            VALUES (%s, %s, %s, %s);\n",
    "            \"\"\"\n",
    "            data = (row['importe'], row['fecha'], id_donante, id_cuenta)\n",
    "            insert_or_ignore(query, data)\n",
    "            count += 1\n",
    "        else:\n",
    "            print(f\"Foreign key not found for {row['numero']} or {row['nro_cuenta']}\")\n",
    "    print(f\"Cantidad de filas insertadas: {count}\")\n",
    "\n",
    "ingest_ingresos(df2)"
   ]
  },
  {
   "cell_type": "code",
   "execution_count": 32,
   "id": "40f05451-4e60-4e03-a980-4b1c61c37fa4",
   "metadata": {},
   "outputs": [],
   "source": [
    "# Close the cursor and connection\n",
    "cursor.close()\n",
    "conn.close()"
   ]
  },
  {
   "cell_type": "markdown",
   "id": "60ce9133-4481-4ed7-a460-401424e904a0",
   "metadata": {},
   "source": [
    "## Making sure"
   ]
  },
  {
   "cell_type": "markdown",
   "id": "de0f5a83-b5db-4546-b0c4-7b8b849cce5e",
   "metadata": {},
   "source": [
    "```mysql\n",
    "## Los valores son los correctos pero faltan mas filas en la tabla transacciones\n",
    "USE db_proveedores;\n",
    "\n",
    "SELECT numero FROM proveedores WHERE id = 12;\n",
    "\n",
    "SELECT nombre, importe, fecha\n",
    "FROM transacciones \n",
    "INNER JOIN proveedores \n",
    "ON \n",
    "proveedores.id = transacciones.id_proveedor\n",
    "WHERE proveedores.id = 12;\n",
    "\n",
    "```"
   ]
  },
  {
   "cell_type": "markdown",
   "id": "7f70b435-26f2-4ffb-8a90-50726a57cdaa",
   "metadata": {},
   "source": [
    "\n",
    "| c0              | c1        | c2         |\n",
    "| --------------- | --------- | ---------- |\n",
    "| Proveedor Ltda. | 224379.00 | 2024-04-09 |\n",
    "| Proveedor Ltda. | 153447.00 | 2024-06-03 |"
   ]
  },
  {
   "cell_type": "markdown",
   "id": "07aa2953-0e01-4269-be98-bd50bced7d96",
   "metadata": {},
   "source": [
    "Puede llegar a ser que itera hasta la cantidad de proveedores unicos y el loop corta,  \n",
    "\n",
    "Hay que revisar"
   ]
  },
  {
   "cell_type": "code",
   "execution_count": 43,
   "id": "bf2c7093-7925-4b8b-8b0c-6b047e3826d1",
   "metadata": {},
   "outputs": [
    {
     "name": "stdout",
     "output_type": "stream",
     "text": [
      "/home/don/anaconda3/envs/mysql-ingestion/bin/jupyter-nbconvert:6: DeprecationWarning: Parsing dates involving a day of month without a year specified is ambiguious\n",
      "and fails to parse leap day. The default behavior will change in Python 3.15\n",
      "to either always raise an exception or to use a different default year (TBD).\n",
      "To avoid trouble, add a specific year to the input & format.\n",
      "See https://github.com/python/cpython/issues/70647.\n",
      "  from nbconvert.nbconvertapp import main\n",
      "[NbConvertApp] Converting notebook ../test-code/final-ingestion-test.ipynb to script\n",
      "[NbConvertApp] Writing 15068 bytes to ../test-code/final-ingestion-test.py\n"
     ]
    }
   ],
   "source": [
    "# !pwd\n",
    "# !jupyter nbconvert --to script ../test-code/final-ingestion-test.ipynb"
   ]
  }
 ],
 "metadata": {
  "kernelspec": {
   "display_name": "Python 3 (ipykernel)",
   "language": "python",
   "name": "python3"
  },
  "language_info": {
   "codemirror_mode": {
    "name": "ipython",
    "version": 3
   },
   "file_extension": ".py",
   "mimetype": "text/x-python",
   "name": "python",
   "nbconvert_exporter": "python",
   "pygments_lexer": "ipython3",
   "version": "3.11.5"
  }
 },
 "nbformat": 4,
 "nbformat_minor": 5
}
