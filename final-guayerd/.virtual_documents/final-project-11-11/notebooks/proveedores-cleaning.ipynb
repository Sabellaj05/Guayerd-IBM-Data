import os
from pathlib import Path
import pandas as pd
import numpy as np


data_dir = Path.cwd().parent / "data" /  "merged"
datos = "proveedores_final-merged.csv"
data = data_dir / datos
df = pd.read_csv(data)
np.random.seed(42)
df.sample(3)





df.info()


df["Categoria Proveedor"] = df["Categoria Proveedor"].str.replace("Servicos", "Servicios")
df["Categoria Proveedor"].unique()


mask = df["Numero Proveedor"].str.startswith("D")
df.loc[mask, "Numero Proveedor"] = df.loc[mask, "Numero Proveedor"].str.replace("D", "P")


df[df["Numero Proveedor"].str.startswith("D")]["Numero Proveedor"]


# datetime
df["Fecha"].sample(2)


fc = "Fecha"
df[fc] = pd.to_datetime(df[fc], format='mixed', dayfirst=True).dt.strftime('%Y/%m/%d')
df[fc] = pd.to_datetime(df[fc])
df[fc].tail()


df = df.drop(["Pais", "Maps", "Ciudad-maps"], axis=1)
df.rename(columns={"Corre Electronico": "Correo Electronico"}, inplace=True)
df.info()


df





df["Razon Social"].value_counts()


df["Razon Social"].str.rstrip(".").str.replace("Sociedad Anónima", "S.A").value_counts()


df["Razon Social"] = df["Razon Social"].str.rstrip(".").str.replace("Sociedad Anónima", "S.A")








data_dir = Path.cwd().parent / "data" / "cleaned"
data_clean = data_dir / "proveedores-clean.csv"
df.to_csv(data_clean, index=False)
!ls {data_dir}


test  = pd.read_csv(data_clean)
test.info()
