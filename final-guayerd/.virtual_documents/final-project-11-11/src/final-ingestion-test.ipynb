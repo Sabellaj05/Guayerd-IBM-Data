


import os
from dotenv import load_dotenv
import pandas as pd
import numpy as np
from mysql.connector import connect, Error, IntegrityError
from pathlib import Path





pwd = Path.cwd()
data_prov = pwd.parent / "data" / / "cleaned" / "proveedores-clean.csv"
data_donan = pwd.parent / "data" / "cleaned" / "donantes-clean.csv"
df = pd.read_csv(data_prov)
df2 = pd.read_csv(data_donan)
np.random.seed(42)


df.sample(3)


df2.sample(3)








load_dotenv()
db_config = {
    "host": os.getenv("DATABASE_HOST"),   ## gateway of container
    "user": os.getenv("DATABASE_USER"),
    "password": os.getenv("DATABASE_PASSWORD"),
    "database": os.getenv("DATABASE_NAME")
}
def create_connection(db_config):
    conn = None
    try:
        conn = connect(**db_config)   # < --
        if conn.is_connected():
            print("Conectadisimo")
    except Error as e:
        print(f"Error: {e}")
    return conn

# conn = mysql.connector.connect(**db_config)
# cursor = conn.cursor(buffered=True)
conn = create_connection(db_config)


# Funcion para insertar los datos, evitar duplicados y corregir error de tipo de dato
def insert_or_ignore(query: str, data: tuple) -> None:
    # Importante que el `dato` sea una tupla en forma de `(value,)`
    # si es que los datos vienen de una sola columna
    try:
        data = tuple(int(x) if isinstance(x, (np.integer)) else x for x in data) # para Nro_Cuenta
        cursor.execute(query, data)
        conn.commit()
    except IntegrityError as e:
        print(f"Error: {e}")


# Creamos el cursor
def crear_cursor(conn):    
    try:
        cursor = conn.cursor(buffered=True)
    except Error as e:
        print(f"Error: {e}")
    return cursor
cursor = crear_cursor(conn)





rename_cols = {"Numero Proveedor": "numero",
                   "Nombre Proveedor": "nombre",
                   "CUIT": "cuit",
                   "Contacto": "contacto",
                   "Correo Electronico": "mail",
                   "Telefono": "telefono",
                   "Categoria Proveedor": "categoria",
                   "Tipo de Contribuyente": "contribuyente",
                   "Razon Social": "razon",
                   "Ciudad": "ciudad",
                   "Nro_Cuenta": "nro_cuenta",
                   "Importe": "importe",
                   "Fecha": "fecha",}

df.rename(columns=rename_cols, inplace=True)






df.columns





def ingest_table(df: pd.DataFrame, table: str, col_name: str) -> None:
    count = 0
    unique_table = df[col_name].unique()
    for value in unique_table:
        query = f"""
        INSERT INTO `{table}` (`{col_name}`) VALUES (%s)
        ON DUPLICATE KEY UPDATE `{col_name}`=VALUES(`{col_name}`);
        """
        insert_or_ignore(query, (value,)) ## placeholder (%s)
        count += 1
    print(f"Cantidad de filas insertadas en {table}: {count}")



def get_all_tables(cursor):
    cursor.execute("SHOW TABLES")
    tables = cursor.fetchall()
    return [table[0] for table in tables]

# Usage
all_tables = get_all_tables(cursor)
print("All tables:", all_tables)








# los datos deberian venir de un archivo de configuracion imagino
table_to_col = {"categoria_proveedores": "categoria",
                "tipo_contribuyentes": "contribuyente",
                "razones_sociales": "razon",
                "ciudades": "ciudad",
                "cuentas": "nro_cuenta"}

for table, col in table_to_col.items():
    ingest_table(df, table, col)


tuple(table_to_col.items())





# datos unicos de los proveedores basado en el numero
df_proveedores = df.drop_duplicates(subset='numero')
como = "numero"
print(f"len df: {len(df)}")
print(f'dfpro: {df_proveedores[como].count()}, df: {df[como].count()}')
print(f'dfpro: {df_proveedores[como].nunique()}, df: {df[como].nunique()}')





# funciona para mapear las foreign keys con la columna pertinente
def fetch_fk(cursor, id, col, table) -> dict:
    try:
        cursor.execute(f"SELECT `{id}`, `{col}` FROM `{table}`")
    except Exception as e:
        print(f"Error {e}")
    mapping = {col: id for id, col in cursor.fetchall()}
    print(f"Fecth fkeys from {table}")
    return mapping

# complicandola de chill
# traer las fk de todas las tablas que tengan
list_fk = ["id_categoria", "id_contribuyente", "id_razon", "id_ciudad"]
table_cols: tuple[tuple] = tuple(table_to_col.items())


# Agarramos todas las foreign keys y las guardamos para hacerlo mas rapido
# Fetch id_categoria    
categoria_mapping = fetch_fk(cursor, list_fk[0], table_cols[0][1], table_cols[0][0])
# # Fetch id_contribuyente
contribuyente_mapping = fetch_fk(cursor, list_fk[1], table_cols[1][1], table_cols[1][0])
# # Fetch id_razon
razon_mapping = fetch_fk(cursor, list_fk[2], table_cols[2][1], table_cols[2][0])
# # Fetch id_ciudad
ciudades_mapping = fetch_fk(cursor, list_fk[3], table_cols[3][1], table_cols[3][0])


def ingest_proveedores(df_proveedores: pd.DataFrame, cursor) -> None:
    # to test
    count = 0
    # Step 6: Insert unique data into proveedores
    for _, row in df_proveedores.iterrows():
        # Agarramos la foreign key que mapee con el valor de la fila en cuestion
        id_categoria = categoria_mapping.get(row['categoria'])
        id_contribuyente = contribuyente_mapping.get(row['contribuyente'])
        id_razon = razon_mapping.get(row['razon'])
        id_ciudad = ciudades_mapping.get(row['ciudad'])
    
        query = """
        INSERT INTO proveedores (numero, nombre, cuit, contacto, mail, telefono, id_categoria, id_contribuyente, id_razon, id_ciudad)
        VALUES (%s, %s, %s, %s, %s, %s, %s, %s, %s, %s)
        ON DUPLICATE KEY UPDATE 
            nombre = VALUES(nombre), 
            cuit = VALUES(cuit), 
            contacto = VALUES(contacto), 
            mail = VALUES(mail), 
            telefono = VALUES(telefono), 
            id_categoria = VALUES(id_categoria), 
            id_contribuyente = VALUES(id_contribuyente), 
            id_razon = VALUES(id_razon), 
            id_ciudad = VALUES(id_ciudad);
        """
        data = (
            row['numero'], row['nombre'], row['cuit'], row['contacto'], 
            row['mail'], row['telefono'], id_categoria, 
            id_contribuyente, id_razon, id_ciudad
        )
    
        # Insert into proveedores table
        insert_or_ignore(query, data)
        count += 1
        #insert_or_ignore(query, (ciudad,))
    print(f"Cantidad de filas insertadas: {count}")
        
ingest_proveedores(df_proveedores, cursor)


# Fetch id_proveedor --> se llama 'id'
proveedor_mapping = fetch_fk(cursor, "id", "numero", "proveedores")
# Fetch id_cuenta
cuenta_mapping = fetch_fk(cursor, "id_cuenta", "nro_cuenta", "cuentas")


def ingest_gastos(df: pd.DataFrame) -> None:
    count = 0
    # Step 8: Insert unique data into gastos --> todo el df ya que son todas las transacciones
    for _, row in df.iterrows():  # This should iterate through the full dataset
        # Retrieve foreign key ids from pre-fetched mappings
        id_proveedor = proveedor_mapping.get(row['numero'])
        id_cuenta = cuenta_mapping.get(row['nro_cuenta'])
    
        # Only insert if foreign keys are found
        if id_proveedor is not None and id_cuenta is not None:
            query = """
            INSERT INTO gastos (importe, fecha, id_proveedor, id_cuenta)
            VALUES (%s, %s, %s, %s);
            """
            data = (row['importe'], row['fecha'], id_proveedor, id_cuenta)
            insert_or_ignore(query, data)
            count += 1
        else:
            print(f"Foreign key not found for {row['numero']} or {row['nro_cuenta']}")
    print(f"Cantidad de filas insertadas: {count}")

ingest_gastos(df)








l1 = all_tables
l2 = df2.columns.to_list()
l1.extend([np.nan] * (len(l2) - len(l1)))
temp_df = pd.DataFrame({"col_df": l2, "tablas_db": l1})
temp_df




rename_cols = {"Numero": "numero",
                   "Nombre": "nombre",
                   "CUIT": "cuit",
                   "Contacto": "contacto",
                   "Correo Electronico": "mail",
                   "Telefono": "telefono",
                   "Frecuencia": "frecuencia",
                   "Tipo de Contribuyente": "contribuyente",
                   "Tipo": "tipo",
                   "Activo": "activo",
                   "Razon Social": "razon",
                   "Pais": "pais",
                   "Nro de Cuenta": "nro_cuenta",
                   "Importe": "importe",
                   "Fecha": "fecha",}

df2.rename(columns=rename_cols, inplace=True)


df2.columns





# los datos deberian venir de un archivo de configuracion imagino
# tabla: columna
table_to_col = {"frecuencias": "frecuencia",
                "tipo_contribuyentes": "contribuyente",
                "razones_sociales": "razon",
                "tipos": "tipo",
                "paises": "pais",
                "cuentas": "nro_cuenta"}

for table, col in table_to_col.items():
    ingest_table(df2, table, col)






# datos unicos de los proveedores basado en el numero
df_donantes = df2.drop_duplicates(subset='numero')
como = "numero"
print(f"len df: {len(df2)}")
print(f'dfpro: {df_donantes[como].count()}, df: {df2[como].count()}')
print(f'dfpro: {df_donantes[como].nunique()}, df: {df2[como].nunique()}')





razon_mapping = fetch_fk(cursor, id="id_razon", col="razon", table="razones_sociales")
contribuyente_mapping = fetch_fk(cursor, id="id_contribuyente", col="contribuyente", table="tipo_contribuyentes")

tipo_mapping = fetch_fk(cursor, id="id_tipo", col="tipo", table="tipos")
pais_mapping = fetch_fk(cursor, id="id_pais", col="pais", table="paises")
frecuencia_mapping = fetch_fk(cursor, id="id_frecuencia", col="frecuencia", table="frecuencias")



ke = 0
for _, row in df_donantes.iterrows():
    frecuencia_mapping.get(row['frecuencia'])
    ke += 1
print(ke, df_donantes['frecuencia'].count())


def sort_dict(dictio: dict) -> dict:
    return dict(sorted(dictio.items(), key=lambda item: item[1]))

print(sort_dict(frecuencia_mapping))


df_donantes.iloc[:3, :]



def ingest_donantes(df_donantes: pd.DataFrame, cursor) -> None:
    # to test
    df_donantes = df_donantes.reset_index(drop=True)
    count = 0
    # Step 6: Insert unique data into proveedores
    for _, row in df_donantes.iterrows():
        # Agarramos la foreign key que mapee con el valor de la fila en cuestion
        id_frecuencia = frecuencia_mapping.get(row['frecuencia'])
        id_contribuyente = contribuyente_mapping.get(row['contribuyente'])
        id_razon = razon_mapping.get(row['razon'])
        id_tipo = tipo_mapping.get(row['tipo'])
        id_pais = pais_mapping.get(row['pais'])
    
        query = """
        INSERT INTO donantes (numero, nombre, cuit, contacto, mail, telefono, activo, id_frecuencia, id_contribuyente, id_razon, id_tipo, id_pais)
        VALUES (%s, %s, %s, %s, %s, %s, %s, %s, %s, %s, %s, %s)
        ON DUPLICATE KEY UPDATE 
            nombre = VALUES(nombre), 
            cuit = VALUES(cuit), 
            contacto = VALUES(contacto), 
            mail = VALUES(mail), 
            activo = VALUES(activo), 
            telefono = VALUES(telefono), 
            id_frecuencia = VALUES(id_frecuencia), 
            id_contribuyente = VALUES(id_contribuyente), 
            id_razon = VALUES(id_razon), 
            id_tipo = VALUES(id_tipo), 
            id_pais = VALUES(id_pais);
        """
        data = (
            row['numero'], row['nombre'], row['cuit'], row['contacto'], 
            row['mail'], row['telefono'], row['activo'], id_frecuencia, 
            id_contribuyente, id_razon, id_tipo, id_pais
        )
    
        # Insert into proveedores table
        insert_or_ignore(query, data)
        count += 1
    print(f"Cantidad de filas insertadas: {count}")
        
ingest_donantes(df_donantes, cursor)


# Fetch id_proveedor --> se llama 'id'
proveedor_mapping = fetch_fk(cursor, "id", "numero", "donantes")
# Fetch id_cuenta
cuenta_mapping = fetch_fk(cursor, "id_cuenta", "nro_cuenta", "cuentas")



def ingest_ingresos(df: pd.DataFrame) -> None:
    count = 0
    # Step 8: Insert unique data into ingresos --> todo el df ya que son todas las transacciones
    for _, row in df.iterrows():  # This should iterate through the full dataset
        # Retrieve foreign key ids from pre-fetched mappings
        id_donante = proveedor_mapping.get(row['numero'])
        id_cuenta = cuenta_mapping.get(row['nro_cuenta'])
    
        # Only insert if foreign keys are found
        if id_donante is not None and id_cuenta is not None:
            query = """
            INSERT INTO ingresos (importe, fecha, id_donante, id_cuenta)
            VALUES (%s, %s, %s, %s);
            """
            data = (row['importe'], row['fecha'], id_donante, id_cuenta)
            insert_or_ignore(query, data)
            count += 1
        else:
            print(f"Foreign key not found for {row['numero']} or {row['nro_cuenta']}")
    print(f"Cantidad de filas insertadas: {count}")

ingest_ingresos(df2)


# Close the cursor and connection
cursor.close()
conn.close()














# !pwd
# !jupyter nbconvert --to script ../test-code/final-ingestion-test.ipynb
